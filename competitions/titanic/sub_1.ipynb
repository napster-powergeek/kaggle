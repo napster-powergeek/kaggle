{
 "cells": [
  {
   "cell_type": "code",
   "execution_count": 11,
   "metadata": {},
   "outputs": [
    {
     "data": {
      "text/html": [
       "        <script type=\"text/javascript\">\n",
       "        window.PlotlyConfig = {MathJaxConfig: 'local'};\n",
       "        if (window.MathJax) {MathJax.Hub.Config({SVG: {font: \"STIX-Web\"}});}\n",
       "        if (typeof require !== 'undefined') {\n",
       "        require.undef(\"plotly\");\n",
       "        requirejs.config({\n",
       "            paths: {\n",
       "                'plotly': ['https://cdn.plot.ly/plotly-latest.min']\n",
       "            }\n",
       "        });\n",
       "        require(['plotly'], function(Plotly) {\n",
       "            window._Plotly = Plotly;\n",
       "        });\n",
       "        }\n",
       "        </script>\n",
       "        "
      ]
     },
     "metadata": {},
     "output_type": "display_data"
    }
   ],
   "source": [
    "# Python libraries\n",
    "# Classic,data manipulation and linear algebra\n",
    "import pandas as pd\n",
    "import numpy as np\n",
    "\n",
    "# Plots\n",
    "import seaborn as sns\n",
    "import matplotlib.pyplot as plt\n",
    "%matplotlib inline\n",
    "import plotly.offline as py\n",
    "import plotly.graph_objs as go\n",
    "from plotly.offline import download_plotlyjs, init_notebook_mode, plot, iplot\n",
    "import plotly.tools as tls\n",
    "import plotly.figure_factory as ff\n",
    "py.init_notebook_mode(connected=True)\n",
    "import squarify\n",
    "\n",
    "# Data processing, metrics and modeling\n",
    "from sklearn.preprocessing import StandardScaler, LabelEncoder\n",
    "from sklearn.model_selection import GridSearchCV, cross_val_score, train_test_split, GridSearchCV, RandomizedSearchCV\n",
    "from sklearn.metrics import precision_score, recall_score, confusion_matrix,  roc_curve, precision_recall_curve, accuracy_score, roc_auc_score\n",
    "import lightgbm as lgbm\n",
    "\n",
    "# Stats\n",
    "import scipy.stats as ss\n",
    "from scipy.stats import randint as sp_randint\n",
    "from scipy.stats import uniform as sp_uniform\n",
    "\n",
    "# Time\n",
    "from contextlib import contextmanager\n",
    "@contextmanager\n",
    "def timer(title):\n",
    "    t0 = time.time()\n",
    "    yield\n",
    "    print(\"{} - done in {:.0f}s\".format(title, time.time() - t0))\n",
    "\n",
    "#ignore warning messages \n",
    "import warnings\n",
    "warnings.filterwarnings('ignore') "
   ]
  },
  {
   "cell_type": "code",
   "execution_count": 12,
   "metadata": {},
   "outputs": [],
   "source": [
    "train = pd.read_csv(\"C:/Users/udbha/Desktop/Python/competitions/titanic/data/train.csv\")\n",
    "test = pd.read_csv(\"C:/Users/udbha/Desktop/Python/competitions/titanic/data/test.csv\")"
   ]
  },
  {
   "cell_type": "code",
   "execution_count": 13,
   "metadata": {},
   "outputs": [
    {
     "data": {
      "text/plain": [
       "(1309, 13)"
      ]
     },
     "execution_count": 13,
     "metadata": {},
     "output_type": "execute_result"
    }
   ],
   "source": [
    "# Adding a column in each dataset before merging\n",
    "train['Type'] = 'train'\n",
    "test['Type'] = 'test'\n",
    "\n",
    "# Merging train and test\n",
    "data = train.append(test) # The entire data: train + test.\n",
    "\n",
    "# How many rows and columns in dataset\n",
    "data.shape"
   ]
  },
  {
   "cell_type": "code",
   "execution_count": 14,
   "metadata": {},
   "outputs": [],
   "source": [
    "# Defining missing plot to detect all missing values in dataset\n",
    "def missing_plot(dataset, key) :\n",
    "    null_feat = pd.DataFrame(len(dataset[key]) - dataset.isnull().sum(), columns = ['Count'])\n",
    "    percentage_null = pd.DataFrame((len(dataset[key]) - (len(dataset[key]) - dataset.isnull().sum()))/len(dataset[key])*100, columns = ['Count'])\n",
    "    percentage_null = percentage_null.round(2)\n",
    "\n",
    "    trace = go.Bar(x = null_feat.index, y = null_feat['Count'] ,opacity = 0.8, text = percentage_null['Count'],  textposition = 'auto',marker=dict(color = '#7EC0EE',\n",
    "            line=dict(color='#000000',width=1.5)))\n",
    "\n",
    "    layout = dict(title =  \"Missing Values (count & %)\")\n",
    "\n",
    "    fig = dict(data = [trace], layout=layout)\n",
    "    py.iplot(fig)"
   ]
  },
  {
   "cell_type": "code",
   "execution_count": 15,
   "metadata": {},
   "outputs": [
    {
     "data": {
      "application/vnd.plotly.v1+json": {
       "config": {
        "linkText": "Export to plot.ly",
        "plotlyServerURL": "https://plot.ly",
        "showLink": false
       },
       "data": [
        {
         "marker": {
          "color": "#7EC0EE",
          "line": {
           "color": "#000000",
           "width": 1.5
          }
         },
         "opacity": 0.8,
         "text": [
          20.09,
          77.46,
          0.15,
          0.08,
          0,
          0,
          0,
          0,
          0,
          0,
          31.93,
          0,
          0
         ],
         "textposition": "auto",
         "type": "bar",
         "x": [
          "Age",
          "Cabin",
          "Embarked",
          "Fare",
          "Name",
          "Parch",
          "PassengerId",
          "Pclass",
          "Sex",
          "SibSp",
          "Survived",
          "Ticket",
          "Type"
         ],
         "y": [
          1046,
          295,
          1307,
          1308,
          1309,
          1309,
          1309,
          1309,
          1309,
          1309,
          891,
          1309,
          1309
         ]
        }
       ],
       "layout": {
        "template": {
         "data": {
          "bar": [
           {
            "error_x": {
             "color": "#2a3f5f"
            },
            "error_y": {
             "color": "#2a3f5f"
            },
            "marker": {
             "line": {
              "color": "#E5ECF6",
              "width": 0.5
             }
            },
            "type": "bar"
           }
          ],
          "barpolar": [
           {
            "marker": {
             "line": {
              "color": "#E5ECF6",
              "width": 0.5
             }
            },
            "type": "barpolar"
           }
          ],
          "carpet": [
           {
            "aaxis": {
             "endlinecolor": "#2a3f5f",
             "gridcolor": "white",
             "linecolor": "white",
             "minorgridcolor": "white",
             "startlinecolor": "#2a3f5f"
            },
            "baxis": {
             "endlinecolor": "#2a3f5f",
             "gridcolor": "white",
             "linecolor": "white",
             "minorgridcolor": "white",
             "startlinecolor": "#2a3f5f"
            },
            "type": "carpet"
           }
          ],
          "choropleth": [
           {
            "colorbar": {
             "outlinewidth": 0,
             "ticks": ""
            },
            "type": "choropleth"
           }
          ],
          "contour": [
           {
            "colorbar": {
             "outlinewidth": 0,
             "ticks": ""
            },
            "colorscale": [
             [
              0,
              "#0d0887"
             ],
             [
              0.1111111111111111,
              "#46039f"
             ],
             [
              0.2222222222222222,
              "#7201a8"
             ],
             [
              0.3333333333333333,
              "#9c179e"
             ],
             [
              0.4444444444444444,
              "#bd3786"
             ],
             [
              0.5555555555555556,
              "#d8576b"
             ],
             [
              0.6666666666666666,
              "#ed7953"
             ],
             [
              0.7777777777777778,
              "#fb9f3a"
             ],
             [
              0.8888888888888888,
              "#fdca26"
             ],
             [
              1,
              "#f0f921"
             ]
            ],
            "type": "contour"
           }
          ],
          "contourcarpet": [
           {
            "colorbar": {
             "outlinewidth": 0,
             "ticks": ""
            },
            "type": "contourcarpet"
           }
          ],
          "heatmap": [
           {
            "colorbar": {
             "outlinewidth": 0,
             "ticks": ""
            },
            "colorscale": [
             [
              0,
              "#0d0887"
             ],
             [
              0.1111111111111111,
              "#46039f"
             ],
             [
              0.2222222222222222,
              "#7201a8"
             ],
             [
              0.3333333333333333,
              "#9c179e"
             ],
             [
              0.4444444444444444,
              "#bd3786"
             ],
             [
              0.5555555555555556,
              "#d8576b"
             ],
             [
              0.6666666666666666,
              "#ed7953"
             ],
             [
              0.7777777777777778,
              "#fb9f3a"
             ],
             [
              0.8888888888888888,
              "#fdca26"
             ],
             [
              1,
              "#f0f921"
             ]
            ],
            "type": "heatmap"
           }
          ],
          "heatmapgl": [
           {
            "colorbar": {
             "outlinewidth": 0,
             "ticks": ""
            },
            "colorscale": [
             [
              0,
              "#0d0887"
             ],
             [
              0.1111111111111111,
              "#46039f"
             ],
             [
              0.2222222222222222,
              "#7201a8"
             ],
             [
              0.3333333333333333,
              "#9c179e"
             ],
             [
              0.4444444444444444,
              "#bd3786"
             ],
             [
              0.5555555555555556,
              "#d8576b"
             ],
             [
              0.6666666666666666,
              "#ed7953"
             ],
             [
              0.7777777777777778,
              "#fb9f3a"
             ],
             [
              0.8888888888888888,
              "#fdca26"
             ],
             [
              1,
              "#f0f921"
             ]
            ],
            "type": "heatmapgl"
           }
          ],
          "histogram": [
           {
            "marker": {
             "colorbar": {
              "outlinewidth": 0,
              "ticks": ""
             }
            },
            "type": "histogram"
           }
          ],
          "histogram2d": [
           {
            "colorbar": {
             "outlinewidth": 0,
             "ticks": ""
            },
            "colorscale": [
             [
              0,
              "#0d0887"
             ],
             [
              0.1111111111111111,
              "#46039f"
             ],
             [
              0.2222222222222222,
              "#7201a8"
             ],
             [
              0.3333333333333333,
              "#9c179e"
             ],
             [
              0.4444444444444444,
              "#bd3786"
             ],
             [
              0.5555555555555556,
              "#d8576b"
             ],
             [
              0.6666666666666666,
              "#ed7953"
             ],
             [
              0.7777777777777778,
              "#fb9f3a"
             ],
             [
              0.8888888888888888,
              "#fdca26"
             ],
             [
              1,
              "#f0f921"
             ]
            ],
            "type": "histogram2d"
           }
          ],
          "histogram2dcontour": [
           {
            "colorbar": {
             "outlinewidth": 0,
             "ticks": ""
            },
            "colorscale": [
             [
              0,
              "#0d0887"
             ],
             [
              0.1111111111111111,
              "#46039f"
             ],
             [
              0.2222222222222222,
              "#7201a8"
             ],
             [
              0.3333333333333333,
              "#9c179e"
             ],
             [
              0.4444444444444444,
              "#bd3786"
             ],
             [
              0.5555555555555556,
              "#d8576b"
             ],
             [
              0.6666666666666666,
              "#ed7953"
             ],
             [
              0.7777777777777778,
              "#fb9f3a"
             ],
             [
              0.8888888888888888,
              "#fdca26"
             ],
             [
              1,
              "#f0f921"
             ]
            ],
            "type": "histogram2dcontour"
           }
          ],
          "mesh3d": [
           {
            "colorbar": {
             "outlinewidth": 0,
             "ticks": ""
            },
            "type": "mesh3d"
           }
          ],
          "parcoords": [
           {
            "line": {
             "colorbar": {
              "outlinewidth": 0,
              "ticks": ""
             }
            },
            "type": "parcoords"
           }
          ],
          "scatter": [
           {
            "marker": {
             "colorbar": {
              "outlinewidth": 0,
              "ticks": ""
             }
            },
            "type": "scatter"
           }
          ],
          "scatter3d": [
           {
            "line": {
             "colorbar": {
              "outlinewidth": 0,
              "ticks": ""
             }
            },
            "marker": {
             "colorbar": {
              "outlinewidth": 0,
              "ticks": ""
             }
            },
            "type": "scatter3d"
           }
          ],
          "scattercarpet": [
           {
            "marker": {
             "colorbar": {
              "outlinewidth": 0,
              "ticks": ""
             }
            },
            "type": "scattercarpet"
           }
          ],
          "scattergeo": [
           {
            "marker": {
             "colorbar": {
              "outlinewidth": 0,
              "ticks": ""
             }
            },
            "type": "scattergeo"
           }
          ],
          "scattergl": [
           {
            "marker": {
             "colorbar": {
              "outlinewidth": 0,
              "ticks": ""
             }
            },
            "type": "scattergl"
           }
          ],
          "scattermapbox": [
           {
            "marker": {
             "colorbar": {
              "outlinewidth": 0,
              "ticks": ""
             }
            },
            "type": "scattermapbox"
           }
          ],
          "scatterpolar": [
           {
            "marker": {
             "colorbar": {
              "outlinewidth": 0,
              "ticks": ""
             }
            },
            "type": "scatterpolar"
           }
          ],
          "scatterpolargl": [
           {
            "marker": {
             "colorbar": {
              "outlinewidth": 0,
              "ticks": ""
             }
            },
            "type": "scatterpolargl"
           }
          ],
          "scatterternary": [
           {
            "marker": {
             "colorbar": {
              "outlinewidth": 0,
              "ticks": ""
             }
            },
            "type": "scatterternary"
           }
          ],
          "surface": [
           {
            "colorbar": {
             "outlinewidth": 0,
             "ticks": ""
            },
            "colorscale": [
             [
              0,
              "#0d0887"
             ],
             [
              0.1111111111111111,
              "#46039f"
             ],
             [
              0.2222222222222222,
              "#7201a8"
             ],
             [
              0.3333333333333333,
              "#9c179e"
             ],
             [
              0.4444444444444444,
              "#bd3786"
             ],
             [
              0.5555555555555556,
              "#d8576b"
             ],
             [
              0.6666666666666666,
              "#ed7953"
             ],
             [
              0.7777777777777778,
              "#fb9f3a"
             ],
             [
              0.8888888888888888,
              "#fdca26"
             ],
             [
              1,
              "#f0f921"
             ]
            ],
            "type": "surface"
           }
          ],
          "table": [
           {
            "cells": {
             "fill": {
              "color": "#EBF0F8"
             },
             "line": {
              "color": "white"
             }
            },
            "header": {
             "fill": {
              "color": "#C8D4E3"
             },
             "line": {
              "color": "white"
             }
            },
            "type": "table"
           }
          ]
         },
         "layout": {
          "annotationdefaults": {
           "arrowcolor": "#2a3f5f",
           "arrowhead": 0,
           "arrowwidth": 1
          },
          "colorscale": {
           "diverging": [
            [
             0,
             "#8e0152"
            ],
            [
             0.1,
             "#c51b7d"
            ],
            [
             0.2,
             "#de77ae"
            ],
            [
             0.3,
             "#f1b6da"
            ],
            [
             0.4,
             "#fde0ef"
            ],
            [
             0.5,
             "#f7f7f7"
            ],
            [
             0.6,
             "#e6f5d0"
            ],
            [
             0.7,
             "#b8e186"
            ],
            [
             0.8,
             "#7fbc41"
            ],
            [
             0.9,
             "#4d9221"
            ],
            [
             1,
             "#276419"
            ]
           ],
           "sequential": [
            [
             0,
             "#0d0887"
            ],
            [
             0.1111111111111111,
             "#46039f"
            ],
            [
             0.2222222222222222,
             "#7201a8"
            ],
            [
             0.3333333333333333,
             "#9c179e"
            ],
            [
             0.4444444444444444,
             "#bd3786"
            ],
            [
             0.5555555555555556,
             "#d8576b"
            ],
            [
             0.6666666666666666,
             "#ed7953"
            ],
            [
             0.7777777777777778,
             "#fb9f3a"
            ],
            [
             0.8888888888888888,
             "#fdca26"
            ],
            [
             1,
             "#f0f921"
            ]
           ],
           "sequentialminus": [
            [
             0,
             "#0d0887"
            ],
            [
             0.1111111111111111,
             "#46039f"
            ],
            [
             0.2222222222222222,
             "#7201a8"
            ],
            [
             0.3333333333333333,
             "#9c179e"
            ],
            [
             0.4444444444444444,
             "#bd3786"
            ],
            [
             0.5555555555555556,
             "#d8576b"
            ],
            [
             0.6666666666666666,
             "#ed7953"
            ],
            [
             0.7777777777777778,
             "#fb9f3a"
            ],
            [
             0.8888888888888888,
             "#fdca26"
            ],
            [
             1,
             "#f0f921"
            ]
           ]
          },
          "colorway": [
           "#636efa",
           "#EF553B",
           "#00cc96",
           "#ab63fa",
           "#FFA15A",
           "#19d3f3",
           "#FF6692",
           "#B6E880",
           "#FF97FF",
           "#FECB52"
          ],
          "font": {
           "color": "#2a3f5f"
          },
          "geo": {
           "bgcolor": "white",
           "lakecolor": "white",
           "landcolor": "#E5ECF6",
           "showlakes": true,
           "showland": true,
           "subunitcolor": "white"
          },
          "hoverlabel": {
           "align": "left"
          },
          "hovermode": "closest",
          "mapbox": {
           "style": "light"
          },
          "paper_bgcolor": "white",
          "plot_bgcolor": "#E5ECF6",
          "polar": {
           "angularaxis": {
            "gridcolor": "white",
            "linecolor": "white",
            "ticks": ""
           },
           "bgcolor": "#E5ECF6",
           "radialaxis": {
            "gridcolor": "white",
            "linecolor": "white",
            "ticks": ""
           }
          },
          "scene": {
           "xaxis": {
            "backgroundcolor": "#E5ECF6",
            "gridcolor": "white",
            "gridwidth": 2,
            "linecolor": "white",
            "showbackground": true,
            "ticks": "",
            "zerolinecolor": "white"
           },
           "yaxis": {
            "backgroundcolor": "#E5ECF6",
            "gridcolor": "white",
            "gridwidth": 2,
            "linecolor": "white",
            "showbackground": true,
            "ticks": "",
            "zerolinecolor": "white"
           },
           "zaxis": {
            "backgroundcolor": "#E5ECF6",
            "gridcolor": "white",
            "gridwidth": 2,
            "linecolor": "white",
            "showbackground": true,
            "ticks": "",
            "zerolinecolor": "white"
           }
          },
          "shapedefaults": {
           "line": {
            "color": "#2a3f5f"
           }
          },
          "ternary": {
           "aaxis": {
            "gridcolor": "white",
            "linecolor": "white",
            "ticks": ""
           },
           "baxis": {
            "gridcolor": "white",
            "linecolor": "white",
            "ticks": ""
           },
           "bgcolor": "#E5ECF6",
           "caxis": {
            "gridcolor": "white",
            "linecolor": "white",
            "ticks": ""
           }
          },
          "title": {
           "x": 0.05
          },
          "xaxis": {
           "automargin": true,
           "gridcolor": "white",
           "linecolor": "white",
           "ticks": "",
           "zerolinecolor": "white",
           "zerolinewidth": 2
          },
          "yaxis": {
           "automargin": true,
           "gridcolor": "white",
           "linecolor": "white",
           "ticks": "",
           "zerolinecolor": "white",
           "zerolinewidth": 2
          }
         }
        },
        "title": {
         "text": "Missing Values (count & %)"
        }
       }
      },
      "text/html": [
       "<div>\n",
       "        \n",
       "        \n",
       "            <div id=\"82f6db9b-b636-4cf9-b9be-2d662f4124d3\" class=\"plotly-graph-div\" style=\"height:525px; width:100%;\"></div>\n",
       "            <script type=\"text/javascript\">\n",
       "                require([\"plotly\"], function(Plotly) {\n",
       "                    window.PLOTLYENV=window.PLOTLYENV || {};\n",
       "                    \n",
       "                if (document.getElementById(\"82f6db9b-b636-4cf9-b9be-2d662f4124d3\")) {\n",
       "                    Plotly.newPlot(\n",
       "                        '82f6db9b-b636-4cf9-b9be-2d662f4124d3',\n",
       "                        [{\"marker\": {\"color\": \"#7EC0EE\", \"line\": {\"color\": \"#000000\", \"width\": 1.5}}, \"opacity\": 0.8, \"text\": [20.09, 77.46, 0.15, 0.08, 0.0, 0.0, 0.0, 0.0, 0.0, 0.0, 31.93, 0.0, 0.0], \"textposition\": \"auto\", \"type\": \"bar\", \"x\": [\"Age\", \"Cabin\", \"Embarked\", \"Fare\", \"Name\", \"Parch\", \"PassengerId\", \"Pclass\", \"Sex\", \"SibSp\", \"Survived\", \"Ticket\", \"Type\"], \"y\": [1046, 295, 1307, 1308, 1309, 1309, 1309, 1309, 1309, 1309, 891, 1309, 1309]}],\n",
       "                        {\"template\": {\"data\": {\"bar\": [{\"error_x\": {\"color\": \"#2a3f5f\"}, \"error_y\": {\"color\": \"#2a3f5f\"}, \"marker\": {\"line\": {\"color\": \"#E5ECF6\", \"width\": 0.5}}, \"type\": \"bar\"}], \"barpolar\": [{\"marker\": {\"line\": {\"color\": \"#E5ECF6\", \"width\": 0.5}}, \"type\": \"barpolar\"}], \"carpet\": [{\"aaxis\": {\"endlinecolor\": \"#2a3f5f\", \"gridcolor\": \"white\", \"linecolor\": \"white\", \"minorgridcolor\": \"white\", \"startlinecolor\": \"#2a3f5f\"}, \"baxis\": {\"endlinecolor\": \"#2a3f5f\", \"gridcolor\": \"white\", \"linecolor\": \"white\", \"minorgridcolor\": \"white\", \"startlinecolor\": \"#2a3f5f\"}, \"type\": \"carpet\"}], \"choropleth\": [{\"colorbar\": {\"outlinewidth\": 0, \"ticks\": \"\"}, \"type\": \"choropleth\"}], \"contour\": [{\"colorbar\": {\"outlinewidth\": 0, \"ticks\": \"\"}, \"colorscale\": [[0.0, \"#0d0887\"], [0.1111111111111111, \"#46039f\"], [0.2222222222222222, \"#7201a8\"], [0.3333333333333333, \"#9c179e\"], [0.4444444444444444, \"#bd3786\"], [0.5555555555555556, \"#d8576b\"], [0.6666666666666666, \"#ed7953\"], [0.7777777777777778, \"#fb9f3a\"], [0.8888888888888888, \"#fdca26\"], [1.0, \"#f0f921\"]], \"type\": \"contour\"}], \"contourcarpet\": [{\"colorbar\": {\"outlinewidth\": 0, \"ticks\": \"\"}, \"type\": \"contourcarpet\"}], \"heatmap\": [{\"colorbar\": {\"outlinewidth\": 0, \"ticks\": \"\"}, \"colorscale\": [[0.0, \"#0d0887\"], [0.1111111111111111, \"#46039f\"], [0.2222222222222222, \"#7201a8\"], [0.3333333333333333, \"#9c179e\"], [0.4444444444444444, \"#bd3786\"], [0.5555555555555556, \"#d8576b\"], [0.6666666666666666, \"#ed7953\"], [0.7777777777777778, \"#fb9f3a\"], [0.8888888888888888, \"#fdca26\"], [1.0, \"#f0f921\"]], \"type\": \"heatmap\"}], \"heatmapgl\": [{\"colorbar\": {\"outlinewidth\": 0, \"ticks\": \"\"}, \"colorscale\": [[0.0, \"#0d0887\"], [0.1111111111111111, \"#46039f\"], [0.2222222222222222, \"#7201a8\"], [0.3333333333333333, \"#9c179e\"], [0.4444444444444444, \"#bd3786\"], [0.5555555555555556, \"#d8576b\"], [0.6666666666666666, \"#ed7953\"], [0.7777777777777778, \"#fb9f3a\"], [0.8888888888888888, \"#fdca26\"], [1.0, \"#f0f921\"]], \"type\": \"heatmapgl\"}], \"histogram\": [{\"marker\": {\"colorbar\": {\"outlinewidth\": 0, \"ticks\": \"\"}}, \"type\": \"histogram\"}], \"histogram2d\": [{\"colorbar\": {\"outlinewidth\": 0, \"ticks\": \"\"}, \"colorscale\": [[0.0, \"#0d0887\"], [0.1111111111111111, \"#46039f\"], [0.2222222222222222, \"#7201a8\"], [0.3333333333333333, \"#9c179e\"], [0.4444444444444444, \"#bd3786\"], [0.5555555555555556, \"#d8576b\"], [0.6666666666666666, \"#ed7953\"], [0.7777777777777778, \"#fb9f3a\"], [0.8888888888888888, \"#fdca26\"], [1.0, \"#f0f921\"]], \"type\": \"histogram2d\"}], \"histogram2dcontour\": [{\"colorbar\": {\"outlinewidth\": 0, \"ticks\": \"\"}, \"colorscale\": [[0.0, \"#0d0887\"], [0.1111111111111111, \"#46039f\"], [0.2222222222222222, \"#7201a8\"], [0.3333333333333333, \"#9c179e\"], [0.4444444444444444, \"#bd3786\"], [0.5555555555555556, \"#d8576b\"], [0.6666666666666666, \"#ed7953\"], [0.7777777777777778, \"#fb9f3a\"], [0.8888888888888888, \"#fdca26\"], [1.0, \"#f0f921\"]], \"type\": \"histogram2dcontour\"}], \"mesh3d\": [{\"colorbar\": {\"outlinewidth\": 0, \"ticks\": \"\"}, \"type\": \"mesh3d\"}], \"parcoords\": [{\"line\": {\"colorbar\": {\"outlinewidth\": 0, \"ticks\": \"\"}}, \"type\": \"parcoords\"}], \"scatter\": [{\"marker\": {\"colorbar\": {\"outlinewidth\": 0, \"ticks\": \"\"}}, \"type\": \"scatter\"}], \"scatter3d\": [{\"line\": {\"colorbar\": {\"outlinewidth\": 0, \"ticks\": \"\"}}, \"marker\": {\"colorbar\": {\"outlinewidth\": 0, \"ticks\": \"\"}}, \"type\": \"scatter3d\"}], \"scattercarpet\": [{\"marker\": {\"colorbar\": {\"outlinewidth\": 0, \"ticks\": \"\"}}, \"type\": \"scattercarpet\"}], \"scattergeo\": [{\"marker\": {\"colorbar\": {\"outlinewidth\": 0, \"ticks\": \"\"}}, \"type\": \"scattergeo\"}], \"scattergl\": [{\"marker\": {\"colorbar\": {\"outlinewidth\": 0, \"ticks\": \"\"}}, \"type\": \"scattergl\"}], \"scattermapbox\": [{\"marker\": {\"colorbar\": {\"outlinewidth\": 0, \"ticks\": \"\"}}, \"type\": \"scattermapbox\"}], \"scatterpolar\": [{\"marker\": {\"colorbar\": {\"outlinewidth\": 0, \"ticks\": \"\"}}, \"type\": \"scatterpolar\"}], \"scatterpolargl\": [{\"marker\": {\"colorbar\": {\"outlinewidth\": 0, \"ticks\": \"\"}}, \"type\": \"scatterpolargl\"}], \"scatterternary\": [{\"marker\": {\"colorbar\": {\"outlinewidth\": 0, \"ticks\": \"\"}}, \"type\": \"scatterternary\"}], \"surface\": [{\"colorbar\": {\"outlinewidth\": 0, \"ticks\": \"\"}, \"colorscale\": [[0.0, \"#0d0887\"], [0.1111111111111111, \"#46039f\"], [0.2222222222222222, \"#7201a8\"], [0.3333333333333333, \"#9c179e\"], [0.4444444444444444, \"#bd3786\"], [0.5555555555555556, \"#d8576b\"], [0.6666666666666666, \"#ed7953\"], [0.7777777777777778, \"#fb9f3a\"], [0.8888888888888888, \"#fdca26\"], [1.0, \"#f0f921\"]], \"type\": \"surface\"}], \"table\": [{\"cells\": {\"fill\": {\"color\": \"#EBF0F8\"}, \"line\": {\"color\": \"white\"}}, \"header\": {\"fill\": {\"color\": \"#C8D4E3\"}, \"line\": {\"color\": \"white\"}}, \"type\": \"table\"}]}, \"layout\": {\"annotationdefaults\": {\"arrowcolor\": \"#2a3f5f\", \"arrowhead\": 0, \"arrowwidth\": 1}, \"colorscale\": {\"diverging\": [[0, \"#8e0152\"], [0.1, \"#c51b7d\"], [0.2, \"#de77ae\"], [0.3, \"#f1b6da\"], [0.4, \"#fde0ef\"], [0.5, \"#f7f7f7\"], [0.6, \"#e6f5d0\"], [0.7, \"#b8e186\"], [0.8, \"#7fbc41\"], [0.9, \"#4d9221\"], [1, \"#276419\"]], \"sequential\": [[0.0, \"#0d0887\"], [0.1111111111111111, \"#46039f\"], [0.2222222222222222, \"#7201a8\"], [0.3333333333333333, \"#9c179e\"], [0.4444444444444444, \"#bd3786\"], [0.5555555555555556, \"#d8576b\"], [0.6666666666666666, \"#ed7953\"], [0.7777777777777778, \"#fb9f3a\"], [0.8888888888888888, \"#fdca26\"], [1.0, \"#f0f921\"]], \"sequentialminus\": [[0.0, \"#0d0887\"], [0.1111111111111111, \"#46039f\"], [0.2222222222222222, \"#7201a8\"], [0.3333333333333333, \"#9c179e\"], [0.4444444444444444, \"#bd3786\"], [0.5555555555555556, \"#d8576b\"], [0.6666666666666666, \"#ed7953\"], [0.7777777777777778, \"#fb9f3a\"], [0.8888888888888888, \"#fdca26\"], [1.0, \"#f0f921\"]]}, \"colorway\": [\"#636efa\", \"#EF553B\", \"#00cc96\", \"#ab63fa\", \"#FFA15A\", \"#19d3f3\", \"#FF6692\", \"#B6E880\", \"#FF97FF\", \"#FECB52\"], \"font\": {\"color\": \"#2a3f5f\"}, \"geo\": {\"bgcolor\": \"white\", \"lakecolor\": \"white\", \"landcolor\": \"#E5ECF6\", \"showlakes\": true, \"showland\": true, \"subunitcolor\": \"white\"}, \"hoverlabel\": {\"align\": \"left\"}, \"hovermode\": \"closest\", \"mapbox\": {\"style\": \"light\"}, \"paper_bgcolor\": \"white\", \"plot_bgcolor\": \"#E5ECF6\", \"polar\": {\"angularaxis\": {\"gridcolor\": \"white\", \"linecolor\": \"white\", \"ticks\": \"\"}, \"bgcolor\": \"#E5ECF6\", \"radialaxis\": {\"gridcolor\": \"white\", \"linecolor\": \"white\", \"ticks\": \"\"}}, \"scene\": {\"xaxis\": {\"backgroundcolor\": \"#E5ECF6\", \"gridcolor\": \"white\", \"gridwidth\": 2, \"linecolor\": \"white\", \"showbackground\": true, \"ticks\": \"\", \"zerolinecolor\": \"white\"}, \"yaxis\": {\"backgroundcolor\": \"#E5ECF6\", \"gridcolor\": \"white\", \"gridwidth\": 2, \"linecolor\": \"white\", \"showbackground\": true, \"ticks\": \"\", \"zerolinecolor\": \"white\"}, \"zaxis\": {\"backgroundcolor\": \"#E5ECF6\", \"gridcolor\": \"white\", \"gridwidth\": 2, \"linecolor\": \"white\", \"showbackground\": true, \"ticks\": \"\", \"zerolinecolor\": \"white\"}}, \"shapedefaults\": {\"line\": {\"color\": \"#2a3f5f\"}}, \"ternary\": {\"aaxis\": {\"gridcolor\": \"white\", \"linecolor\": \"white\", \"ticks\": \"\"}, \"baxis\": {\"gridcolor\": \"white\", \"linecolor\": \"white\", \"ticks\": \"\"}, \"bgcolor\": \"#E5ECF6\", \"caxis\": {\"gridcolor\": \"white\", \"linecolor\": \"white\", \"ticks\": \"\"}}, \"title\": {\"x\": 0.05}, \"xaxis\": {\"automargin\": true, \"gridcolor\": \"white\", \"linecolor\": \"white\", \"ticks\": \"\", \"zerolinecolor\": \"white\", \"zerolinewidth\": 2}, \"yaxis\": {\"automargin\": true, \"gridcolor\": \"white\", \"linecolor\": \"white\", \"ticks\": \"\", \"zerolinecolor\": \"white\", \"zerolinewidth\": 2}}}, \"title\": {\"text\": \"Missing Values (count & %)\"}},\n",
       "                        {\"responsive\": true}\n",
       "                    ).then(function(){\n",
       "                            \n",
       "var gd = document.getElementById('82f6db9b-b636-4cf9-b9be-2d662f4124d3');\n",
       "var x = new MutationObserver(function (mutations, observer) {{\n",
       "        var display = window.getComputedStyle(gd).display;\n",
       "        if (!display || display === 'none') {{\n",
       "            console.log([gd, 'removed!']);\n",
       "            Plotly.purge(gd);\n",
       "            observer.disconnect();\n",
       "        }}\n",
       "}});\n",
       "\n",
       "// Listen for the removal of the full notebook cells\n",
       "var notebookContainer = gd.closest('#notebook-container');\n",
       "if (notebookContainer) {{\n",
       "    x.observe(notebookContainer, {childList: true});\n",
       "}}\n",
       "\n",
       "// Listen for the clearing of the current output cell\n",
       "var outputEl = gd.closest('.output');\n",
       "if (outputEl) {{\n",
       "    x.observe(outputEl, {childList: true});\n",
       "}}\n",
       "\n",
       "                        })\n",
       "                };\n",
       "                });\n",
       "            </script>\n",
       "        </div>"
      ]
     },
     "metadata": {},
     "output_type": "display_data"
    }
   ],
   "source": [
    "# Plotting \n",
    "missing_plot(data, 'PassengerId')"
   ]
  },
  {
   "cell_type": "code",
   "execution_count": 16,
   "metadata": {},
   "outputs": [
    {
     "data": {
      "application/vnd.plotly.v1+json": {
       "config": {
        "linkText": "Export to plot.ly",
        "plotlyServerURL": "https://plot.ly",
        "showLink": false
       },
       "data": [
        {
         "marker": {
          "color": [
           "pink",
           "lightblue"
          ],
          "line": {
           "color": "#000000",
           "width": 1.5
          }
         },
         "opacity": 0.8,
         "orientation": "h",
         "text": [
          "549",
          "342"
         ],
         "textfont": {
          "size": 15
         },
         "textposition": "auto",
         "type": "bar",
         "x": [
          549,
          342
         ],
         "y": [
          "Died",
          "Survived"
         ]
        }
       ],
       "layout": {
        "autosize": false,
        "height": 500,
        "template": {
         "data": {
          "bar": [
           {
            "error_x": {
             "color": "#2a3f5f"
            },
            "error_y": {
             "color": "#2a3f5f"
            },
            "marker": {
             "line": {
              "color": "#E5ECF6",
              "width": 0.5
             }
            },
            "type": "bar"
           }
          ],
          "barpolar": [
           {
            "marker": {
             "line": {
              "color": "#E5ECF6",
              "width": 0.5
             }
            },
            "type": "barpolar"
           }
          ],
          "carpet": [
           {
            "aaxis": {
             "endlinecolor": "#2a3f5f",
             "gridcolor": "white",
             "linecolor": "white",
             "minorgridcolor": "white",
             "startlinecolor": "#2a3f5f"
            },
            "baxis": {
             "endlinecolor": "#2a3f5f",
             "gridcolor": "white",
             "linecolor": "white",
             "minorgridcolor": "white",
             "startlinecolor": "#2a3f5f"
            },
            "type": "carpet"
           }
          ],
          "choropleth": [
           {
            "colorbar": {
             "outlinewidth": 0,
             "ticks": ""
            },
            "type": "choropleth"
           }
          ],
          "contour": [
           {
            "colorbar": {
             "outlinewidth": 0,
             "ticks": ""
            },
            "colorscale": [
             [
              0,
              "#0d0887"
             ],
             [
              0.1111111111111111,
              "#46039f"
             ],
             [
              0.2222222222222222,
              "#7201a8"
             ],
             [
              0.3333333333333333,
              "#9c179e"
             ],
             [
              0.4444444444444444,
              "#bd3786"
             ],
             [
              0.5555555555555556,
              "#d8576b"
             ],
             [
              0.6666666666666666,
              "#ed7953"
             ],
             [
              0.7777777777777778,
              "#fb9f3a"
             ],
             [
              0.8888888888888888,
              "#fdca26"
             ],
             [
              1,
              "#f0f921"
             ]
            ],
            "type": "contour"
           }
          ],
          "contourcarpet": [
           {
            "colorbar": {
             "outlinewidth": 0,
             "ticks": ""
            },
            "type": "contourcarpet"
           }
          ],
          "heatmap": [
           {
            "colorbar": {
             "outlinewidth": 0,
             "ticks": ""
            },
            "colorscale": [
             [
              0,
              "#0d0887"
             ],
             [
              0.1111111111111111,
              "#46039f"
             ],
             [
              0.2222222222222222,
              "#7201a8"
             ],
             [
              0.3333333333333333,
              "#9c179e"
             ],
             [
              0.4444444444444444,
              "#bd3786"
             ],
             [
              0.5555555555555556,
              "#d8576b"
             ],
             [
              0.6666666666666666,
              "#ed7953"
             ],
             [
              0.7777777777777778,
              "#fb9f3a"
             ],
             [
              0.8888888888888888,
              "#fdca26"
             ],
             [
              1,
              "#f0f921"
             ]
            ],
            "type": "heatmap"
           }
          ],
          "heatmapgl": [
           {
            "colorbar": {
             "outlinewidth": 0,
             "ticks": ""
            },
            "colorscale": [
             [
              0,
              "#0d0887"
             ],
             [
              0.1111111111111111,
              "#46039f"
             ],
             [
              0.2222222222222222,
              "#7201a8"
             ],
             [
              0.3333333333333333,
              "#9c179e"
             ],
             [
              0.4444444444444444,
              "#bd3786"
             ],
             [
              0.5555555555555556,
              "#d8576b"
             ],
             [
              0.6666666666666666,
              "#ed7953"
             ],
             [
              0.7777777777777778,
              "#fb9f3a"
             ],
             [
              0.8888888888888888,
              "#fdca26"
             ],
             [
              1,
              "#f0f921"
             ]
            ],
            "type": "heatmapgl"
           }
          ],
          "histogram": [
           {
            "marker": {
             "colorbar": {
              "outlinewidth": 0,
              "ticks": ""
             }
            },
            "type": "histogram"
           }
          ],
          "histogram2d": [
           {
            "colorbar": {
             "outlinewidth": 0,
             "ticks": ""
            },
            "colorscale": [
             [
              0,
              "#0d0887"
             ],
             [
              0.1111111111111111,
              "#46039f"
             ],
             [
              0.2222222222222222,
              "#7201a8"
             ],
             [
              0.3333333333333333,
              "#9c179e"
             ],
             [
              0.4444444444444444,
              "#bd3786"
             ],
             [
              0.5555555555555556,
              "#d8576b"
             ],
             [
              0.6666666666666666,
              "#ed7953"
             ],
             [
              0.7777777777777778,
              "#fb9f3a"
             ],
             [
              0.8888888888888888,
              "#fdca26"
             ],
             [
              1,
              "#f0f921"
             ]
            ],
            "type": "histogram2d"
           }
          ],
          "histogram2dcontour": [
           {
            "colorbar": {
             "outlinewidth": 0,
             "ticks": ""
            },
            "colorscale": [
             [
              0,
              "#0d0887"
             ],
             [
              0.1111111111111111,
              "#46039f"
             ],
             [
              0.2222222222222222,
              "#7201a8"
             ],
             [
              0.3333333333333333,
              "#9c179e"
             ],
             [
              0.4444444444444444,
              "#bd3786"
             ],
             [
              0.5555555555555556,
              "#d8576b"
             ],
             [
              0.6666666666666666,
              "#ed7953"
             ],
             [
              0.7777777777777778,
              "#fb9f3a"
             ],
             [
              0.8888888888888888,
              "#fdca26"
             ],
             [
              1,
              "#f0f921"
             ]
            ],
            "type": "histogram2dcontour"
           }
          ],
          "mesh3d": [
           {
            "colorbar": {
             "outlinewidth": 0,
             "ticks": ""
            },
            "type": "mesh3d"
           }
          ],
          "parcoords": [
           {
            "line": {
             "colorbar": {
              "outlinewidth": 0,
              "ticks": ""
             }
            },
            "type": "parcoords"
           }
          ],
          "scatter": [
           {
            "marker": {
             "colorbar": {
              "outlinewidth": 0,
              "ticks": ""
             }
            },
            "type": "scatter"
           }
          ],
          "scatter3d": [
           {
            "line": {
             "colorbar": {
              "outlinewidth": 0,
              "ticks": ""
             }
            },
            "marker": {
             "colorbar": {
              "outlinewidth": 0,
              "ticks": ""
             }
            },
            "type": "scatter3d"
           }
          ],
          "scattercarpet": [
           {
            "marker": {
             "colorbar": {
              "outlinewidth": 0,
              "ticks": ""
             }
            },
            "type": "scattercarpet"
           }
          ],
          "scattergeo": [
           {
            "marker": {
             "colorbar": {
              "outlinewidth": 0,
              "ticks": ""
             }
            },
            "type": "scattergeo"
           }
          ],
          "scattergl": [
           {
            "marker": {
             "colorbar": {
              "outlinewidth": 0,
              "ticks": ""
             }
            },
            "type": "scattergl"
           }
          ],
          "scattermapbox": [
           {
            "marker": {
             "colorbar": {
              "outlinewidth": 0,
              "ticks": ""
             }
            },
            "type": "scattermapbox"
           }
          ],
          "scatterpolar": [
           {
            "marker": {
             "colorbar": {
              "outlinewidth": 0,
              "ticks": ""
             }
            },
            "type": "scatterpolar"
           }
          ],
          "scatterpolargl": [
           {
            "marker": {
             "colorbar": {
              "outlinewidth": 0,
              "ticks": ""
             }
            },
            "type": "scatterpolargl"
           }
          ],
          "scatterternary": [
           {
            "marker": {
             "colorbar": {
              "outlinewidth": 0,
              "ticks": ""
             }
            },
            "type": "scatterternary"
           }
          ],
          "surface": [
           {
            "colorbar": {
             "outlinewidth": 0,
             "ticks": ""
            },
            "colorscale": [
             [
              0,
              "#0d0887"
             ],
             [
              0.1111111111111111,
              "#46039f"
             ],
             [
              0.2222222222222222,
              "#7201a8"
             ],
             [
              0.3333333333333333,
              "#9c179e"
             ],
             [
              0.4444444444444444,
              "#bd3786"
             ],
             [
              0.5555555555555556,
              "#d8576b"
             ],
             [
              0.6666666666666666,
              "#ed7953"
             ],
             [
              0.7777777777777778,
              "#fb9f3a"
             ],
             [
              0.8888888888888888,
              "#fdca26"
             ],
             [
              1,
              "#f0f921"
             ]
            ],
            "type": "surface"
           }
          ],
          "table": [
           {
            "cells": {
             "fill": {
              "color": "#EBF0F8"
             },
             "line": {
              "color": "white"
             }
            },
            "header": {
             "fill": {
              "color": "#C8D4E3"
             },
             "line": {
              "color": "white"
             }
            },
            "type": "table"
           }
          ]
         },
         "layout": {
          "annotationdefaults": {
           "arrowcolor": "#2a3f5f",
           "arrowhead": 0,
           "arrowwidth": 1
          },
          "colorscale": {
           "diverging": [
            [
             0,
             "#8e0152"
            ],
            [
             0.1,
             "#c51b7d"
            ],
            [
             0.2,
             "#de77ae"
            ],
            [
             0.3,
             "#f1b6da"
            ],
            [
             0.4,
             "#fde0ef"
            ],
            [
             0.5,
             "#f7f7f7"
            ],
            [
             0.6,
             "#e6f5d0"
            ],
            [
             0.7,
             "#b8e186"
            ],
            [
             0.8,
             "#7fbc41"
            ],
            [
             0.9,
             "#4d9221"
            ],
            [
             1,
             "#276419"
            ]
           ],
           "sequential": [
            [
             0,
             "#0d0887"
            ],
            [
             0.1111111111111111,
             "#46039f"
            ],
            [
             0.2222222222222222,
             "#7201a8"
            ],
            [
             0.3333333333333333,
             "#9c179e"
            ],
            [
             0.4444444444444444,
             "#bd3786"
            ],
            [
             0.5555555555555556,
             "#d8576b"
            ],
            [
             0.6666666666666666,
             "#ed7953"
            ],
            [
             0.7777777777777778,
             "#fb9f3a"
            ],
            [
             0.8888888888888888,
             "#fdca26"
            ],
            [
             1,
             "#f0f921"
            ]
           ],
           "sequentialminus": [
            [
             0,
             "#0d0887"
            ],
            [
             0.1111111111111111,
             "#46039f"
            ],
            [
             0.2222222222222222,
             "#7201a8"
            ],
            [
             0.3333333333333333,
             "#9c179e"
            ],
            [
             0.4444444444444444,
             "#bd3786"
            ],
            [
             0.5555555555555556,
             "#d8576b"
            ],
            [
             0.6666666666666666,
             "#ed7953"
            ],
            [
             0.7777777777777778,
             "#fb9f3a"
            ],
            [
             0.8888888888888888,
             "#fdca26"
            ],
            [
             1,
             "#f0f921"
            ]
           ]
          },
          "colorway": [
           "#636efa",
           "#EF553B",
           "#00cc96",
           "#ab63fa",
           "#FFA15A",
           "#19d3f3",
           "#FF6692",
           "#B6E880",
           "#FF97FF",
           "#FECB52"
          ],
          "font": {
           "color": "#2a3f5f"
          },
          "geo": {
           "bgcolor": "white",
           "lakecolor": "white",
           "landcolor": "#E5ECF6",
           "showlakes": true,
           "showland": true,
           "subunitcolor": "white"
          },
          "hoverlabel": {
           "align": "left"
          },
          "hovermode": "closest",
          "mapbox": {
           "style": "light"
          },
          "paper_bgcolor": "white",
          "plot_bgcolor": "#E5ECF6",
          "polar": {
           "angularaxis": {
            "gridcolor": "white",
            "linecolor": "white",
            "ticks": ""
           },
           "bgcolor": "#E5ECF6",
           "radialaxis": {
            "gridcolor": "white",
            "linecolor": "white",
            "ticks": ""
           }
          },
          "scene": {
           "xaxis": {
            "backgroundcolor": "#E5ECF6",
            "gridcolor": "white",
            "gridwidth": 2,
            "linecolor": "white",
            "showbackground": true,
            "ticks": "",
            "zerolinecolor": "white"
           },
           "yaxis": {
            "backgroundcolor": "#E5ECF6",
            "gridcolor": "white",
            "gridwidth": 2,
            "linecolor": "white",
            "showbackground": true,
            "ticks": "",
            "zerolinecolor": "white"
           },
           "zaxis": {
            "backgroundcolor": "#E5ECF6",
            "gridcolor": "white",
            "gridwidth": 2,
            "linecolor": "white",
            "showbackground": true,
            "ticks": "",
            "zerolinecolor": "white"
           }
          },
          "shapedefaults": {
           "line": {
            "color": "#2a3f5f"
           }
          },
          "ternary": {
           "aaxis": {
            "gridcolor": "white",
            "linecolor": "white",
            "ticks": ""
           },
           "baxis": {
            "gridcolor": "white",
            "linecolor": "white",
            "ticks": ""
           },
           "bgcolor": "#E5ECF6",
           "caxis": {
            "gridcolor": "white",
            "linecolor": "white",
            "ticks": ""
           }
          },
          "title": {
           "x": 0.05
          },
          "xaxis": {
           "automargin": true,
           "gridcolor": "white",
           "linecolor": "white",
           "ticks": "",
           "zerolinecolor": "white",
           "zerolinewidth": 2
          },
          "yaxis": {
           "automargin": true,
           "gridcolor": "white",
           "linecolor": "white",
           "ticks": "",
           "zerolinecolor": "white",
           "zerolinewidth": 2
          }
         }
        },
        "title": {
         "text": "Count of target variable"
        },
        "width": 800
       }
      },
      "text/html": [
       "<div>\n",
       "        \n",
       "        \n",
       "            <div id=\"5acd753c-01a7-4518-943b-166aa72cc060\" class=\"plotly-graph-div\" style=\"height:500px; width:800px;\"></div>\n",
       "            <script type=\"text/javascript\">\n",
       "                require([\"plotly\"], function(Plotly) {\n",
       "                    window.PLOTLYENV=window.PLOTLYENV || {};\n",
       "                    \n",
       "                if (document.getElementById(\"5acd753c-01a7-4518-943b-166aa72cc060\")) {\n",
       "                    Plotly.newPlot(\n",
       "                        '5acd753c-01a7-4518-943b-166aa72cc060',\n",
       "                        [{\"marker\": {\"color\": [\"pink\", \"lightblue\"], \"line\": {\"color\": \"#000000\", \"width\": 1.5}}, \"opacity\": 0.8, \"orientation\": \"h\", \"text\": [\"549\", \"342\"], \"textfont\": {\"size\": 15}, \"textposition\": \"auto\", \"type\": \"bar\", \"x\": [549, 342], \"y\": [\"Died\", \"Survived\"]}],\n",
       "                        {\"autosize\": false, \"height\": 500, \"template\": {\"data\": {\"bar\": [{\"error_x\": {\"color\": \"#2a3f5f\"}, \"error_y\": {\"color\": \"#2a3f5f\"}, \"marker\": {\"line\": {\"color\": \"#E5ECF6\", \"width\": 0.5}}, \"type\": \"bar\"}], \"barpolar\": [{\"marker\": {\"line\": {\"color\": \"#E5ECF6\", \"width\": 0.5}}, \"type\": \"barpolar\"}], \"carpet\": [{\"aaxis\": {\"endlinecolor\": \"#2a3f5f\", \"gridcolor\": \"white\", \"linecolor\": \"white\", \"minorgridcolor\": \"white\", \"startlinecolor\": \"#2a3f5f\"}, \"baxis\": {\"endlinecolor\": \"#2a3f5f\", \"gridcolor\": \"white\", \"linecolor\": \"white\", \"minorgridcolor\": \"white\", \"startlinecolor\": \"#2a3f5f\"}, \"type\": \"carpet\"}], \"choropleth\": [{\"colorbar\": {\"outlinewidth\": 0, \"ticks\": \"\"}, \"type\": \"choropleth\"}], \"contour\": [{\"colorbar\": {\"outlinewidth\": 0, \"ticks\": \"\"}, \"colorscale\": [[0.0, \"#0d0887\"], [0.1111111111111111, \"#46039f\"], [0.2222222222222222, \"#7201a8\"], [0.3333333333333333, \"#9c179e\"], [0.4444444444444444, \"#bd3786\"], [0.5555555555555556, \"#d8576b\"], [0.6666666666666666, \"#ed7953\"], [0.7777777777777778, \"#fb9f3a\"], [0.8888888888888888, \"#fdca26\"], [1.0, \"#f0f921\"]], \"type\": \"contour\"}], \"contourcarpet\": [{\"colorbar\": {\"outlinewidth\": 0, \"ticks\": \"\"}, \"type\": \"contourcarpet\"}], \"heatmap\": [{\"colorbar\": {\"outlinewidth\": 0, \"ticks\": \"\"}, \"colorscale\": [[0.0, \"#0d0887\"], [0.1111111111111111, \"#46039f\"], [0.2222222222222222, \"#7201a8\"], [0.3333333333333333, \"#9c179e\"], [0.4444444444444444, \"#bd3786\"], [0.5555555555555556, \"#d8576b\"], [0.6666666666666666, \"#ed7953\"], [0.7777777777777778, \"#fb9f3a\"], [0.8888888888888888, \"#fdca26\"], [1.0, \"#f0f921\"]], \"type\": \"heatmap\"}], \"heatmapgl\": [{\"colorbar\": {\"outlinewidth\": 0, \"ticks\": \"\"}, \"colorscale\": [[0.0, \"#0d0887\"], [0.1111111111111111, \"#46039f\"], [0.2222222222222222, \"#7201a8\"], [0.3333333333333333, \"#9c179e\"], [0.4444444444444444, \"#bd3786\"], [0.5555555555555556, \"#d8576b\"], [0.6666666666666666, \"#ed7953\"], [0.7777777777777778, \"#fb9f3a\"], [0.8888888888888888, \"#fdca26\"], [1.0, \"#f0f921\"]], \"type\": \"heatmapgl\"}], \"histogram\": [{\"marker\": {\"colorbar\": {\"outlinewidth\": 0, \"ticks\": \"\"}}, \"type\": \"histogram\"}], \"histogram2d\": [{\"colorbar\": {\"outlinewidth\": 0, \"ticks\": \"\"}, \"colorscale\": [[0.0, \"#0d0887\"], [0.1111111111111111, \"#46039f\"], [0.2222222222222222, \"#7201a8\"], [0.3333333333333333, \"#9c179e\"], [0.4444444444444444, \"#bd3786\"], [0.5555555555555556, \"#d8576b\"], [0.6666666666666666, \"#ed7953\"], [0.7777777777777778, \"#fb9f3a\"], [0.8888888888888888, \"#fdca26\"], [1.0, \"#f0f921\"]], \"type\": \"histogram2d\"}], \"histogram2dcontour\": [{\"colorbar\": {\"outlinewidth\": 0, \"ticks\": \"\"}, \"colorscale\": [[0.0, \"#0d0887\"], [0.1111111111111111, \"#46039f\"], [0.2222222222222222, \"#7201a8\"], [0.3333333333333333, \"#9c179e\"], [0.4444444444444444, \"#bd3786\"], [0.5555555555555556, \"#d8576b\"], [0.6666666666666666, \"#ed7953\"], [0.7777777777777778, \"#fb9f3a\"], [0.8888888888888888, \"#fdca26\"], [1.0, \"#f0f921\"]], \"type\": \"histogram2dcontour\"}], \"mesh3d\": [{\"colorbar\": {\"outlinewidth\": 0, \"ticks\": \"\"}, \"type\": \"mesh3d\"}], \"parcoords\": [{\"line\": {\"colorbar\": {\"outlinewidth\": 0, \"ticks\": \"\"}}, \"type\": \"parcoords\"}], \"scatter\": [{\"marker\": {\"colorbar\": {\"outlinewidth\": 0, \"ticks\": \"\"}}, \"type\": \"scatter\"}], \"scatter3d\": [{\"line\": {\"colorbar\": {\"outlinewidth\": 0, \"ticks\": \"\"}}, \"marker\": {\"colorbar\": {\"outlinewidth\": 0, \"ticks\": \"\"}}, \"type\": \"scatter3d\"}], \"scattercarpet\": [{\"marker\": {\"colorbar\": {\"outlinewidth\": 0, \"ticks\": \"\"}}, \"type\": \"scattercarpet\"}], \"scattergeo\": [{\"marker\": {\"colorbar\": {\"outlinewidth\": 0, \"ticks\": \"\"}}, \"type\": \"scattergeo\"}], \"scattergl\": [{\"marker\": {\"colorbar\": {\"outlinewidth\": 0, \"ticks\": \"\"}}, \"type\": \"scattergl\"}], \"scattermapbox\": [{\"marker\": {\"colorbar\": {\"outlinewidth\": 0, \"ticks\": \"\"}}, \"type\": \"scattermapbox\"}], \"scatterpolar\": [{\"marker\": {\"colorbar\": {\"outlinewidth\": 0, \"ticks\": \"\"}}, \"type\": \"scatterpolar\"}], \"scatterpolargl\": [{\"marker\": {\"colorbar\": {\"outlinewidth\": 0, \"ticks\": \"\"}}, \"type\": \"scatterpolargl\"}], \"scatterternary\": [{\"marker\": {\"colorbar\": {\"outlinewidth\": 0, \"ticks\": \"\"}}, \"type\": \"scatterternary\"}], \"surface\": [{\"colorbar\": {\"outlinewidth\": 0, \"ticks\": \"\"}, \"colorscale\": [[0.0, \"#0d0887\"], [0.1111111111111111, \"#46039f\"], [0.2222222222222222, \"#7201a8\"], [0.3333333333333333, \"#9c179e\"], [0.4444444444444444, \"#bd3786\"], [0.5555555555555556, \"#d8576b\"], [0.6666666666666666, \"#ed7953\"], [0.7777777777777778, \"#fb9f3a\"], [0.8888888888888888, \"#fdca26\"], [1.0, \"#f0f921\"]], \"type\": \"surface\"}], \"table\": [{\"cells\": {\"fill\": {\"color\": \"#EBF0F8\"}, \"line\": {\"color\": \"white\"}}, \"header\": {\"fill\": {\"color\": \"#C8D4E3\"}, \"line\": {\"color\": \"white\"}}, \"type\": \"table\"}]}, \"layout\": {\"annotationdefaults\": {\"arrowcolor\": \"#2a3f5f\", \"arrowhead\": 0, \"arrowwidth\": 1}, \"colorscale\": {\"diverging\": [[0, \"#8e0152\"], [0.1, \"#c51b7d\"], [0.2, \"#de77ae\"], [0.3, \"#f1b6da\"], [0.4, \"#fde0ef\"], [0.5, \"#f7f7f7\"], [0.6, \"#e6f5d0\"], [0.7, \"#b8e186\"], [0.8, \"#7fbc41\"], [0.9, \"#4d9221\"], [1, \"#276419\"]], \"sequential\": [[0.0, \"#0d0887\"], [0.1111111111111111, \"#46039f\"], [0.2222222222222222, \"#7201a8\"], [0.3333333333333333, \"#9c179e\"], [0.4444444444444444, \"#bd3786\"], [0.5555555555555556, \"#d8576b\"], [0.6666666666666666, \"#ed7953\"], [0.7777777777777778, \"#fb9f3a\"], [0.8888888888888888, \"#fdca26\"], [1.0, \"#f0f921\"]], \"sequentialminus\": [[0.0, \"#0d0887\"], [0.1111111111111111, \"#46039f\"], [0.2222222222222222, \"#7201a8\"], [0.3333333333333333, \"#9c179e\"], [0.4444444444444444, \"#bd3786\"], [0.5555555555555556, \"#d8576b\"], [0.6666666666666666, \"#ed7953\"], [0.7777777777777778, \"#fb9f3a\"], [0.8888888888888888, \"#fdca26\"], [1.0, \"#f0f921\"]]}, \"colorway\": [\"#636efa\", \"#EF553B\", \"#00cc96\", \"#ab63fa\", \"#FFA15A\", \"#19d3f3\", \"#FF6692\", \"#B6E880\", \"#FF97FF\", \"#FECB52\"], \"font\": {\"color\": \"#2a3f5f\"}, \"geo\": {\"bgcolor\": \"white\", \"lakecolor\": \"white\", \"landcolor\": \"#E5ECF6\", \"showlakes\": true, \"showland\": true, \"subunitcolor\": \"white\"}, \"hoverlabel\": {\"align\": \"left\"}, \"hovermode\": \"closest\", \"mapbox\": {\"style\": \"light\"}, \"paper_bgcolor\": \"white\", \"plot_bgcolor\": \"#E5ECF6\", \"polar\": {\"angularaxis\": {\"gridcolor\": \"white\", \"linecolor\": \"white\", \"ticks\": \"\"}, \"bgcolor\": \"#E5ECF6\", \"radialaxis\": {\"gridcolor\": \"white\", \"linecolor\": \"white\", \"ticks\": \"\"}}, \"scene\": {\"xaxis\": {\"backgroundcolor\": \"#E5ECF6\", \"gridcolor\": \"white\", \"gridwidth\": 2, \"linecolor\": \"white\", \"showbackground\": true, \"ticks\": \"\", \"zerolinecolor\": \"white\"}, \"yaxis\": {\"backgroundcolor\": \"#E5ECF6\", \"gridcolor\": \"white\", \"gridwidth\": 2, \"linecolor\": \"white\", \"showbackground\": true, \"ticks\": \"\", \"zerolinecolor\": \"white\"}, \"zaxis\": {\"backgroundcolor\": \"#E5ECF6\", \"gridcolor\": \"white\", \"gridwidth\": 2, \"linecolor\": \"white\", \"showbackground\": true, \"ticks\": \"\", \"zerolinecolor\": \"white\"}}, \"shapedefaults\": {\"line\": {\"color\": \"#2a3f5f\"}}, \"ternary\": {\"aaxis\": {\"gridcolor\": \"white\", \"linecolor\": \"white\", \"ticks\": \"\"}, \"baxis\": {\"gridcolor\": \"white\", \"linecolor\": \"white\", \"ticks\": \"\"}, \"bgcolor\": \"#E5ECF6\", \"caxis\": {\"gridcolor\": \"white\", \"linecolor\": \"white\", \"ticks\": \"\"}}, \"title\": {\"x\": 0.05}, \"xaxis\": {\"automargin\": true, \"gridcolor\": \"white\", \"linecolor\": \"white\", \"ticks\": \"\", \"zerolinecolor\": \"white\", \"zerolinewidth\": 2}, \"yaxis\": {\"automargin\": true, \"gridcolor\": \"white\", \"linecolor\": \"white\", \"ticks\": \"\", \"zerolinecolor\": \"white\", \"zerolinewidth\": 2}}}, \"title\": {\"text\": \"Count of target variable\"}, \"width\": 800},\n",
       "                        {\"responsive\": true}\n",
       "                    ).then(function(){\n",
       "                            \n",
       "var gd = document.getElementById('5acd753c-01a7-4518-943b-166aa72cc060');\n",
       "var x = new MutationObserver(function (mutations, observer) {{\n",
       "        var display = window.getComputedStyle(gd).display;\n",
       "        if (!display || display === 'none') {{\n",
       "            console.log([gd, 'removed!']);\n",
       "            Plotly.purge(gd);\n",
       "            observer.disconnect();\n",
       "        }}\n",
       "}});\n",
       "\n",
       "// Listen for the removal of the full notebook cells\n",
       "var notebookContainer = gd.closest('#notebook-container');\n",
       "if (notebookContainer) {{\n",
       "    x.observe(notebookContainer, {childList: true});\n",
       "}}\n",
       "\n",
       "// Listen for the clearing of the current output cell\n",
       "var outputEl = gd.closest('.output');\n",
       "if (outputEl) {{\n",
       "    x.observe(outputEl, {childList: true});\n",
       "}}\n",
       "\n",
       "                        })\n",
       "                };\n",
       "                });\n",
       "            </script>\n",
       "        </div>"
      ]
     },
     "metadata": {},
     "output_type": "display_data"
    },
    {
     "data": {
      "application/vnd.plotly.v1+json": {
       "config": {
        "linkText": "Export to plot.ly",
        "plotlyServerURL": "https://plot.ly",
        "showLink": false
       },
       "data": [
        {
         "labels": [
          "Died",
          "Survived"
         ],
         "marker": {
          "colors": [
           "pink",
           "lightblue"
          ],
          "line": {
           "color": "#000000",
           "width": 1.5
          }
         },
         "opacity": 0.8,
         "textfont": {
          "size": 15
         },
         "type": "pie",
         "values": [
          549,
          342
         ]
        }
       ],
       "layout": {
        "autosize": true,
        "height": 500,
        "template": {
         "data": {
          "bar": [
           {
            "error_x": {
             "color": "#2a3f5f"
            },
            "error_y": {
             "color": "#2a3f5f"
            },
            "marker": {
             "line": {
              "color": "#E5ECF6",
              "width": 0.5
             }
            },
            "type": "bar"
           }
          ],
          "barpolar": [
           {
            "marker": {
             "line": {
              "color": "#E5ECF6",
              "width": 0.5
             }
            },
            "type": "barpolar"
           }
          ],
          "carpet": [
           {
            "aaxis": {
             "endlinecolor": "#2a3f5f",
             "gridcolor": "white",
             "linecolor": "white",
             "minorgridcolor": "white",
             "startlinecolor": "#2a3f5f"
            },
            "baxis": {
             "endlinecolor": "#2a3f5f",
             "gridcolor": "white",
             "linecolor": "white",
             "minorgridcolor": "white",
             "startlinecolor": "#2a3f5f"
            },
            "type": "carpet"
           }
          ],
          "choropleth": [
           {
            "colorbar": {
             "outlinewidth": 0,
             "ticks": ""
            },
            "type": "choropleth"
           }
          ],
          "contour": [
           {
            "colorbar": {
             "outlinewidth": 0,
             "ticks": ""
            },
            "colorscale": [
             [
              0,
              "#0d0887"
             ],
             [
              0.1111111111111111,
              "#46039f"
             ],
             [
              0.2222222222222222,
              "#7201a8"
             ],
             [
              0.3333333333333333,
              "#9c179e"
             ],
             [
              0.4444444444444444,
              "#bd3786"
             ],
             [
              0.5555555555555556,
              "#d8576b"
             ],
             [
              0.6666666666666666,
              "#ed7953"
             ],
             [
              0.7777777777777778,
              "#fb9f3a"
             ],
             [
              0.8888888888888888,
              "#fdca26"
             ],
             [
              1,
              "#f0f921"
             ]
            ],
            "type": "contour"
           }
          ],
          "contourcarpet": [
           {
            "colorbar": {
             "outlinewidth": 0,
             "ticks": ""
            },
            "type": "contourcarpet"
           }
          ],
          "heatmap": [
           {
            "colorbar": {
             "outlinewidth": 0,
             "ticks": ""
            },
            "colorscale": [
             [
              0,
              "#0d0887"
             ],
             [
              0.1111111111111111,
              "#46039f"
             ],
             [
              0.2222222222222222,
              "#7201a8"
             ],
             [
              0.3333333333333333,
              "#9c179e"
             ],
             [
              0.4444444444444444,
              "#bd3786"
             ],
             [
              0.5555555555555556,
              "#d8576b"
             ],
             [
              0.6666666666666666,
              "#ed7953"
             ],
             [
              0.7777777777777778,
              "#fb9f3a"
             ],
             [
              0.8888888888888888,
              "#fdca26"
             ],
             [
              1,
              "#f0f921"
             ]
            ],
            "type": "heatmap"
           }
          ],
          "heatmapgl": [
           {
            "colorbar": {
             "outlinewidth": 0,
             "ticks": ""
            },
            "colorscale": [
             [
              0,
              "#0d0887"
             ],
             [
              0.1111111111111111,
              "#46039f"
             ],
             [
              0.2222222222222222,
              "#7201a8"
             ],
             [
              0.3333333333333333,
              "#9c179e"
             ],
             [
              0.4444444444444444,
              "#bd3786"
             ],
             [
              0.5555555555555556,
              "#d8576b"
             ],
             [
              0.6666666666666666,
              "#ed7953"
             ],
             [
              0.7777777777777778,
              "#fb9f3a"
             ],
             [
              0.8888888888888888,
              "#fdca26"
             ],
             [
              1,
              "#f0f921"
             ]
            ],
            "type": "heatmapgl"
           }
          ],
          "histogram": [
           {
            "marker": {
             "colorbar": {
              "outlinewidth": 0,
              "ticks": ""
             }
            },
            "type": "histogram"
           }
          ],
          "histogram2d": [
           {
            "colorbar": {
             "outlinewidth": 0,
             "ticks": ""
            },
            "colorscale": [
             [
              0,
              "#0d0887"
             ],
             [
              0.1111111111111111,
              "#46039f"
             ],
             [
              0.2222222222222222,
              "#7201a8"
             ],
             [
              0.3333333333333333,
              "#9c179e"
             ],
             [
              0.4444444444444444,
              "#bd3786"
             ],
             [
              0.5555555555555556,
              "#d8576b"
             ],
             [
              0.6666666666666666,
              "#ed7953"
             ],
             [
              0.7777777777777778,
              "#fb9f3a"
             ],
             [
              0.8888888888888888,
              "#fdca26"
             ],
             [
              1,
              "#f0f921"
             ]
            ],
            "type": "histogram2d"
           }
          ],
          "histogram2dcontour": [
           {
            "colorbar": {
             "outlinewidth": 0,
             "ticks": ""
            },
            "colorscale": [
             [
              0,
              "#0d0887"
             ],
             [
              0.1111111111111111,
              "#46039f"
             ],
             [
              0.2222222222222222,
              "#7201a8"
             ],
             [
              0.3333333333333333,
              "#9c179e"
             ],
             [
              0.4444444444444444,
              "#bd3786"
             ],
             [
              0.5555555555555556,
              "#d8576b"
             ],
             [
              0.6666666666666666,
              "#ed7953"
             ],
             [
              0.7777777777777778,
              "#fb9f3a"
             ],
             [
              0.8888888888888888,
              "#fdca26"
             ],
             [
              1,
              "#f0f921"
             ]
            ],
            "type": "histogram2dcontour"
           }
          ],
          "mesh3d": [
           {
            "colorbar": {
             "outlinewidth": 0,
             "ticks": ""
            },
            "type": "mesh3d"
           }
          ],
          "parcoords": [
           {
            "line": {
             "colorbar": {
              "outlinewidth": 0,
              "ticks": ""
             }
            },
            "type": "parcoords"
           }
          ],
          "scatter": [
           {
            "marker": {
             "colorbar": {
              "outlinewidth": 0,
              "ticks": ""
             }
            },
            "type": "scatter"
           }
          ],
          "scatter3d": [
           {
            "line": {
             "colorbar": {
              "outlinewidth": 0,
              "ticks": ""
             }
            },
            "marker": {
             "colorbar": {
              "outlinewidth": 0,
              "ticks": ""
             }
            },
            "type": "scatter3d"
           }
          ],
          "scattercarpet": [
           {
            "marker": {
             "colorbar": {
              "outlinewidth": 0,
              "ticks": ""
             }
            },
            "type": "scattercarpet"
           }
          ],
          "scattergeo": [
           {
            "marker": {
             "colorbar": {
              "outlinewidth": 0,
              "ticks": ""
             }
            },
            "type": "scattergeo"
           }
          ],
          "scattergl": [
           {
            "marker": {
             "colorbar": {
              "outlinewidth": 0,
              "ticks": ""
             }
            },
            "type": "scattergl"
           }
          ],
          "scattermapbox": [
           {
            "marker": {
             "colorbar": {
              "outlinewidth": 0,
              "ticks": ""
             }
            },
            "type": "scattermapbox"
           }
          ],
          "scatterpolar": [
           {
            "marker": {
             "colorbar": {
              "outlinewidth": 0,
              "ticks": ""
             }
            },
            "type": "scatterpolar"
           }
          ],
          "scatterpolargl": [
           {
            "marker": {
             "colorbar": {
              "outlinewidth": 0,
              "ticks": ""
             }
            },
            "type": "scatterpolargl"
           }
          ],
          "scatterternary": [
           {
            "marker": {
             "colorbar": {
              "outlinewidth": 0,
              "ticks": ""
             }
            },
            "type": "scatterternary"
           }
          ],
          "surface": [
           {
            "colorbar": {
             "outlinewidth": 0,
             "ticks": ""
            },
            "colorscale": [
             [
              0,
              "#0d0887"
             ],
             [
              0.1111111111111111,
              "#46039f"
             ],
             [
              0.2222222222222222,
              "#7201a8"
             ],
             [
              0.3333333333333333,
              "#9c179e"
             ],
             [
              0.4444444444444444,
              "#bd3786"
             ],
             [
              0.5555555555555556,
              "#d8576b"
             ],
             [
              0.6666666666666666,
              "#ed7953"
             ],
             [
              0.7777777777777778,
              "#fb9f3a"
             ],
             [
              0.8888888888888888,
              "#fdca26"
             ],
             [
              1,
              "#f0f921"
             ]
            ],
            "type": "surface"
           }
          ],
          "table": [
           {
            "cells": {
             "fill": {
              "color": "#EBF0F8"
             },
             "line": {
              "color": "white"
             }
            },
            "header": {
             "fill": {
              "color": "#C8D4E3"
             },
             "line": {
              "color": "white"
             }
            },
            "type": "table"
           }
          ]
         },
         "layout": {
          "annotationdefaults": {
           "arrowcolor": "#2a3f5f",
           "arrowhead": 0,
           "arrowwidth": 1
          },
          "colorscale": {
           "diverging": [
            [
             0,
             "#8e0152"
            ],
            [
             0.1,
             "#c51b7d"
            ],
            [
             0.2,
             "#de77ae"
            ],
            [
             0.3,
             "#f1b6da"
            ],
            [
             0.4,
             "#fde0ef"
            ],
            [
             0.5,
             "#f7f7f7"
            ],
            [
             0.6,
             "#e6f5d0"
            ],
            [
             0.7,
             "#b8e186"
            ],
            [
             0.8,
             "#7fbc41"
            ],
            [
             0.9,
             "#4d9221"
            ],
            [
             1,
             "#276419"
            ]
           ],
           "sequential": [
            [
             0,
             "#0d0887"
            ],
            [
             0.1111111111111111,
             "#46039f"
            ],
            [
             0.2222222222222222,
             "#7201a8"
            ],
            [
             0.3333333333333333,
             "#9c179e"
            ],
            [
             0.4444444444444444,
             "#bd3786"
            ],
            [
             0.5555555555555556,
             "#d8576b"
            ],
            [
             0.6666666666666666,
             "#ed7953"
            ],
            [
             0.7777777777777778,
             "#fb9f3a"
            ],
            [
             0.8888888888888888,
             "#fdca26"
            ],
            [
             1,
             "#f0f921"
            ]
           ],
           "sequentialminus": [
            [
             0,
             "#0d0887"
            ],
            [
             0.1111111111111111,
             "#46039f"
            ],
            [
             0.2222222222222222,
             "#7201a8"
            ],
            [
             0.3333333333333333,
             "#9c179e"
            ],
            [
             0.4444444444444444,
             "#bd3786"
            ],
            [
             0.5555555555555556,
             "#d8576b"
            ],
            [
             0.6666666666666666,
             "#ed7953"
            ],
            [
             0.7777777777777778,
             "#fb9f3a"
            ],
            [
             0.8888888888888888,
             "#fdca26"
            ],
            [
             1,
             "#f0f921"
            ]
           ]
          },
          "colorway": [
           "#636efa",
           "#EF553B",
           "#00cc96",
           "#ab63fa",
           "#FFA15A",
           "#19d3f3",
           "#FF6692",
           "#B6E880",
           "#FF97FF",
           "#FECB52"
          ],
          "font": {
           "color": "#2a3f5f"
          },
          "geo": {
           "bgcolor": "white",
           "lakecolor": "white",
           "landcolor": "#E5ECF6",
           "showlakes": true,
           "showland": true,
           "subunitcolor": "white"
          },
          "hoverlabel": {
           "align": "left"
          },
          "hovermode": "closest",
          "mapbox": {
           "style": "light"
          },
          "paper_bgcolor": "white",
          "plot_bgcolor": "#E5ECF6",
          "polar": {
           "angularaxis": {
            "gridcolor": "white",
            "linecolor": "white",
            "ticks": ""
           },
           "bgcolor": "#E5ECF6",
           "radialaxis": {
            "gridcolor": "white",
            "linecolor": "white",
            "ticks": ""
           }
          },
          "scene": {
           "xaxis": {
            "backgroundcolor": "#E5ECF6",
            "gridcolor": "white",
            "gridwidth": 2,
            "linecolor": "white",
            "showbackground": true,
            "ticks": "",
            "zerolinecolor": "white"
           },
           "yaxis": {
            "backgroundcolor": "#E5ECF6",
            "gridcolor": "white",
            "gridwidth": 2,
            "linecolor": "white",
            "showbackground": true,
            "ticks": "",
            "zerolinecolor": "white"
           },
           "zaxis": {
            "backgroundcolor": "#E5ECF6",
            "gridcolor": "white",
            "gridwidth": 2,
            "linecolor": "white",
            "showbackground": true,
            "ticks": "",
            "zerolinecolor": "white"
           }
          },
          "shapedefaults": {
           "line": {
            "color": "#2a3f5f"
           }
          },
          "ternary": {
           "aaxis": {
            "gridcolor": "white",
            "linecolor": "white",
            "ticks": ""
           },
           "baxis": {
            "gridcolor": "white",
            "linecolor": "white",
            "ticks": ""
           },
           "bgcolor": "#E5ECF6",
           "caxis": {
            "gridcolor": "white",
            "linecolor": "white",
            "ticks": ""
           }
          },
          "title": {
           "x": 0.05
          },
          "xaxis": {
           "automargin": true,
           "gridcolor": "white",
           "linecolor": "white",
           "ticks": "",
           "zerolinecolor": "white",
           "zerolinewidth": 2
          },
          "yaxis": {
           "automargin": true,
           "gridcolor": "white",
           "linecolor": "white",
           "ticks": "",
           "zerolinecolor": "white",
           "zerolinewidth": 2
          }
         }
        },
        "title": {
         "text": "Distribution of target variable"
        },
        "width": 750
       }
      },
      "text/html": [
       "<div>\n",
       "        \n",
       "        \n",
       "            <div id=\"7453ace9-66ff-4a45-94f4-7969059cc4f1\" class=\"plotly-graph-div\" style=\"height:500px; width:750px;\"></div>\n",
       "            <script type=\"text/javascript\">\n",
       "                require([\"plotly\"], function(Plotly) {\n",
       "                    window.PLOTLYENV=window.PLOTLYENV || {};\n",
       "                    \n",
       "                if (document.getElementById(\"7453ace9-66ff-4a45-94f4-7969059cc4f1\")) {\n",
       "                    Plotly.newPlot(\n",
       "                        '7453ace9-66ff-4a45-94f4-7969059cc4f1',\n",
       "                        [{\"labels\": [\"Died\", \"Survived\"], \"marker\": {\"colors\": [\"pink\", \"lightblue\"], \"line\": {\"color\": \"#000000\", \"width\": 1.5}}, \"opacity\": 0.8, \"textfont\": {\"size\": 15}, \"type\": \"pie\", \"values\": [549, 342]}],\n",
       "                        {\"autosize\": true, \"height\": 500, \"template\": {\"data\": {\"bar\": [{\"error_x\": {\"color\": \"#2a3f5f\"}, \"error_y\": {\"color\": \"#2a3f5f\"}, \"marker\": {\"line\": {\"color\": \"#E5ECF6\", \"width\": 0.5}}, \"type\": \"bar\"}], \"barpolar\": [{\"marker\": {\"line\": {\"color\": \"#E5ECF6\", \"width\": 0.5}}, \"type\": \"barpolar\"}], \"carpet\": [{\"aaxis\": {\"endlinecolor\": \"#2a3f5f\", \"gridcolor\": \"white\", \"linecolor\": \"white\", \"minorgridcolor\": \"white\", \"startlinecolor\": \"#2a3f5f\"}, \"baxis\": {\"endlinecolor\": \"#2a3f5f\", \"gridcolor\": \"white\", \"linecolor\": \"white\", \"minorgridcolor\": \"white\", \"startlinecolor\": \"#2a3f5f\"}, \"type\": \"carpet\"}], \"choropleth\": [{\"colorbar\": {\"outlinewidth\": 0, \"ticks\": \"\"}, \"type\": \"choropleth\"}], \"contour\": [{\"colorbar\": {\"outlinewidth\": 0, \"ticks\": \"\"}, \"colorscale\": [[0.0, \"#0d0887\"], [0.1111111111111111, \"#46039f\"], [0.2222222222222222, \"#7201a8\"], [0.3333333333333333, \"#9c179e\"], [0.4444444444444444, \"#bd3786\"], [0.5555555555555556, \"#d8576b\"], [0.6666666666666666, \"#ed7953\"], [0.7777777777777778, \"#fb9f3a\"], [0.8888888888888888, \"#fdca26\"], [1.0, \"#f0f921\"]], \"type\": \"contour\"}], \"contourcarpet\": [{\"colorbar\": {\"outlinewidth\": 0, \"ticks\": \"\"}, \"type\": \"contourcarpet\"}], \"heatmap\": [{\"colorbar\": {\"outlinewidth\": 0, \"ticks\": \"\"}, \"colorscale\": [[0.0, \"#0d0887\"], [0.1111111111111111, \"#46039f\"], [0.2222222222222222, \"#7201a8\"], [0.3333333333333333, \"#9c179e\"], [0.4444444444444444, \"#bd3786\"], [0.5555555555555556, \"#d8576b\"], [0.6666666666666666, \"#ed7953\"], [0.7777777777777778, \"#fb9f3a\"], [0.8888888888888888, \"#fdca26\"], [1.0, \"#f0f921\"]], \"type\": \"heatmap\"}], \"heatmapgl\": [{\"colorbar\": {\"outlinewidth\": 0, \"ticks\": \"\"}, \"colorscale\": [[0.0, \"#0d0887\"], [0.1111111111111111, \"#46039f\"], [0.2222222222222222, \"#7201a8\"], [0.3333333333333333, \"#9c179e\"], [0.4444444444444444, \"#bd3786\"], [0.5555555555555556, \"#d8576b\"], [0.6666666666666666, \"#ed7953\"], [0.7777777777777778, \"#fb9f3a\"], [0.8888888888888888, \"#fdca26\"], [1.0, \"#f0f921\"]], \"type\": \"heatmapgl\"}], \"histogram\": [{\"marker\": {\"colorbar\": {\"outlinewidth\": 0, \"ticks\": \"\"}}, \"type\": \"histogram\"}], \"histogram2d\": [{\"colorbar\": {\"outlinewidth\": 0, \"ticks\": \"\"}, \"colorscale\": [[0.0, \"#0d0887\"], [0.1111111111111111, \"#46039f\"], [0.2222222222222222, \"#7201a8\"], [0.3333333333333333, \"#9c179e\"], [0.4444444444444444, \"#bd3786\"], [0.5555555555555556, \"#d8576b\"], [0.6666666666666666, \"#ed7953\"], [0.7777777777777778, \"#fb9f3a\"], [0.8888888888888888, \"#fdca26\"], [1.0, \"#f0f921\"]], \"type\": \"histogram2d\"}], \"histogram2dcontour\": [{\"colorbar\": {\"outlinewidth\": 0, \"ticks\": \"\"}, \"colorscale\": [[0.0, \"#0d0887\"], [0.1111111111111111, \"#46039f\"], [0.2222222222222222, \"#7201a8\"], [0.3333333333333333, \"#9c179e\"], [0.4444444444444444, \"#bd3786\"], [0.5555555555555556, \"#d8576b\"], [0.6666666666666666, \"#ed7953\"], [0.7777777777777778, \"#fb9f3a\"], [0.8888888888888888, \"#fdca26\"], [1.0, \"#f0f921\"]], \"type\": \"histogram2dcontour\"}], \"mesh3d\": [{\"colorbar\": {\"outlinewidth\": 0, \"ticks\": \"\"}, \"type\": \"mesh3d\"}], \"parcoords\": [{\"line\": {\"colorbar\": {\"outlinewidth\": 0, \"ticks\": \"\"}}, \"type\": \"parcoords\"}], \"scatter\": [{\"marker\": {\"colorbar\": {\"outlinewidth\": 0, \"ticks\": \"\"}}, \"type\": \"scatter\"}], \"scatter3d\": [{\"line\": {\"colorbar\": {\"outlinewidth\": 0, \"ticks\": \"\"}}, \"marker\": {\"colorbar\": {\"outlinewidth\": 0, \"ticks\": \"\"}}, \"type\": \"scatter3d\"}], \"scattercarpet\": [{\"marker\": {\"colorbar\": {\"outlinewidth\": 0, \"ticks\": \"\"}}, \"type\": \"scattercarpet\"}], \"scattergeo\": [{\"marker\": {\"colorbar\": {\"outlinewidth\": 0, \"ticks\": \"\"}}, \"type\": \"scattergeo\"}], \"scattergl\": [{\"marker\": {\"colorbar\": {\"outlinewidth\": 0, \"ticks\": \"\"}}, \"type\": \"scattergl\"}], \"scattermapbox\": [{\"marker\": {\"colorbar\": {\"outlinewidth\": 0, \"ticks\": \"\"}}, \"type\": \"scattermapbox\"}], \"scatterpolar\": [{\"marker\": {\"colorbar\": {\"outlinewidth\": 0, \"ticks\": \"\"}}, \"type\": \"scatterpolar\"}], \"scatterpolargl\": [{\"marker\": {\"colorbar\": {\"outlinewidth\": 0, \"ticks\": \"\"}}, \"type\": \"scatterpolargl\"}], \"scatterternary\": [{\"marker\": {\"colorbar\": {\"outlinewidth\": 0, \"ticks\": \"\"}}, \"type\": \"scatterternary\"}], \"surface\": [{\"colorbar\": {\"outlinewidth\": 0, \"ticks\": \"\"}, \"colorscale\": [[0.0, \"#0d0887\"], [0.1111111111111111, \"#46039f\"], [0.2222222222222222, \"#7201a8\"], [0.3333333333333333, \"#9c179e\"], [0.4444444444444444, \"#bd3786\"], [0.5555555555555556, \"#d8576b\"], [0.6666666666666666, \"#ed7953\"], [0.7777777777777778, \"#fb9f3a\"], [0.8888888888888888, \"#fdca26\"], [1.0, \"#f0f921\"]], \"type\": \"surface\"}], \"table\": [{\"cells\": {\"fill\": {\"color\": \"#EBF0F8\"}, \"line\": {\"color\": \"white\"}}, \"header\": {\"fill\": {\"color\": \"#C8D4E3\"}, \"line\": {\"color\": \"white\"}}, \"type\": \"table\"}]}, \"layout\": {\"annotationdefaults\": {\"arrowcolor\": \"#2a3f5f\", \"arrowhead\": 0, \"arrowwidth\": 1}, \"colorscale\": {\"diverging\": [[0, \"#8e0152\"], [0.1, \"#c51b7d\"], [0.2, \"#de77ae\"], [0.3, \"#f1b6da\"], [0.4, \"#fde0ef\"], [0.5, \"#f7f7f7\"], [0.6, \"#e6f5d0\"], [0.7, \"#b8e186\"], [0.8, \"#7fbc41\"], [0.9, \"#4d9221\"], [1, \"#276419\"]], \"sequential\": [[0.0, \"#0d0887\"], [0.1111111111111111, \"#46039f\"], [0.2222222222222222, \"#7201a8\"], [0.3333333333333333, \"#9c179e\"], [0.4444444444444444, \"#bd3786\"], [0.5555555555555556, \"#d8576b\"], [0.6666666666666666, \"#ed7953\"], [0.7777777777777778, \"#fb9f3a\"], [0.8888888888888888, \"#fdca26\"], [1.0, \"#f0f921\"]], \"sequentialminus\": [[0.0, \"#0d0887\"], [0.1111111111111111, \"#46039f\"], [0.2222222222222222, \"#7201a8\"], [0.3333333333333333, \"#9c179e\"], [0.4444444444444444, \"#bd3786\"], [0.5555555555555556, \"#d8576b\"], [0.6666666666666666, \"#ed7953\"], [0.7777777777777778, \"#fb9f3a\"], [0.8888888888888888, \"#fdca26\"], [1.0, \"#f0f921\"]]}, \"colorway\": [\"#636efa\", \"#EF553B\", \"#00cc96\", \"#ab63fa\", \"#FFA15A\", \"#19d3f3\", \"#FF6692\", \"#B6E880\", \"#FF97FF\", \"#FECB52\"], \"font\": {\"color\": \"#2a3f5f\"}, \"geo\": {\"bgcolor\": \"white\", \"lakecolor\": \"white\", \"landcolor\": \"#E5ECF6\", \"showlakes\": true, \"showland\": true, \"subunitcolor\": \"white\"}, \"hoverlabel\": {\"align\": \"left\"}, \"hovermode\": \"closest\", \"mapbox\": {\"style\": \"light\"}, \"paper_bgcolor\": \"white\", \"plot_bgcolor\": \"#E5ECF6\", \"polar\": {\"angularaxis\": {\"gridcolor\": \"white\", \"linecolor\": \"white\", \"ticks\": \"\"}, \"bgcolor\": \"#E5ECF6\", \"radialaxis\": {\"gridcolor\": \"white\", \"linecolor\": \"white\", \"ticks\": \"\"}}, \"scene\": {\"xaxis\": {\"backgroundcolor\": \"#E5ECF6\", \"gridcolor\": \"white\", \"gridwidth\": 2, \"linecolor\": \"white\", \"showbackground\": true, \"ticks\": \"\", \"zerolinecolor\": \"white\"}, \"yaxis\": {\"backgroundcolor\": \"#E5ECF6\", \"gridcolor\": \"white\", \"gridwidth\": 2, \"linecolor\": \"white\", \"showbackground\": true, \"ticks\": \"\", \"zerolinecolor\": \"white\"}, \"zaxis\": {\"backgroundcolor\": \"#E5ECF6\", \"gridcolor\": \"white\", \"gridwidth\": 2, \"linecolor\": \"white\", \"showbackground\": true, \"ticks\": \"\", \"zerolinecolor\": \"white\"}}, \"shapedefaults\": {\"line\": {\"color\": \"#2a3f5f\"}}, \"ternary\": {\"aaxis\": {\"gridcolor\": \"white\", \"linecolor\": \"white\", \"ticks\": \"\"}, \"baxis\": {\"gridcolor\": \"white\", \"linecolor\": \"white\", \"ticks\": \"\"}, \"bgcolor\": \"#E5ECF6\", \"caxis\": {\"gridcolor\": \"white\", \"linecolor\": \"white\", \"ticks\": \"\"}}, \"title\": {\"x\": 0.05}, \"xaxis\": {\"automargin\": true, \"gridcolor\": \"white\", \"linecolor\": \"white\", \"ticks\": \"\", \"zerolinecolor\": \"white\", \"zerolinewidth\": 2}, \"yaxis\": {\"automargin\": true, \"gridcolor\": \"white\", \"linecolor\": \"white\", \"ticks\": \"\", \"zerolinecolor\": \"white\", \"zerolinewidth\": 2}}}, \"title\": {\"text\": \"Distribution of target variable\"}, \"width\": 750},\n",
       "                        {\"responsive\": true}\n",
       "                    ).then(function(){\n",
       "                            \n",
       "var gd = document.getElementById('7453ace9-66ff-4a45-94f4-7969059cc4f1');\n",
       "var x = new MutationObserver(function (mutations, observer) {{\n",
       "        var display = window.getComputedStyle(gd).display;\n",
       "        if (!display || display === 'none') {{\n",
       "            console.log([gd, 'removed!']);\n",
       "            Plotly.purge(gd);\n",
       "            observer.disconnect();\n",
       "        }}\n",
       "}});\n",
       "\n",
       "// Listen for the removal of the full notebook cells\n",
       "var notebookContainer = gd.closest('#notebook-container');\n",
       "if (notebookContainer) {{\n",
       "    x.observe(notebookContainer, {childList: true});\n",
       "}}\n",
       "\n",
       "// Listen for the clearing of the current output cell\n",
       "var outputEl = gd.closest('.output');\n",
       "if (outputEl) {{\n",
       "    x.observe(outputEl, {childList: true});\n",
       "}}\n",
       "\n",
       "                        })\n",
       "                };\n",
       "                });\n",
       "            </script>\n",
       "        </div>"
      ]
     },
     "metadata": {},
     "output_type": "display_data"
    }
   ],
   "source": [
    "\n",
    "\n",
    "# Plotting target (count and %)\n",
    "train = data[data['Type']=='train']\n",
    "\n",
    "#------------COUNT-----------------------\n",
    "trace = go.Bar(\n",
    "        x = (train['Survived'].value_counts().values.tolist()), \n",
    "        y = ['Died', 'Survived'], \n",
    "        orientation = 'h', opacity = 0.8, \n",
    "        text=train['Survived'].value_counts().values.tolist(), \n",
    "        textfont=dict(size=15),\n",
    "        textposition = 'auto',\n",
    "        marker=dict(\n",
    "        color=['pink', 'lightblue'],\n",
    "        line=dict(color='#000000',width=1.5)\n",
    "        ))\n",
    "\n",
    "layout = dict(title =  'Count of target variable',\n",
    "                        autosize = False,\n",
    "                        height  = 500,\n",
    "                        width   = 800)\n",
    "                    \n",
    "fig = dict(data = [trace], layout=layout)\n",
    "py.iplot(fig)\n",
    "\n",
    "#------------PERCENTAGE-------------------\n",
    "trace = go.Pie(labels = ['Died', 'Survived'], values = train['Survived'].value_counts(), \n",
    "               textfont=dict(size=15), opacity = 0.8,\n",
    "               marker=dict(colors=['pink', 'lightblue'], \n",
    "                           line=dict(color='#000000', width=1.5)))\n",
    "\n",
    "\n",
    "layout = dict(title =  'Distribution of target variable',\n",
    "                        autosize = True,\n",
    "                        height  = 500,\n",
    "                        width   = 750)\n",
    "           \n",
    "fig = dict(data = [trace], layout=layout)\n",
    "py.iplot(fig)\n",
    "\n"
   ]
  },
  {
   "cell_type": "code",
   "execution_count": 17,
   "metadata": {},
   "outputs": [],
   "source": [
    "# Creating variable Title\n",
    "data['Title'] = data['Name']\n",
    "# Cleaning name and extracting Title\n",
    "for name_string in data['Name']:\n",
    "    data['Title'] = data['Name'].str.extract('([A-Za-z]+)\\.', expand=True)"
   ]
  },
  {
   "cell_type": "code",
   "execution_count": 18,
   "metadata": {},
   "outputs": [],
   "source": [
    "# Replacing rare titles \n",
    "mapping = {'Mlle': 'Miss', \n",
    "           'Ms': 'Miss', \n",
    "           'Mme': 'Mrs',\n",
    "           'Major': 'Other', \n",
    "           'Col': 'Other', \n",
    "           'Dr' : 'Other', \n",
    "           'Rev' : 'Other',\n",
    "           'Capt': 'Other', \n",
    "           'Jonkheer': 'Royal',\n",
    "           'Sir': 'Royal', \n",
    "           'Lady': 'Royal', \n",
    "           'Don': 'Royal',\n",
    "           'Countess': 'Royal', \n",
    "           'Dona': 'Royal'}\n",
    "data.replace({'Title': mapping}, inplace=True)\n",
    "titles = ['Miss', 'Mr', 'Mrs', 'Royal', 'Other', 'Master']\n"
   ]
  },
  {
   "cell_type": "code",
   "execution_count": 19,
   "metadata": {},
   "outputs": [],
   "source": [
    "\n",
    "\n",
    "# Creating new feature : family size\n",
    "data['Family_Size'] = data['Parch'] + data['SibSp'] + 1\n",
    "data.loc[:,'FsizeD']='Alone'\n",
    "data.loc[(data['Family_Size']>1),'FsizeD']='Small'\n",
    "data.loc[(data['Family_Size']>4),'FsizeD']='Big'\n",
    "\n"
   ]
  },
  {
   "cell_type": "code",
   "execution_count": 20,
   "metadata": {},
   "outputs": [
    {
     "data": {
      "text/html": [
       "<div>\n",
       "<style scoped>\n",
       "    .dataframe tbody tr th:only-of-type {\n",
       "        vertical-align: middle;\n",
       "    }\n",
       "\n",
       "    .dataframe tbody tr th {\n",
       "        vertical-align: top;\n",
       "    }\n",
       "\n",
       "    .dataframe thead th {\n",
       "        text-align: right;\n",
       "    }\n",
       "</style>\n",
       "<table border=\"1\" class=\"dataframe\">\n",
       "  <thead>\n",
       "    <tr style=\"text-align: right;\">\n",
       "      <th></th>\n",
       "      <th>Age</th>\n",
       "      <th>Cabin</th>\n",
       "      <th>Embarked</th>\n",
       "      <th>Fare</th>\n",
       "      <th>Name</th>\n",
       "      <th>Parch</th>\n",
       "      <th>PassengerId</th>\n",
       "      <th>Pclass</th>\n",
       "      <th>Sex</th>\n",
       "      <th>SibSp</th>\n",
       "      <th>Survived</th>\n",
       "      <th>Ticket</th>\n",
       "      <th>Type</th>\n",
       "      <th>Title</th>\n",
       "      <th>Family_Size</th>\n",
       "      <th>FsizeD</th>\n",
       "    </tr>\n",
       "  </thead>\n",
       "  <tbody>\n",
       "    <tr>\n",
       "      <th>152</th>\n",
       "      <td>60.5</td>\n",
       "      <td>NaN</td>\n",
       "      <td>S</td>\n",
       "      <td>NaN</td>\n",
       "      <td>Storey, Mr. Thomas</td>\n",
       "      <td>0</td>\n",
       "      <td>1044</td>\n",
       "      <td>3</td>\n",
       "      <td>male</td>\n",
       "      <td>0</td>\n",
       "      <td>NaN</td>\n",
       "      <td>3701</td>\n",
       "      <td>test</td>\n",
       "      <td>Mr</td>\n",
       "      <td>1</td>\n",
       "      <td>Alone</td>\n",
       "    </tr>\n",
       "  </tbody>\n",
       "</table>\n",
       "</div>"
      ],
      "text/plain": [
       "      Age Cabin Embarked  Fare                Name  Parch  PassengerId  \\\n",
       "152  60.5   NaN        S   NaN  Storey, Mr. Thomas      0         1044   \n",
       "\n",
       "     Pclass   Sex  SibSp  Survived Ticket  Type Title  Family_Size FsizeD  \n",
       "152       3  male      0       NaN   3701  test    Mr            1  Alone  "
      ]
     },
     "execution_count": 20,
     "metadata": {},
     "output_type": "execute_result"
    }
   ],
   "source": [
    "\n",
    "\n",
    "data[data[\"Fare\"].isnull()]\n",
    "\n"
   ]
  },
  {
   "cell_type": "code",
   "execution_count": 21,
   "metadata": {},
   "outputs": [],
   "source": [
    "fa = data[data[\"Pclass\"]==3]\n",
    "data['Fare'].fillna(fa['Fare'].median(), inplace = True)"
   ]
  },
  {
   "cell_type": "code",
   "execution_count": 22,
   "metadata": {},
   "outputs": [
    {
     "name": "stdout",
     "output_type": "stream",
     "text": [
      "Number of passengers with family survival information: 420\n"
     ]
    }
   ],
   "source": [
    "data['Last_Name'] = data['Name'].apply(lambda x: str.split(x, \",\")[0])\n",
    "\n",
    "DEFAULT_SURVIVAL_VALUE = 0.5\n",
    "data['Family_Survival'] = DEFAULT_SURVIVAL_VALUE\n",
    "\n",
    "for grp, grp_df in data[['Survived','Name', 'Last_Name', 'Fare', 'Ticket', 'PassengerId',\n",
    "                           'SibSp', 'Parch', 'Age', 'Cabin']].groupby(['Last_Name', 'Fare']):\n",
    "    \n",
    "    if (len(grp_df) != 1):\n",
    "        # A Family group is found.\n",
    "        for ind, row in grp_df.iterrows():\n",
    "            smax = grp_df.drop(ind)['Survived'].max()\n",
    "            smin = grp_df.drop(ind)['Survived'].min()\n",
    "            passID = row['PassengerId']\n",
    "            if (smax == 1.0):\n",
    "                data.loc[data['PassengerId'] == passID, 'Family_Survival'] = 1\n",
    "            elif (smin==0.0):\n",
    "                data.loc[data['PassengerId'] == passID, 'Family_Survival'] = 0\n",
    "\n",
    "print(\"Number of passengers with family survival information:\", \n",
    "      data.loc[data['Family_Survival']!=0.5].shape[0])"
   ]
  },
  {
   "cell_type": "code",
   "execution_count": 23,
   "metadata": {},
   "outputs": [
    {
     "name": "stdout",
     "output_type": "stream",
     "text": [
      "Number of passenger with family/group survival information: 546\n"
     ]
    }
   ],
   "source": [
    "for _, grp_df in data.groupby('Ticket'):\n",
    "    if (len(grp_df) != 1):\n",
    "        for ind, row in grp_df.iterrows():\n",
    "            if (row['Family_Survival'] == 0) | (row['Family_Survival']== 0.5):\n",
    "                smax = grp_df.drop(ind)['Survived'].max()\n",
    "                smin = grp_df.drop(ind)['Survived'].min()\n",
    "                passID = row['PassengerId']\n",
    "                if (smax == 1.0):\n",
    "                    data.loc[data['PassengerId'] == passID, 'Family_Survival'] = 1\n",
    "                elif (smin==0.0):\n",
    "                    data.loc[data['PassengerId'] == passID, 'Family_Survival'] = 0\n",
    "                        \n",
    "print(\"Number of passenger with family/group survival information: \" \n",
    "      +str(data[data['Family_Survival']!=0.5].shape[0]))"
   ]
  },
  {
   "cell_type": "code",
   "execution_count": 24,
   "metadata": {},
   "outputs": [
    {
     "data": {
      "text/html": [
       "<div>\n",
       "<style scoped>\n",
       "    .dataframe tbody tr th:only-of-type {\n",
       "        vertical-align: middle;\n",
       "    }\n",
       "\n",
       "    .dataframe tbody tr th {\n",
       "        vertical-align: top;\n",
       "    }\n",
       "\n",
       "    .dataframe thead th {\n",
       "        text-align: right;\n",
       "    }\n",
       "</style>\n",
       "<table border=\"1\" class=\"dataframe\">\n",
       "  <thead>\n",
       "    <tr style=\"text-align: right;\">\n",
       "      <th></th>\n",
       "      <th>Fare</th>\n",
       "      <th>PassengerId</th>\n",
       "      <th>Pclass</th>\n",
       "      <th>Sex</th>\n",
       "      <th>Survived</th>\n",
       "      <th>Type</th>\n",
       "      <th>Title</th>\n",
       "      <th>FsizeD</th>\n",
       "      <th>Family_Survival</th>\n",
       "    </tr>\n",
       "  </thead>\n",
       "  <tbody>\n",
       "    <tr>\n",
       "      <th>0</th>\n",
       "      <td>7.2500</td>\n",
       "      <td>1</td>\n",
       "      <td>3</td>\n",
       "      <td>male</td>\n",
       "      <td>0.0</td>\n",
       "      <td>train</td>\n",
       "      <td>Mr</td>\n",
       "      <td>Small</td>\n",
       "      <td>0.5</td>\n",
       "    </tr>\n",
       "    <tr>\n",
       "      <th>1</th>\n",
       "      <td>71.2833</td>\n",
       "      <td>2</td>\n",
       "      <td>1</td>\n",
       "      <td>female</td>\n",
       "      <td>1.0</td>\n",
       "      <td>train</td>\n",
       "      <td>Mrs</td>\n",
       "      <td>Small</td>\n",
       "      <td>0.5</td>\n",
       "    </tr>\n",
       "    <tr>\n",
       "      <th>2</th>\n",
       "      <td>7.9250</td>\n",
       "      <td>3</td>\n",
       "      <td>3</td>\n",
       "      <td>female</td>\n",
       "      <td>1.0</td>\n",
       "      <td>train</td>\n",
       "      <td>Miss</td>\n",
       "      <td>Alone</td>\n",
       "      <td>0.5</td>\n",
       "    </tr>\n",
       "    <tr>\n",
       "      <th>3</th>\n",
       "      <td>53.1000</td>\n",
       "      <td>4</td>\n",
       "      <td>1</td>\n",
       "      <td>female</td>\n",
       "      <td>1.0</td>\n",
       "      <td>train</td>\n",
       "      <td>Mrs</td>\n",
       "      <td>Small</td>\n",
       "      <td>0.0</td>\n",
       "    </tr>\n",
       "    <tr>\n",
       "      <th>4</th>\n",
       "      <td>8.0500</td>\n",
       "      <td>5</td>\n",
       "      <td>3</td>\n",
       "      <td>male</td>\n",
       "      <td>0.0</td>\n",
       "      <td>train</td>\n",
       "      <td>Mr</td>\n",
       "      <td>Alone</td>\n",
       "      <td>0.5</td>\n",
       "    </tr>\n",
       "  </tbody>\n",
       "</table>\n",
       "</div>"
      ],
      "text/plain": [
       "      Fare  PassengerId  Pclass     Sex  Survived   Type Title FsizeD  \\\n",
       "0   7.2500            1       3    male       0.0  train    Mr  Small   \n",
       "1  71.2833            2       1  female       1.0  train   Mrs  Small   \n",
       "2   7.9250            3       3  female       1.0  train  Miss  Alone   \n",
       "3  53.1000            4       1  female       1.0  train   Mrs  Small   \n",
       "4   8.0500            5       3    male       0.0  train    Mr  Alone   \n",
       "\n",
       "   Family_Survival  \n",
       "0              0.5  \n",
       "1              0.5  \n",
       "2              0.5  \n",
       "3              0.0  \n",
       "4              0.5  "
      ]
     },
     "execution_count": 24,
     "metadata": {},
     "output_type": "execute_result"
    }
   ],
   "source": [
    "\n",
    "\n",
    "data = data.drop(columns = [\n",
    "                            'Age',\n",
    "                            'Cabin', \n",
    "                            'Embarked',\n",
    "                            'Name',\n",
    "                            'Last_Name',\n",
    "                            'Parch', \n",
    "                            'SibSp', \n",
    "                            'Ticket', \n",
    "                            'Family_Size',\n",
    "                           ])\n",
    "data.head()\n",
    "\n"
   ]
  },
  {
   "cell_type": "code",
   "execution_count": 25,
   "metadata": {},
   "outputs": [],
   "source": [
    "target_col = [\"Survived\"]\n",
    "id_dataset = [\"Type\"]\n",
    "cat_cols   = data.nunique()[data.nunique() < 12].keys().tolist()\n",
    "cat_cols   = [x for x in cat_cols ]\n",
    "#numerical columns\n",
    "num_cols   = [x for x in data.columns if x not in cat_cols + target_col + id_dataset]\n",
    "#Binary columns with 2 values\n",
    "bin_cols   = data.nunique()[data.nunique() == 2].keys().tolist()\n",
    "#Columns more than 2 values\n",
    "multi_cols = [i for i in cat_cols if i not in bin_cols]\n",
    "\n",
    "#Label encoding Binary columns\n",
    "le = LabelEncoder()\n",
    "for i in bin_cols :\n",
    "    data[i] = le.fit_transform(data[i])\n",
    "    \n",
    "#Duplicating columns for multi value columns\n",
    "data = pd.get_dummies(data = data,columns = multi_cols )\n",
    "\n",
    "#Scaling Numerical columns\n",
    "std = StandardScaler()\n",
    "scaled = std.fit_transform(data[num_cols])\n",
    "scaled = pd.DataFrame(scaled,columns=num_cols)\n",
    "\n",
    "#dropping original values merging scaled values for numerical columns\n",
    "df_data_og = data.copy()\n",
    "data = data.drop(columns = num_cols,axis = 1)\n",
    "data = data.merge(scaled,left_index=True,right_index=True,how = \"left\")\n",
    "\n",
    "data = data.drop(columns = ['PassengerId'],axis = 1)"
   ]
  },
  {
   "cell_type": "code",
   "execution_count": 26,
   "metadata": {},
   "outputs": [],
   "source": [
    "# Cutting train and test\n",
    "train = data[data['Type'] == 1]\n",
    "test = data[data['Type'] == 0]\n",
    "\n",
    "train = train.drop(columns = ['Type'])\n",
    "test = test.drop(columns = ['Type'])"
   ]
  },
  {
   "cell_type": "code",
   "execution_count": 27,
   "metadata": {},
   "outputs": [],
   "source": [
    "X = train.drop('Survived', 1)\n",
    "y = train['Survived']\n",
    "X_test = test\n",
    "X_test = X_test.drop(columns = ['Survived'\n",
    "                           ])"
   ]
  },
  {
   "cell_type": "code",
   "execution_count": 28,
   "metadata": {},
   "outputs": [],
   "source": [
    "\n",
    "\n",
    "# Train_test split\n",
    "random_state = 42\n",
    "X_train, X_valid, y_train, y_valid = train_test_split(X, y, test_size = 0.2, random_state = random_state)\n",
    "\n"
   ]
  },
  {
   "cell_type": "code",
   "execution_count": 29,
   "metadata": {},
   "outputs": [
    {
     "name": "stdout",
     "output_type": "stream",
     "text": [
      "Fitting 5 folds for each of 500 candidates, totalling 2500 fits\n"
     ]
    },
    {
     "name": "stderr",
     "output_type": "stream",
     "text": [
      "[Parallel(n_jobs=1)]: Using backend SequentialBackend with 1 concurrent workers.\n"
     ]
    },
    {
     "name": "stdout",
     "output_type": "stream",
     "text": [
      "Best score reached: 0.8473625140291807 with params: {'colsample_bytree': 0.45579438389387933, 'learning_rate': 0.1, 'max_depth': 6, 'min_child_samples': 103, 'min_child_weight': 0.01, 'n_estimators': 1000, 'num_leaves': 42, 'reg_alpha': 10, 'reg_lambda': 5, 'subsample': 0.6485280755329368} \n"
     ]
    },
    {
     "name": "stderr",
     "output_type": "stream",
     "text": [
      "[Parallel(n_jobs=1)]: Done 2500 out of 2500 | elapsed:  1.5min finished\n"
     ]
    }
   ],
   "source": [
    "fit_params = {\"early_stopping_rounds\" : 100, \n",
    "             \"eval_metric\" : 'auc', \n",
    "             \"eval_set\" : [(X_train,y_train)],\n",
    "             'eval_names': ['valid'],\n",
    "             'verbose': 0,\n",
    "             'categorical_feature': 'auto'}\n",
    "\n",
    "param_test = {'learning_rate' : [0.01, 0.02, 0.03, 0.04, 0.05, 0.08, 0.1, 0.2, 0.3, 0.4],\n",
    "              'n_estimators' : [100, 200, 300, 400, 500, 600, 800, 1000, 1500, 2000],\n",
    "              'num_leaves': sp_randint(6, 50), \n",
    "              'min_child_samples': sp_randint(100, 500), \n",
    "              'min_child_weight': [1e-5, 1e-3, 1e-2, 1e-1, 1, 1e1, 1e2, 1e3, 1e4],\n",
    "              'subsample': sp_uniform(loc=0.2, scale=0.8), \n",
    "              'max_depth': [-1, 1, 2, 3, 4, 5, 6, 7],\n",
    "              'colsample_bytree': sp_uniform(loc=0.4, scale=0.6),\n",
    "              'reg_alpha': [0, 1e-1, 1, 2, 5, 7, 10, 50, 100],\n",
    "              'reg_lambda': [0, 1e-1, 1, 5, 10, 20, 50, 100]}\n",
    "\n",
    "#number of combinations\n",
    "n_iter = 500 \n",
    "\n",
    "#intializing lgbm and lunching the search\n",
    "lgbm_clf = lgbm.LGBMClassifier(random_state=random_state, silent=True, metric='None', n_jobs=4)\n",
    "grid_search = RandomizedSearchCV(\n",
    "    estimator=lgbm_clf, param_distributions=param_test, \n",
    "    n_iter=n_iter,\n",
    "    scoring='accuracy',\n",
    "    cv=5,\n",
    "    refit=True,\n",
    "    random_state=random_state,\n",
    "    verbose=True)\n",
    "\n",
    "grid_search.fit(X, y, **fit_params)\n",
    "print('Best score reached: {} with params: {} '.format(grid_search.best_score_, grid_search.best_params_))\n",
    "\n",
    "opt_parameters =  grid_search.best_params_"
   ]
  },
  {
   "cell_type": "code",
   "execution_count": 31,
   "metadata": {},
   "outputs": [],
   "source": [
    "def model_performance(model) : \n",
    "    #Conf matrix\n",
    "    conf_matrix = confusion_matrix(y_valid, y_pred)\n",
    "    trace1 = go.Heatmap(z = conf_matrix  ,x = [\"0 (pred)\",\"1 (pred)\"],\n",
    "                        y = [\"0 (true)\",\"1 (true)\"],xgap = 2, ygap = 2, \n",
    "                        colorscale = 'Viridis', showscale  = False)\n",
    "\n",
    "    #Show metrics\n",
    "    tp = conf_matrix[1,1]\n",
    "    fn = conf_matrix[1,0]\n",
    "    fp = conf_matrix[0,1]\n",
    "    tn = conf_matrix[0,0]\n",
    "    Accuracy  =  ((tp+tn)/(tp+tn+fp+fn))\n",
    "    Precision =  (tp/(tp+fp))\n",
    "    Recall    =  (tp/(tp+fn))\n",
    "    F1_score  =  (2*(((tp/(tp+fp))*(tp/(tp+fn)))/((tp/(tp+fp))+(tp/(tp+fn)))))\n",
    "\n",
    "    show_metrics = pd.DataFrame(data=[[Accuracy , Precision, Recall, F1_score]])\n",
    "    show_metrics = show_metrics.T\n",
    "\n",
    "    colors = ['gold', 'lightgreen', 'lightcoral', 'lightskyblue']\n",
    "    trace2 = go.Bar(x = (show_metrics[0].values), \n",
    "                    y = ['Accuracy', 'Precision', 'Recall', 'F1_score'], text = np.round_(show_metrics[0].values,4),\n",
    "                    textposition = 'auto', textfont=dict(color='black'),\n",
    "                    orientation = 'h', opacity = 1, marker=dict(\n",
    "            color=colors,\n",
    "            line=dict(color='#000000',width=1.5)))\n",
    "    \n",
    "    #Roc curve\n",
    "    model_roc_auc = round(roc_auc_score(y_valid, y_score) , 3)\n",
    "    fpr, tpr, t = roc_curve(y_valid, y_score)\n",
    "    trace3 = go.Scatter(x = fpr,y = tpr,\n",
    "                        name = \"Roc : \" + str(model_roc_auc),\n",
    "                        line = dict(color = ('rgb(22, 96, 167)'),width = 2), fill='tozeroy')\n",
    "    trace4 = go.Scatter(x = [0,1],y = [0,1],\n",
    "                        line = dict(color = ('black'),width = 1.5,\n",
    "                        dash = 'dot'))\n",
    "    \n",
    "    # Precision-recall curve\n",
    "    precision, recall, thresholds = precision_recall_curve(y_valid, y_score)\n",
    "    trace5 = go.Scatter(x = recall, y = precision,\n",
    "                        name = \"Precision\" + str(precision),\n",
    "                        line = dict(color = ('lightcoral'),width = 2), fill='tozeroy')\n",
    "    \n",
    "    #Feature importance\n",
    "    coefficients  = pd.DataFrame(eval(model).feature_importances_)\n",
    "    column_data   = pd.DataFrame(list(train))\n",
    "    coef_sumry    = (pd.merge(coefficients,column_data,left_index= True,\n",
    "                              right_index= True, how = \"left\"))\n",
    "    coef_sumry.columns = [\"coefficients\",\"features\"]\n",
    "    coef_sumry    = coef_sumry.sort_values(by = \"coefficients\",ascending = False)\n",
    "    coef_sumry = coef_sumry[coef_sumry[\"coefficients\"] !=0]\n",
    "    trace6 = go.Bar(x = coef_sumry[\"features\"],y = coef_sumry[\"coefficients\"],\n",
    "                    name = \"coefficients\", \n",
    "                    marker = dict(color = coef_sumry[\"coefficients\"],\n",
    "                                  colorscale = \"Viridis\",\n",
    "                                  line = dict(width = .6,color = \"black\")))\n",
    "    \n",
    "    #Cumulative gain\n",
    "    pos = pd.get_dummies(y_valid).as_matrix()\n",
    "    pos = pos[:,1] \n",
    "    npos = np.sum(pos)\n",
    "    index = np.argsort(y_score) \n",
    "    index = index[::-1] \n",
    "    sort_pos = pos[index]\n",
    "    #cumulative sum\n",
    "    cpos = np.cumsum(sort_pos) \n",
    "    #recall\n",
    "    recall = cpos/npos \n",
    "    #size obs test\n",
    "    n = y_valid.shape[0] \n",
    "    size = np.arange(start=1,stop=369,step=1) \n",
    "    #proportion\n",
    "    size = size / n \n",
    "    #plots\n",
    "    model = model\n",
    "    trace7 = go.Scatter(x = size,y = recall,\n",
    "                        line = dict(color = ('gold'),width = 2), fill='tozeroy') \n",
    "    \n",
    "    #Subplots\n",
    "    fig = tls.make_subplots(rows=4, cols=2, print_grid=False,\n",
    "                          specs=[[{}, {}], \n",
    "                                 [{}, {}],\n",
    "                                 [{'colspan': 2}, None],\n",
    "                                 [{'colspan': 2}, None]],\n",
    "                          subplot_titles=('Confusion Matrix',\n",
    "                                          'Metrics',\n",
    "                                          'ROC curve'+\" \"+ '('+ str(model_roc_auc)+')',\n",
    "                                          'Precision - Recall curve',\n",
    "                                          'Cumulative gains curve',\n",
    "                                          'Feature importance'\n",
    "                                          ))\n",
    "    \n",
    "    fig.append_trace(trace1,1,1)\n",
    "    fig.append_trace(trace2,1,2)\n",
    "    fig.append_trace(trace3,2,1)\n",
    "    fig.append_trace(trace4,2,1)\n",
    "    fig.append_trace(trace5,2,2)\n",
    "    fig.append_trace(trace6,4,1)\n",
    "    fig.append_trace(trace7,3,1)\n",
    "    \n",
    "    fig['layout'].update(showlegend = False, title = '<b>Model performance report</b><br>'+str(model),\n",
    "                         autosize = False, \n",
    "                         height = 1500,\n",
    "                         width = 800,\n",
    "                         plot_bgcolor = 'black',\n",
    "                         paper_bgcolor = 'black',\n",
    "                         margin = dict(b = 195), \n",
    "                         font=dict(color='white')\n",
    "                        )\n",
    "    \n",
    "    fig[\"layout\"][\"xaxis1\"].update(dict(color = 'white'),showgrid=False)\n",
    "    fig[\"layout\"][\"yaxis1\"].update(dict(color = 'white'),showgrid=False)\n",
    "    fig[\"layout\"][\"xaxis2\"].update((dict(range=[0, 1], color = 'white')),showgrid=False)\n",
    "    fig[\"layout\"][\"yaxis2\"].update(dict(color = 'white'),showgrid=False)\n",
    "    fig[\"layout\"][\"xaxis3\"].update(dict(title = \"false positive rate\"),showgrid=False)\n",
    "    fig[\"layout\"][\"yaxis3\"].update(dict(title = \"true positive rate\"),color = 'white',showgrid=False)\n",
    "    fig[\"layout\"][\"xaxis4\"].update(dict(title = \"recall\"), range = [0,1.05],color = 'white',showgrid=False)\n",
    "    fig[\"layout\"][\"yaxis4\"].update(dict(title = \"precision\"), range = [0,1.05],color = 'white',showgrid=False)\n",
    "    fig[\"layout\"][\"xaxis5\"].update(dict(title = \"Percentage contacted\"),color = 'white',showgrid=False)\n",
    "    fig[\"layout\"][\"yaxis5\"].update(dict(title = \"Percentage positive targeted\"),color = 'white',showgrid=False)\n",
    "    fig[\"layout\"][\"xaxis6\"].update(dict(color = 'white'),showgrid=False)\n",
    "    fig[\"layout\"][\"yaxis6\"].update(dict(color = 'white'),showgrid=False)\n",
    "    for i in fig['layout']['annotations']:\n",
    "        i['font'] = titlefont=dict(color='white', size = 14)\n",
    "    py.iplot(fig)"
   ]
  },
  {
   "cell_type": "code",
   "execution_count": 32,
   "metadata": {},
   "outputs": [
    {
     "data": {
      "application/vnd.plotly.v1+json": {
       "config": {
        "linkText": "Export to plot.ly",
        "plotlyServerURL": "https://plot.ly",
        "showLink": false
       },
       "data": [
        {
         "colorscale": [
          [
           0,
           "#440154"
          ],
          [
           0.1111111111111111,
           "#482878"
          ],
          [
           0.2222222222222222,
           "#3e4989"
          ],
          [
           0.3333333333333333,
           "#31688e"
          ],
          [
           0.4444444444444444,
           "#26828e"
          ],
          [
           0.5555555555555556,
           "#1f9e89"
          ],
          [
           0.6666666666666666,
           "#35b779"
          ],
          [
           0.7777777777777778,
           "#6ece58"
          ],
          [
           0.8888888888888888,
           "#b5de2b"
          ],
          [
           1,
           "#fde725"
          ]
         ],
         "showscale": false,
         "type": "heatmap",
         "x": [
          "0 (pred)",
          "1 (pred)"
         ],
         "xaxis": "x",
         "xgap": 2,
         "y": [
          "0 (true)",
          "1 (true)"
         ],
         "yaxis": "y",
         "ygap": 2,
         "z": [
          [
           94,
           11
          ],
          [
           18,
           56
          ]
         ]
        },
        {
         "marker": {
          "color": [
           "gold",
           "lightgreen",
           "lightcoral",
           "lightskyblue"
          ],
          "line": {
           "color": "#000000",
           "width": 1.5
          }
         },
         "opacity": 1,
         "orientation": "h",
         "text": [
          0.838,
          0.8358,
          0.7568,
          0.7943
         ],
         "textfont": {
          "color": "black"
         },
         "textposition": "auto",
         "type": "bar",
         "x": [
          0.8379888268156425,
          0.835820895522388,
          0.7567567567567568,
          0.7943262411347517
         ],
         "xaxis": "x2",
         "y": [
          "Accuracy",
          "Precision",
          "Recall",
          "F1_score"
         ],
         "yaxis": "y2"
        },
        {
         "fill": "tozeroy",
         "line": {
          "color": "rgb(22, 96, 167)",
          "width": 2
         },
         "name": "Roc : 0.901",
         "type": "scatter",
         "x": [
          0,
          0,
          0,
          0,
          0,
          0,
          0,
          0.009523809523809525,
          0.009523809523809525,
          0.01904761904761905,
          0.01904761904761905,
          0.01904761904761905,
          0.01904761904761905,
          0.01904761904761905,
          0.01904761904761905,
          0.01904761904761905,
          0.02857142857142857,
          0.02857142857142857,
          0.0380952380952381,
          0.0380952380952381,
          0.047619047619047616,
          0.06666666666666667,
          0.06666666666666667,
          0.06666666666666667,
          0.10476190476190476,
          0.1523809523809524,
          0.17142857142857143,
          0.18095238095238095,
          0.21904761904761905,
          0.21904761904761905,
          0.22857142857142856,
          0.23809523809523808,
          0.3047619047619048,
          0.3142857142857143,
          0.3333333333333333,
          0.34285714285714286,
          0.3619047619047619,
          0.4095238095238095,
          0.44761904761904764,
          0.4666666666666667,
          0.47619047619047616,
          0.6857142857142857,
          0.7047619047619048,
          0.8761904761904762,
          0.8952380952380953,
          0.9047619047619048,
          0.9238095238095239,
          0.9523809523809523,
          0.9809523809523809,
          1
         ],
         "xaxis": "x3",
         "y": [
          0,
          0.04054054054054054,
          0.06756756756756757,
          0.10810810810810811,
          0.20270270270270271,
          0.22972972972972974,
          0.28378378378378377,
          0.32432432432432434,
          0.35135135135135137,
          0.36486486486486486,
          0.4189189189189189,
          0.4594594594594595,
          0.4864864864864865,
          0.527027027027027,
          0.5540540540540541,
          0.5675675675675675,
          0.581081081081081,
          0.6081081081081081,
          0.6081081081081081,
          0.6216216216216216,
          0.6216216216216216,
          0.7162162162162162,
          0.7297297297297297,
          0.7567567567567568,
          0.7567567567567568,
          0.7837837837837838,
          0.7972972972972973,
          0.7972972972972973,
          0.7972972972972973,
          0.8108108108108109,
          0.8108108108108109,
          0.8378378378378378,
          0.8783783783783784,
          0.8783783783783784,
          0.9459459459459459,
          0.9459459459459459,
          0.9459459459459459,
          0.9594594594594594,
          0.9594594594594594,
          0.9594594594594594,
          0.9594594594594594,
          0.9594594594594594,
          0.9594594594594594,
          1,
          1,
          1,
          1,
          1,
          1,
          1
         ],
         "yaxis": "y3"
        },
        {
         "line": {
          "color": "black",
          "dash": "dot",
          "width": 1.5
         },
         "type": "scatter",
         "x": [
          0,
          1
         ],
         "xaxis": "x3",
         "y": [
          0,
          1
         ],
         "yaxis": "y3"
        },
        {
         "fill": "tozeroy",
         "line": {
          "color": "lightcoral",
          "width": 2
         },
         "name": "Precision[0.44578313 0.48965517 0.49305556 0.4965035  0.58677686 0.59166667\n 0.60169492 0.62280702 0.64814815 0.66037736 0.66666667 0.66326531\n 0.67010309 0.71264368 0.71428571 0.72289157 0.7195122  0.75641026\n 0.76623377 0.78378378 0.8358209  0.84848485 0.86153846 0.875\n 0.88888889 0.8852459  0.88333333 0.90196078 0.92       0.91836735\n 0.9375     0.93478261 0.95454545 0.95348837 0.95121951 0.95\n 0.94871795 0.94736842 0.94444444 0.93939394 0.9375     0.93548387\n 0.93333333 0.93103448 0.96296296 0.96153846 0.96       1.\n 1.         1.         1.         1.         1.         1.\n 1.        ]",
         "type": "scatter",
         "x": [
          1,
          0.9594594594594594,
          0.9594594594594594,
          0.9594594594594594,
          0.9594594594594594,
          0.9594594594594594,
          0.9594594594594594,
          0.9594594594594594,
          0.9459459459459459,
          0.9459459459459459,
          0.9459459459459459,
          0.8783783783783784,
          0.8783783783783784,
          0.8378378378378378,
          0.8108108108108109,
          0.8108108108108109,
          0.7972972972972973,
          0.7972972972972973,
          0.7972972972972973,
          0.7837837837837838,
          0.7567567567567568,
          0.7567567567567568,
          0.7567567567567568,
          0.7567567567567568,
          0.7567567567567568,
          0.7297297297297297,
          0.7162162162162162,
          0.6216216216216216,
          0.6216216216216216,
          0.6081081081081081,
          0.6081081081081081,
          0.581081081081081,
          0.5675675675675675,
          0.5540540540540541,
          0.527027027027027,
          0.5135135135135135,
          0.5,
          0.4864864864864865,
          0.4594594594594595,
          0.4189189189189189,
          0.40540540540540543,
          0.3918918918918919,
          0.3783783783783784,
          0.36486486486486486,
          0.35135135135135137,
          0.33783783783783783,
          0.32432432432432434,
          0.28378378378378377,
          0.22972972972972974,
          0.21621621621621623,
          0.20270270270270271,
          0.10810810810810811,
          0.06756756756756757,
          0.04054054054054054,
          0
         ],
         "xaxis": "x4",
         "y": [
          0.4457831325301205,
          0.4896551724137931,
          0.4930555555555556,
          0.4965034965034965,
          0.5867768595041323,
          0.5916666666666667,
          0.6016949152542372,
          0.6228070175438597,
          0.6481481481481481,
          0.660377358490566,
          0.6666666666666666,
          0.6632653061224489,
          0.6701030927835051,
          0.7126436781609196,
          0.7142857142857143,
          0.7228915662650602,
          0.7195121951219512,
          0.7564102564102564,
          0.7662337662337663,
          0.7837837837837838,
          0.835820895522388,
          0.8484848484848485,
          0.8615384615384616,
          0.875,
          0.8888888888888888,
          0.8852459016393442,
          0.8833333333333333,
          0.9019607843137255,
          0.92,
          0.9183673469387755,
          0.9375,
          0.9347826086956522,
          0.9545454545454546,
          0.9534883720930233,
          0.9512195121951219,
          0.95,
          0.9487179487179487,
          0.9473684210526315,
          0.9444444444444444,
          0.9393939393939394,
          0.9375,
          0.9354838709677419,
          0.9333333333333333,
          0.9310344827586207,
          0.9629629629629629,
          0.9615384615384616,
          0.96,
          1,
          1,
          1,
          1,
          1,
          1,
          1,
          1
         ],
         "yaxis": "y4"
        },
        {
         "marker": {
          "color": [
           240,
           43,
           39,
           32,
           22,
           18,
           9,
           7,
           2,
           2,
           1
          ],
          "colorscale": [
           [
            0,
            "#440154"
           ],
           [
            0.1111111111111111,
            "#482878"
           ],
           [
            0.2222222222222222,
            "#3e4989"
           ],
           [
            0.3333333333333333,
            "#31688e"
           ],
           [
            0.4444444444444444,
            "#26828e"
           ],
           [
            0.5555555555555556,
            "#1f9e89"
           ],
           [
            0.6666666666666666,
            "#35b779"
           ],
           [
            0.7777777777777778,
            "#6ece58"
           ],
           [
            0.8888888888888888,
            "#b5de2b"
           ],
           [
            1,
            "#fde725"
           ]
          ],
          "line": {
           "color": "black",
           "width": 0.6
          }
         },
         "name": "coefficients",
         "type": "bar",
         "x": [
          "Survived",
          "FsizeD_Small",
          "Sex",
          "Title_Miss",
          "Pclass_2",
          "Family_Survival_0.5",
          "Family_Survival_1.0",
          "FsizeD_Big",
          "Title_Master",
          "Family_Survival_0.0",
          "Pclass_1"
         ],
         "xaxis": "x6",
         "y": [
          240,
          43,
          39,
          32,
          22,
          18,
          9,
          7,
          2,
          2,
          1
         ],
         "yaxis": "y6"
        },
        {
         "fill": "tozeroy",
         "line": {
          "color": "gold",
          "width": 2
         },
         "type": "scatter",
         "x": [
          0.00558659217877095,
          0.0111731843575419,
          0.01675977653631285,
          0.0223463687150838,
          0.027932960893854747,
          0.0335195530726257,
          0.03910614525139665,
          0.0446927374301676,
          0.05027932960893855,
          0.055865921787709494,
          0.061452513966480445,
          0.0670391061452514,
          0.07262569832402235,
          0.0782122905027933,
          0.08379888268156424,
          0.0893854748603352,
          0.09497206703910614,
          0.1005586592178771,
          0.10614525139664804,
          0.11173184357541899,
          0.11731843575418995,
          0.12290502793296089,
          0.12849162011173185,
          0.1340782122905028,
          0.13966480446927373,
          0.1452513966480447,
          0.15083798882681565,
          0.1564245810055866,
          0.16201117318435754,
          0.16759776536312848,
          0.17318435754189945,
          0.1787709497206704,
          0.18435754189944134,
          0.18994413407821228,
          0.19553072625698323,
          0.2011173184357542,
          0.20670391061452514,
          0.2122905027932961,
          0.21787709497206703,
          0.22346368715083798,
          0.22905027932960895,
          0.2346368715083799,
          0.24022346368715083,
          0.24581005586592178,
          0.25139664804469275,
          0.2569832402234637,
          0.26256983240223464,
          0.2681564245810056,
          0.2737430167597765,
          0.27932960893854747,
          0.2849162011173184,
          0.2905027932960894,
          0.29608938547486036,
          0.3016759776536313,
          0.30726256983240224,
          0.3128491620111732,
          0.31843575418994413,
          0.3240223463687151,
          0.329608938547486,
          0.33519553072625696,
          0.3407821229050279,
          0.3463687150837989,
          0.35195530726256985,
          0.3575418994413408,
          0.36312849162011174,
          0.3687150837988827,
          0.3743016759776536,
          0.37988826815642457,
          0.3854748603351955,
          0.39106145251396646,
          0.39664804469273746,
          0.4022346368715084,
          0.40782122905027934,
          0.4134078212290503,
          0.41899441340782123,
          0.4245810055865922,
          0.4301675977653631,
          0.43575418994413406,
          0.441340782122905,
          0.44692737430167595,
          0.45251396648044695,
          0.4581005586592179,
          0.46368715083798884,
          0.4692737430167598,
          0.4748603351955307,
          0.48044692737430167,
          0.4860335195530726,
          0.49162011173184356,
          0.4972067039106145,
          0.5027932960893855,
          0.5083798882681564,
          0.5139664804469274,
          0.5195530726256983,
          0.5251396648044693,
          0.5307262569832403,
          0.5363128491620112,
          0.5418994413407822,
          0.547486033519553,
          0.553072625698324,
          0.5586592178770949,
          0.5642458100558659,
          0.5698324022346368,
          0.5754189944134078,
          0.5810055865921788,
          0.5865921787709497,
          0.5921787709497207,
          0.5977653631284916,
          0.6033519553072626,
          0.6089385474860335,
          0.6145251396648045,
          0.6201117318435754,
          0.6256983240223464,
          0.6312849162011173,
          0.6368715083798883,
          0.6424581005586593,
          0.6480446927374302,
          0.6536312849162011,
          0.659217877094972,
          0.664804469273743,
          0.6703910614525139,
          0.6759776536312849,
          0.6815642458100558,
          0.6871508379888268,
          0.6927374301675978,
          0.6983240223463687,
          0.7039106145251397,
          0.7094972067039106,
          0.7150837988826816,
          0.7206703910614525,
          0.7262569832402235,
          0.7318435754189944,
          0.7374301675977654,
          0.7430167597765364,
          0.7486033519553073,
          0.7541899441340782,
          0.7597765363128491,
          0.7653631284916201,
          0.770949720670391,
          0.776536312849162,
          0.7821229050279329,
          0.7877094972067039,
          0.7932960893854749,
          0.7988826815642458,
          0.8044692737430168,
          0.8100558659217877,
          0.8156424581005587,
          0.8212290502793296,
          0.8268156424581006,
          0.8324022346368715,
          0.8379888268156425,
          0.8435754189944135,
          0.8491620111731844,
          0.8547486033519553,
          0.8603351955307262,
          0.8659217877094972,
          0.8715083798882681,
          0.8770949720670391,
          0.88268156424581,
          0.888268156424581,
          0.8938547486033519,
          0.8994413407821229,
          0.9050279329608939,
          0.9106145251396648,
          0.9162011173184358,
          0.9217877094972067,
          0.9273743016759777,
          0.9329608938547486,
          0.9385474860335196,
          0.9441340782122905,
          0.9497206703910615,
          0.9553072625698324,
          0.9608938547486033,
          0.9664804469273743,
          0.9720670391061452,
          0.9776536312849162,
          0.9832402234636871,
          0.9888268156424581,
          0.994413407821229,
          1,
          1.005586592178771,
          1.011173184357542,
          1.0167597765363128,
          1.0223463687150838,
          1.0279329608938548,
          1.0335195530726258,
          1.0391061452513966,
          1.0446927374301676,
          1.0502793296089385,
          1.0558659217877095,
          1.0614525139664805,
          1.0670391061452513,
          1.0726256983240223,
          1.0782122905027933,
          1.0837988826815643,
          1.089385474860335,
          1.094972067039106,
          1.100558659217877,
          1.106145251396648,
          1.111731843575419,
          1.1173184357541899,
          1.1229050279329609,
          1.1284916201117319,
          1.1340782122905029,
          1.1396648044692737,
          1.1452513966480447,
          1.1508379888268156,
          1.1564245810055866,
          1.1620111731843576,
          1.1675977653631284,
          1.1731843575418994,
          1.1787709497206704,
          1.1843575418994414,
          1.1899441340782122,
          1.1955307262569832,
          1.2011173184357542,
          1.2067039106145252,
          1.2122905027932962,
          1.217877094972067,
          1.223463687150838,
          1.229050279329609,
          1.23463687150838,
          1.2402234636871508,
          1.2458100558659218,
          1.2513966480446927,
          1.2569832402234637,
          1.2625698324022345,
          1.2681564245810055,
          1.2737430167597765,
          1.2793296089385475,
          1.2849162011173185,
          1.2905027932960893,
          1.2960893854748603,
          1.3016759776536313,
          1.3072625698324023,
          1.312849162011173,
          1.318435754189944,
          1.324022346368715,
          1.329608938547486,
          1.335195530726257,
          1.3407821229050279,
          1.3463687150837989,
          1.3519553072625698,
          1.3575418994413408,
          1.3631284916201116,
          1.3687150837988826,
          1.3743016759776536,
          1.3798882681564246,
          1.3854748603351956,
          1.3910614525139664,
          1.3966480446927374,
          1.4022346368715084,
          1.4078212290502794,
          1.4134078212290502,
          1.4189944134078212,
          1.4245810055865922,
          1.4301675977653632,
          1.4357541899441342,
          1.441340782122905,
          1.446927374301676,
          1.452513966480447,
          1.458100558659218,
          1.4636871508379887,
          1.4692737430167597,
          1.4748603351955307,
          1.4804469273743017,
          1.4860335195530727,
          1.4916201117318435,
          1.4972067039106145,
          1.5027932960893855,
          1.5083798882681565,
          1.5139664804469273,
          1.5195530726256983,
          1.5251396648044693,
          1.5307262569832403,
          1.5363128491620113,
          1.541899441340782,
          1.547486033519553,
          1.553072625698324,
          1.558659217877095,
          1.5642458100558658,
          1.5698324022346368,
          1.5754189944134078,
          1.5810055865921788,
          1.5865921787709498,
          1.5921787709497206,
          1.5977653631284916,
          1.6033519553072626,
          1.6089385474860336,
          1.6145251396648044,
          1.6201117318435754,
          1.6256983240223464,
          1.6312849162011174,
          1.6368715083798884,
          1.6424581005586592,
          1.6480446927374302,
          1.6536312849162011,
          1.6592178770949721,
          1.664804469273743,
          1.670391061452514,
          1.675977653631285,
          1.681564245810056,
          1.687150837988827,
          1.6927374301675977,
          1.6983240223463687,
          1.7039106145251397,
          1.7094972067039107,
          1.7150837988826815,
          1.7206703910614525,
          1.7262569832402235,
          1.7318435754189945,
          1.7374301675977655,
          1.7430167597765363,
          1.7486033519553073,
          1.7541899441340782,
          1.7597765363128492,
          1.76536312849162,
          1.770949720670391,
          1.776536312849162,
          1.782122905027933,
          1.7877094972067038,
          1.7932960893854748,
          1.7988826815642458,
          1.8044692737430168,
          1.8100558659217878,
          1.8156424581005586,
          1.8212290502793296,
          1.8268156424581006,
          1.8324022346368716,
          1.8379888268156424,
          1.8435754189944134,
          1.8491620111731844,
          1.8547486033519553,
          1.8603351955307263,
          1.8659217877094971,
          1.8715083798882681,
          1.8770949720670391,
          1.8826815642458101,
          1.888268156424581,
          1.893854748603352,
          1.899441340782123,
          1.905027932960894,
          1.910614525139665,
          1.9162011173184357,
          1.9217877094972067,
          1.9273743016759777,
          1.9329608938547487,
          1.9385474860335195,
          1.9441340782122905,
          1.9497206703910615,
          1.9553072625698324,
          1.9608938547486034,
          1.9664804469273742,
          1.9720670391061452,
          1.9776536312849162,
          1.9832402234636872,
          1.988826815642458,
          1.994413407821229,
          2,
          2.005586592178771,
          2.011173184357542,
          2.016759776536313,
          2.022346368715084,
          2.0279329608938546,
          2.0335195530726256,
          2.0391061452513966,
          2.0446927374301676,
          2.0502793296089385,
          2.0558659217877095
         ],
         "xaxis": "x5",
         "y": [
          0.013513513513513514,
          0.02702702702702703,
          0.04054054054054054,
          0.05405405405405406,
          0.06756756756756757,
          0.08108108108108109,
          0.0945945945945946,
          0.10810810810810811,
          0.12162162162162163,
          0.13513513513513514,
          0.14864864864864866,
          0.16216216216216217,
          0.17567567567567569,
          0.1891891891891892,
          0.20270270270270271,
          0.21621621621621623,
          0.22972972972972974,
          0.24324324324324326,
          0.25675675675675674,
          0.2702702702702703,
          0.28378378378378377,
          0.2972972972972973,
          0.2972972972972973,
          0.3108108108108108,
          0.32432432432432434,
          0.33783783783783783,
          0.35135135135135137,
          0.36486486486486486,
          0.36486486486486486,
          0.3783783783783784,
          0.3918918918918919,
          0.40540540540540543,
          0.4189189189189189,
          0.43243243243243246,
          0.44594594594594594,
          0.4594594594594595,
          0.47297297297297297,
          0.4864864864864865,
          0.5,
          0.5135135135135135,
          0.527027027027027,
          0.5405405405405406,
          0.5540540540540541,
          0.5675675675675675,
          0.5675675675675675,
          0.581081081081081,
          0.5945945945945946,
          0.6081081081081081,
          0.6081081081081081,
          0.6216216216216216,
          0.6216216216216216,
          0.6216216216216216,
          0.6351351351351351,
          0.6486486486486487,
          0.6621621621621622,
          0.6756756756756757,
          0.6891891891891891,
          0.7027027027027027,
          0.7162162162162162,
          0.7162162162162162,
          0.7297297297297297,
          0.7432432432432432,
          0.7567567567567568,
          0.7567567567567568,
          0.7567567567567568,
          0.7567567567567568,
          0.7567567567567568,
          0.7702702702702703,
          0.7702702702702703,
          0.7702702702702703,
          0.7702702702702703,
          0.7702702702702703,
          0.7837837837837838,
          0.7837837837837838,
          0.7837837837837838,
          0.7972972972972973,
          0.7972972972972973,
          0.7972972972972973,
          0.7972972972972973,
          0.7972972972972973,
          0.7972972972972973,
          0.7972972972972973,
          0.8108108108108109,
          0.8108108108108109,
          0.8243243243243243,
          0.8243243243243243,
          0.8378378378378378,
          0.8513513513513513,
          0.8513513513513513,
          0.8513513513513513,
          0.8648648648648649,
          0.8648648648648649,
          0.8648648648648649,
          0.8783783783783784,
          0.8783783783783784,
          0.8783783783783784,
          0.8783783783783784,
          0.8783783783783784,
          0.8918918918918919,
          0.9054054054054054,
          0.9054054054054054,
          0.918918918918919,
          0.9324324324324325,
          0.9324324324324325,
          0.9459459459459459,
          0.9459459459459459,
          0.9459459459459459,
          0.9459459459459459,
          0.9459459459459459,
          0.9459459459459459,
          0.9459459459459459,
          0.9459459459459459,
          0.9594594594594594,
          0.9594594594594594,
          0.9594594594594594,
          0.9594594594594594,
          0.9594594594594594,
          0.9594594594594594,
          0.9594594594594594,
          0.9594594594594594,
          0.9594594594594594,
          0.9594594594594594,
          0.9594594594594594,
          0.9594594594594594,
          0.9594594594594594,
          0.9594594594594594,
          0.9594594594594594,
          0.9594594594594594,
          0.9594594594594594,
          0.9594594594594594,
          0.9594594594594594,
          0.9594594594594594,
          0.9594594594594594,
          0.9594594594594594,
          0.9594594594594594,
          0.9594594594594594,
          0.9594594594594594,
          0.9594594594594594,
          0.9594594594594594,
          0.9594594594594594,
          0.9594594594594594,
          0.9594594594594594,
          0.9594594594594594,
          0.9594594594594594,
          0.9594594594594594,
          0.9594594594594594,
          0.9594594594594594,
          0.9594594594594594,
          0.972972972972973,
          0.972972972972973,
          0.972972972972973,
          0.972972972972973,
          0.972972972972973,
          0.9864864864864865,
          0.9864864864864865,
          0.9864864864864865,
          0.9864864864864865,
          0.9864864864864865,
          0.9864864864864865,
          0.9864864864864865,
          0.9864864864864865,
          0.9864864864864865,
          1,
          1,
          1,
          1,
          1,
          1,
          1,
          1,
          1,
          1,
          1,
          1,
          1,
          1,
          1,
          1,
          1
         ],
         "yaxis": "y5"
        }
       ],
       "layout": {
        "annotations": [
         {
          "font": {
           "color": "white",
           "size": 14
          },
          "showarrow": false,
          "text": "Confusion Matrix",
          "x": 0.225,
          "xanchor": "center",
          "xref": "paper",
          "y": 1,
          "yanchor": "bottom",
          "yref": "paper"
         },
         {
          "font": {
           "color": "white",
           "size": 14
          },
          "showarrow": false,
          "text": "Metrics",
          "x": 0.775,
          "xanchor": "center",
          "xref": "paper",
          "y": 1,
          "yanchor": "bottom",
          "yref": "paper"
         },
         {
          "font": {
           "color": "white",
           "size": 14
          },
          "showarrow": false,
          "text": "ROC curve (0.901)",
          "x": 0.225,
          "xanchor": "center",
          "xref": "paper",
          "y": 0.71875,
          "yanchor": "bottom",
          "yref": "paper"
         },
         {
          "font": {
           "color": "white",
           "size": 14
          },
          "showarrow": false,
          "text": "Precision - Recall curve",
          "x": 0.775,
          "xanchor": "center",
          "xref": "paper",
          "y": 0.71875,
          "yanchor": "bottom",
          "yref": "paper"
         },
         {
          "font": {
           "color": "white",
           "size": 14
          },
          "showarrow": false,
          "text": "Cumulative gains curve",
          "x": 0.5,
          "xanchor": "center",
          "xref": "paper",
          "y": 0.4375,
          "yanchor": "bottom",
          "yref": "paper"
         },
         {
          "font": {
           "color": "white",
           "size": 14
          },
          "showarrow": false,
          "text": "Feature importance",
          "x": 0.5,
          "xanchor": "center",
          "xref": "paper",
          "y": 0.15625,
          "yanchor": "bottom",
          "yref": "paper"
         }
        ],
        "autosize": false,
        "font": {
         "color": "white"
        },
        "height": 1500,
        "margin": {
         "b": 195
        },
        "paper_bgcolor": "black",
        "plot_bgcolor": "black",
        "showlegend": false,
        "template": {
         "data": {
          "bar": [
           {
            "error_x": {
             "color": "#2a3f5f"
            },
            "error_y": {
             "color": "#2a3f5f"
            },
            "marker": {
             "line": {
              "color": "#E5ECF6",
              "width": 0.5
             }
            },
            "type": "bar"
           }
          ],
          "barpolar": [
           {
            "marker": {
             "line": {
              "color": "#E5ECF6",
              "width": 0.5
             }
            },
            "type": "barpolar"
           }
          ],
          "carpet": [
           {
            "aaxis": {
             "endlinecolor": "#2a3f5f",
             "gridcolor": "white",
             "linecolor": "white",
             "minorgridcolor": "white",
             "startlinecolor": "#2a3f5f"
            },
            "baxis": {
             "endlinecolor": "#2a3f5f",
             "gridcolor": "white",
             "linecolor": "white",
             "minorgridcolor": "white",
             "startlinecolor": "#2a3f5f"
            },
            "type": "carpet"
           }
          ],
          "choropleth": [
           {
            "colorbar": {
             "outlinewidth": 0,
             "ticks": ""
            },
            "type": "choropleth"
           }
          ],
          "contour": [
           {
            "colorbar": {
             "outlinewidth": 0,
             "ticks": ""
            },
            "colorscale": [
             [
              0,
              "#0d0887"
             ],
             [
              0.1111111111111111,
              "#46039f"
             ],
             [
              0.2222222222222222,
              "#7201a8"
             ],
             [
              0.3333333333333333,
              "#9c179e"
             ],
             [
              0.4444444444444444,
              "#bd3786"
             ],
             [
              0.5555555555555556,
              "#d8576b"
             ],
             [
              0.6666666666666666,
              "#ed7953"
             ],
             [
              0.7777777777777778,
              "#fb9f3a"
             ],
             [
              0.8888888888888888,
              "#fdca26"
             ],
             [
              1,
              "#f0f921"
             ]
            ],
            "type": "contour"
           }
          ],
          "contourcarpet": [
           {
            "colorbar": {
             "outlinewidth": 0,
             "ticks": ""
            },
            "type": "contourcarpet"
           }
          ],
          "heatmap": [
           {
            "colorbar": {
             "outlinewidth": 0,
             "ticks": ""
            },
            "colorscale": [
             [
              0,
              "#0d0887"
             ],
             [
              0.1111111111111111,
              "#46039f"
             ],
             [
              0.2222222222222222,
              "#7201a8"
             ],
             [
              0.3333333333333333,
              "#9c179e"
             ],
             [
              0.4444444444444444,
              "#bd3786"
             ],
             [
              0.5555555555555556,
              "#d8576b"
             ],
             [
              0.6666666666666666,
              "#ed7953"
             ],
             [
              0.7777777777777778,
              "#fb9f3a"
             ],
             [
              0.8888888888888888,
              "#fdca26"
             ],
             [
              1,
              "#f0f921"
             ]
            ],
            "type": "heatmap"
           }
          ],
          "heatmapgl": [
           {
            "colorbar": {
             "outlinewidth": 0,
             "ticks": ""
            },
            "colorscale": [
             [
              0,
              "#0d0887"
             ],
             [
              0.1111111111111111,
              "#46039f"
             ],
             [
              0.2222222222222222,
              "#7201a8"
             ],
             [
              0.3333333333333333,
              "#9c179e"
             ],
             [
              0.4444444444444444,
              "#bd3786"
             ],
             [
              0.5555555555555556,
              "#d8576b"
             ],
             [
              0.6666666666666666,
              "#ed7953"
             ],
             [
              0.7777777777777778,
              "#fb9f3a"
             ],
             [
              0.8888888888888888,
              "#fdca26"
             ],
             [
              1,
              "#f0f921"
             ]
            ],
            "type": "heatmapgl"
           }
          ],
          "histogram": [
           {
            "marker": {
             "colorbar": {
              "outlinewidth": 0,
              "ticks": ""
             }
            },
            "type": "histogram"
           }
          ],
          "histogram2d": [
           {
            "colorbar": {
             "outlinewidth": 0,
             "ticks": ""
            },
            "colorscale": [
             [
              0,
              "#0d0887"
             ],
             [
              0.1111111111111111,
              "#46039f"
             ],
             [
              0.2222222222222222,
              "#7201a8"
             ],
             [
              0.3333333333333333,
              "#9c179e"
             ],
             [
              0.4444444444444444,
              "#bd3786"
             ],
             [
              0.5555555555555556,
              "#d8576b"
             ],
             [
              0.6666666666666666,
              "#ed7953"
             ],
             [
              0.7777777777777778,
              "#fb9f3a"
             ],
             [
              0.8888888888888888,
              "#fdca26"
             ],
             [
              1,
              "#f0f921"
             ]
            ],
            "type": "histogram2d"
           }
          ],
          "histogram2dcontour": [
           {
            "colorbar": {
             "outlinewidth": 0,
             "ticks": ""
            },
            "colorscale": [
             [
              0,
              "#0d0887"
             ],
             [
              0.1111111111111111,
              "#46039f"
             ],
             [
              0.2222222222222222,
              "#7201a8"
             ],
             [
              0.3333333333333333,
              "#9c179e"
             ],
             [
              0.4444444444444444,
              "#bd3786"
             ],
             [
              0.5555555555555556,
              "#d8576b"
             ],
             [
              0.6666666666666666,
              "#ed7953"
             ],
             [
              0.7777777777777778,
              "#fb9f3a"
             ],
             [
              0.8888888888888888,
              "#fdca26"
             ],
             [
              1,
              "#f0f921"
             ]
            ],
            "type": "histogram2dcontour"
           }
          ],
          "mesh3d": [
           {
            "colorbar": {
             "outlinewidth": 0,
             "ticks": ""
            },
            "type": "mesh3d"
           }
          ],
          "parcoords": [
           {
            "line": {
             "colorbar": {
              "outlinewidth": 0,
              "ticks": ""
             }
            },
            "type": "parcoords"
           }
          ],
          "scatter": [
           {
            "marker": {
             "colorbar": {
              "outlinewidth": 0,
              "ticks": ""
             }
            },
            "type": "scatter"
           }
          ],
          "scatter3d": [
           {
            "line": {
             "colorbar": {
              "outlinewidth": 0,
              "ticks": ""
             }
            },
            "marker": {
             "colorbar": {
              "outlinewidth": 0,
              "ticks": ""
             }
            },
            "type": "scatter3d"
           }
          ],
          "scattercarpet": [
           {
            "marker": {
             "colorbar": {
              "outlinewidth": 0,
              "ticks": ""
             }
            },
            "type": "scattercarpet"
           }
          ],
          "scattergeo": [
           {
            "marker": {
             "colorbar": {
              "outlinewidth": 0,
              "ticks": ""
             }
            },
            "type": "scattergeo"
           }
          ],
          "scattergl": [
           {
            "marker": {
             "colorbar": {
              "outlinewidth": 0,
              "ticks": ""
             }
            },
            "type": "scattergl"
           }
          ],
          "scattermapbox": [
           {
            "marker": {
             "colorbar": {
              "outlinewidth": 0,
              "ticks": ""
             }
            },
            "type": "scattermapbox"
           }
          ],
          "scatterpolar": [
           {
            "marker": {
             "colorbar": {
              "outlinewidth": 0,
              "ticks": ""
             }
            },
            "type": "scatterpolar"
           }
          ],
          "scatterpolargl": [
           {
            "marker": {
             "colorbar": {
              "outlinewidth": 0,
              "ticks": ""
             }
            },
            "type": "scatterpolargl"
           }
          ],
          "scatterternary": [
           {
            "marker": {
             "colorbar": {
              "outlinewidth": 0,
              "ticks": ""
             }
            },
            "type": "scatterternary"
           }
          ],
          "surface": [
           {
            "colorbar": {
             "outlinewidth": 0,
             "ticks": ""
            },
            "colorscale": [
             [
              0,
              "#0d0887"
             ],
             [
              0.1111111111111111,
              "#46039f"
             ],
             [
              0.2222222222222222,
              "#7201a8"
             ],
             [
              0.3333333333333333,
              "#9c179e"
             ],
             [
              0.4444444444444444,
              "#bd3786"
             ],
             [
              0.5555555555555556,
              "#d8576b"
             ],
             [
              0.6666666666666666,
              "#ed7953"
             ],
             [
              0.7777777777777778,
              "#fb9f3a"
             ],
             [
              0.8888888888888888,
              "#fdca26"
             ],
             [
              1,
              "#f0f921"
             ]
            ],
            "type": "surface"
           }
          ],
          "table": [
           {
            "cells": {
             "fill": {
              "color": "#EBF0F8"
             },
             "line": {
              "color": "white"
             }
            },
            "header": {
             "fill": {
              "color": "#C8D4E3"
             },
             "line": {
              "color": "white"
             }
            },
            "type": "table"
           }
          ]
         },
         "layout": {
          "annotationdefaults": {
           "arrowcolor": "#2a3f5f",
           "arrowhead": 0,
           "arrowwidth": 1
          },
          "colorscale": {
           "diverging": [
            [
             0,
             "#8e0152"
            ],
            [
             0.1,
             "#c51b7d"
            ],
            [
             0.2,
             "#de77ae"
            ],
            [
             0.3,
             "#f1b6da"
            ],
            [
             0.4,
             "#fde0ef"
            ],
            [
             0.5,
             "#f7f7f7"
            ],
            [
             0.6,
             "#e6f5d0"
            ],
            [
             0.7,
             "#b8e186"
            ],
            [
             0.8,
             "#7fbc41"
            ],
            [
             0.9,
             "#4d9221"
            ],
            [
             1,
             "#276419"
            ]
           ],
           "sequential": [
            [
             0,
             "#0d0887"
            ],
            [
             0.1111111111111111,
             "#46039f"
            ],
            [
             0.2222222222222222,
             "#7201a8"
            ],
            [
             0.3333333333333333,
             "#9c179e"
            ],
            [
             0.4444444444444444,
             "#bd3786"
            ],
            [
             0.5555555555555556,
             "#d8576b"
            ],
            [
             0.6666666666666666,
             "#ed7953"
            ],
            [
             0.7777777777777778,
             "#fb9f3a"
            ],
            [
             0.8888888888888888,
             "#fdca26"
            ],
            [
             1,
             "#f0f921"
            ]
           ],
           "sequentialminus": [
            [
             0,
             "#0d0887"
            ],
            [
             0.1111111111111111,
             "#46039f"
            ],
            [
             0.2222222222222222,
             "#7201a8"
            ],
            [
             0.3333333333333333,
             "#9c179e"
            ],
            [
             0.4444444444444444,
             "#bd3786"
            ],
            [
             0.5555555555555556,
             "#d8576b"
            ],
            [
             0.6666666666666666,
             "#ed7953"
            ],
            [
             0.7777777777777778,
             "#fb9f3a"
            ],
            [
             0.8888888888888888,
             "#fdca26"
            ],
            [
             1,
             "#f0f921"
            ]
           ]
          },
          "colorway": [
           "#636efa",
           "#EF553B",
           "#00cc96",
           "#ab63fa",
           "#FFA15A",
           "#19d3f3",
           "#FF6692",
           "#B6E880",
           "#FF97FF",
           "#FECB52"
          ],
          "font": {
           "color": "#2a3f5f"
          },
          "geo": {
           "bgcolor": "white",
           "lakecolor": "white",
           "landcolor": "#E5ECF6",
           "showlakes": true,
           "showland": true,
           "subunitcolor": "white"
          },
          "hoverlabel": {
           "align": "left"
          },
          "hovermode": "closest",
          "mapbox": {
           "style": "light"
          },
          "paper_bgcolor": "white",
          "plot_bgcolor": "#E5ECF6",
          "polar": {
           "angularaxis": {
            "gridcolor": "white",
            "linecolor": "white",
            "ticks": ""
           },
           "bgcolor": "#E5ECF6",
           "radialaxis": {
            "gridcolor": "white",
            "linecolor": "white",
            "ticks": ""
           }
          },
          "scene": {
           "xaxis": {
            "backgroundcolor": "#E5ECF6",
            "gridcolor": "white",
            "gridwidth": 2,
            "linecolor": "white",
            "showbackground": true,
            "ticks": "",
            "zerolinecolor": "white"
           },
           "yaxis": {
            "backgroundcolor": "#E5ECF6",
            "gridcolor": "white",
            "gridwidth": 2,
            "linecolor": "white",
            "showbackground": true,
            "ticks": "",
            "zerolinecolor": "white"
           },
           "zaxis": {
            "backgroundcolor": "#E5ECF6",
            "gridcolor": "white",
            "gridwidth": 2,
            "linecolor": "white",
            "showbackground": true,
            "ticks": "",
            "zerolinecolor": "white"
           }
          },
          "shapedefaults": {
           "line": {
            "color": "#2a3f5f"
           }
          },
          "ternary": {
           "aaxis": {
            "gridcolor": "white",
            "linecolor": "white",
            "ticks": ""
           },
           "baxis": {
            "gridcolor": "white",
            "linecolor": "white",
            "ticks": ""
           },
           "bgcolor": "#E5ECF6",
           "caxis": {
            "gridcolor": "white",
            "linecolor": "white",
            "ticks": ""
           }
          },
          "title": {
           "x": 0.05
          },
          "xaxis": {
           "automargin": true,
           "gridcolor": "white",
           "linecolor": "white",
           "ticks": "",
           "zerolinecolor": "white",
           "zerolinewidth": 2
          },
          "yaxis": {
           "automargin": true,
           "gridcolor": "white",
           "linecolor": "white",
           "ticks": "",
           "zerolinecolor": "white",
           "zerolinewidth": 2
          }
         }
        },
        "title": {
         "text": "<b>Model performance report</b><br>lgbm_clf"
        },
        "width": 800,
        "xaxis": {
         "anchor": "y",
         "color": "white",
         "domain": [
          0,
          0.45
         ],
         "showgrid": false
        },
        "xaxis2": {
         "anchor": "y2",
         "color": "white",
         "domain": [
          0.55,
          1
         ],
         "range": [
          0,
          1
         ],
         "showgrid": false
        },
        "xaxis3": {
         "anchor": "y3",
         "domain": [
          0,
          0.45
         ],
         "showgrid": false,
         "title": {
          "text": "false positive rate"
         }
        },
        "xaxis4": {
         "anchor": "y4",
         "color": "white",
         "domain": [
          0.55,
          1
         ],
         "range": [
          0,
          1.05
         ],
         "showgrid": false,
         "title": {
          "text": "recall"
         }
        },
        "xaxis5": {
         "anchor": "y5",
         "color": "white",
         "domain": [
          0,
          1
         ],
         "showgrid": false,
         "title": {
          "text": "Percentage contacted"
         }
        },
        "xaxis6": {
         "anchor": "y6",
         "color": "white",
         "domain": [
          0,
          1
         ],
         "showgrid": false
        },
        "yaxis": {
         "anchor": "x",
         "color": "white",
         "domain": [
          0.84375,
          1
         ],
         "showgrid": false
        },
        "yaxis2": {
         "anchor": "x2",
         "color": "white",
         "domain": [
          0.84375,
          1
         ],
         "showgrid": false
        },
        "yaxis3": {
         "anchor": "x3",
         "color": "white",
         "domain": [
          0.5625,
          0.71875
         ],
         "showgrid": false,
         "title": {
          "text": "true positive rate"
         }
        },
        "yaxis4": {
         "anchor": "x4",
         "color": "white",
         "domain": [
          0.5625,
          0.71875
         ],
         "range": [
          0,
          1.05
         ],
         "showgrid": false,
         "title": {
          "text": "precision"
         }
        },
        "yaxis5": {
         "anchor": "x5",
         "color": "white",
         "domain": [
          0.28125,
          0.4375
         ],
         "showgrid": false,
         "title": {
          "text": "Percentage positive targeted"
         }
        },
        "yaxis6": {
         "anchor": "x6",
         "color": "white",
         "domain": [
          0,
          0.15625
         ],
         "showgrid": false
        }
       }
      },
      "text/html": [
       "<div>\n",
       "        \n",
       "        \n",
       "            <div id=\"7a318292-b34d-462f-82d0-207b77f9501f\" class=\"plotly-graph-div\" style=\"height:1500px; width:800px;\"></div>\n",
       "            <script type=\"text/javascript\">\n",
       "                require([\"plotly\"], function(Plotly) {\n",
       "                    window.PLOTLYENV=window.PLOTLYENV || {};\n",
       "                    \n",
       "                if (document.getElementById(\"7a318292-b34d-462f-82d0-207b77f9501f\")) {\n",
       "                    Plotly.newPlot(\n",
       "                        '7a318292-b34d-462f-82d0-207b77f9501f',\n",
       "                        [{\"colorscale\": [[0.0, \"#440154\"], [0.1111111111111111, \"#482878\"], [0.2222222222222222, \"#3e4989\"], [0.3333333333333333, \"#31688e\"], [0.4444444444444444, \"#26828e\"], [0.5555555555555556, \"#1f9e89\"], [0.6666666666666666, \"#35b779\"], [0.7777777777777778, \"#6ece58\"], [0.8888888888888888, \"#b5de2b\"], [1.0, \"#fde725\"]], \"showscale\": false, \"type\": \"heatmap\", \"x\": [\"0 (pred)\", \"1 (pred)\"], \"xaxis\": \"x\", \"xgap\": 2, \"y\": [\"0 (true)\", \"1 (true)\"], \"yaxis\": \"y\", \"ygap\": 2, \"z\": [[94, 11], [18, 56]]}, {\"marker\": {\"color\": [\"gold\", \"lightgreen\", \"lightcoral\", \"lightskyblue\"], \"line\": {\"color\": \"#000000\", \"width\": 1.5}}, \"opacity\": 1, \"orientation\": \"h\", \"text\": [0.838, 0.8358, 0.7568, 0.7943], \"textfont\": {\"color\": \"black\"}, \"textposition\": \"auto\", \"type\": \"bar\", \"x\": [0.8379888268156425, 0.835820895522388, 0.7567567567567568, 0.7943262411347517], \"xaxis\": \"x2\", \"y\": [\"Accuracy\", \"Precision\", \"Recall\", \"F1_score\"], \"yaxis\": \"y2\"}, {\"fill\": \"tozeroy\", \"line\": {\"color\": \"rgb(22, 96, 167)\", \"width\": 2}, \"name\": \"Roc : 0.901\", \"type\": \"scatter\", \"x\": [0.0, 0.0, 0.0, 0.0, 0.0, 0.0, 0.0, 0.009523809523809525, 0.009523809523809525, 0.01904761904761905, 0.01904761904761905, 0.01904761904761905, 0.01904761904761905, 0.01904761904761905, 0.01904761904761905, 0.01904761904761905, 0.02857142857142857, 0.02857142857142857, 0.0380952380952381, 0.0380952380952381, 0.047619047619047616, 0.06666666666666667, 0.06666666666666667, 0.06666666666666667, 0.10476190476190476, 0.1523809523809524, 0.17142857142857143, 0.18095238095238095, 0.21904761904761905, 0.21904761904761905, 0.22857142857142856, 0.23809523809523808, 0.3047619047619048, 0.3142857142857143, 0.3333333333333333, 0.34285714285714286, 0.3619047619047619, 0.4095238095238095, 0.44761904761904764, 0.4666666666666667, 0.47619047619047616, 0.6857142857142857, 0.7047619047619048, 0.8761904761904762, 0.8952380952380953, 0.9047619047619048, 0.9238095238095239, 0.9523809523809523, 0.9809523809523809, 1.0], \"xaxis\": \"x3\", \"y\": [0.0, 0.04054054054054054, 0.06756756756756757, 0.10810810810810811, 0.20270270270270271, 0.22972972972972974, 0.28378378378378377, 0.32432432432432434, 0.35135135135135137, 0.36486486486486486, 0.4189189189189189, 0.4594594594594595, 0.4864864864864865, 0.527027027027027, 0.5540540540540541, 0.5675675675675675, 0.581081081081081, 0.6081081081081081, 0.6081081081081081, 0.6216216216216216, 0.6216216216216216, 0.7162162162162162, 0.7297297297297297, 0.7567567567567568, 0.7567567567567568, 0.7837837837837838, 0.7972972972972973, 0.7972972972972973, 0.7972972972972973, 0.8108108108108109, 0.8108108108108109, 0.8378378378378378, 0.8783783783783784, 0.8783783783783784, 0.9459459459459459, 0.9459459459459459, 0.9459459459459459, 0.9594594594594594, 0.9594594594594594, 0.9594594594594594, 0.9594594594594594, 0.9594594594594594, 0.9594594594594594, 1.0, 1.0, 1.0, 1.0, 1.0, 1.0, 1.0], \"yaxis\": \"y3\"}, {\"line\": {\"color\": \"black\", \"dash\": \"dot\", \"width\": 1.5}, \"type\": \"scatter\", \"x\": [0, 1], \"xaxis\": \"x3\", \"y\": [0, 1], \"yaxis\": \"y3\"}, {\"fill\": \"tozeroy\", \"line\": {\"color\": \"lightcoral\", \"width\": 2}, \"name\": \"Precision[0.44578313 0.48965517 0.49305556 0.4965035  0.58677686 0.59166667\\n 0.60169492 0.62280702 0.64814815 0.66037736 0.66666667 0.66326531\\n 0.67010309 0.71264368 0.71428571 0.72289157 0.7195122  0.75641026\\n 0.76623377 0.78378378 0.8358209  0.84848485 0.86153846 0.875\\n 0.88888889 0.8852459  0.88333333 0.90196078 0.92       0.91836735\\n 0.9375     0.93478261 0.95454545 0.95348837 0.95121951 0.95\\n 0.94871795 0.94736842 0.94444444 0.93939394 0.9375     0.93548387\\n 0.93333333 0.93103448 0.96296296 0.96153846 0.96       1.\\n 1.         1.         1.         1.         1.         1.\\n 1.        ]\", \"type\": \"scatter\", \"x\": [1.0, 0.9594594594594594, 0.9594594594594594, 0.9594594594594594, 0.9594594594594594, 0.9594594594594594, 0.9594594594594594, 0.9594594594594594, 0.9459459459459459, 0.9459459459459459, 0.9459459459459459, 0.8783783783783784, 0.8783783783783784, 0.8378378378378378, 0.8108108108108109, 0.8108108108108109, 0.7972972972972973, 0.7972972972972973, 0.7972972972972973, 0.7837837837837838, 0.7567567567567568, 0.7567567567567568, 0.7567567567567568, 0.7567567567567568, 0.7567567567567568, 0.7297297297297297, 0.7162162162162162, 0.6216216216216216, 0.6216216216216216, 0.6081081081081081, 0.6081081081081081, 0.581081081081081, 0.5675675675675675, 0.5540540540540541, 0.527027027027027, 0.5135135135135135, 0.5, 0.4864864864864865, 0.4594594594594595, 0.4189189189189189, 0.40540540540540543, 0.3918918918918919, 0.3783783783783784, 0.36486486486486486, 0.35135135135135137, 0.33783783783783783, 0.32432432432432434, 0.28378378378378377, 0.22972972972972974, 0.21621621621621623, 0.20270270270270271, 0.10810810810810811, 0.06756756756756757, 0.04054054054054054, 0.0], \"xaxis\": \"x4\", \"y\": [0.4457831325301205, 0.4896551724137931, 0.4930555555555556, 0.4965034965034965, 0.5867768595041323, 0.5916666666666667, 0.6016949152542372, 0.6228070175438597, 0.6481481481481481, 0.660377358490566, 0.6666666666666666, 0.6632653061224489, 0.6701030927835051, 0.7126436781609196, 0.7142857142857143, 0.7228915662650602, 0.7195121951219512, 0.7564102564102564, 0.7662337662337663, 0.7837837837837838, 0.835820895522388, 0.8484848484848485, 0.8615384615384616, 0.875, 0.8888888888888888, 0.8852459016393442, 0.8833333333333333, 0.9019607843137255, 0.92, 0.9183673469387755, 0.9375, 0.9347826086956522, 0.9545454545454546, 0.9534883720930233, 0.9512195121951219, 0.95, 0.9487179487179487, 0.9473684210526315, 0.9444444444444444, 0.9393939393939394, 0.9375, 0.9354838709677419, 0.9333333333333333, 0.9310344827586207, 0.9629629629629629, 0.9615384615384616, 0.96, 1.0, 1.0, 1.0, 1.0, 1.0, 1.0, 1.0, 1.0], \"yaxis\": \"y4\"}, {\"marker\": {\"color\": [240, 43, 39, 32, 22, 18, 9, 7, 2, 2, 1], \"colorscale\": [[0.0, \"#440154\"], [0.1111111111111111, \"#482878\"], [0.2222222222222222, \"#3e4989\"], [0.3333333333333333, \"#31688e\"], [0.4444444444444444, \"#26828e\"], [0.5555555555555556, \"#1f9e89\"], [0.6666666666666666, \"#35b779\"], [0.7777777777777778, \"#6ece58\"], [0.8888888888888888, \"#b5de2b\"], [1.0, \"#fde725\"]], \"line\": {\"color\": \"black\", \"width\": 0.6}}, \"name\": \"coefficients\", \"type\": \"bar\", \"x\": [\"Survived\", \"FsizeD_Small\", \"Sex\", \"Title_Miss\", \"Pclass_2\", \"Family_Survival_0.5\", \"Family_Survival_1.0\", \"FsizeD_Big\", \"Title_Master\", \"Family_Survival_0.0\", \"Pclass_1\"], \"xaxis\": \"x6\", \"y\": [240, 43, 39, 32, 22, 18, 9, 7, 2, 2, 1], \"yaxis\": \"y6\"}, {\"fill\": \"tozeroy\", \"line\": {\"color\": \"gold\", \"width\": 2}, \"type\": \"scatter\", \"x\": [0.00558659217877095, 0.0111731843575419, 0.01675977653631285, 0.0223463687150838, 0.027932960893854747, 0.0335195530726257, 0.03910614525139665, 0.0446927374301676, 0.05027932960893855, 0.055865921787709494, 0.061452513966480445, 0.0670391061452514, 0.07262569832402235, 0.0782122905027933, 0.08379888268156424, 0.0893854748603352, 0.09497206703910614, 0.1005586592178771, 0.10614525139664804, 0.11173184357541899, 0.11731843575418995, 0.12290502793296089, 0.12849162011173185, 0.1340782122905028, 0.13966480446927373, 0.1452513966480447, 0.15083798882681565, 0.1564245810055866, 0.16201117318435754, 0.16759776536312848, 0.17318435754189945, 0.1787709497206704, 0.18435754189944134, 0.18994413407821228, 0.19553072625698323, 0.2011173184357542, 0.20670391061452514, 0.2122905027932961, 0.21787709497206703, 0.22346368715083798, 0.22905027932960895, 0.2346368715083799, 0.24022346368715083, 0.24581005586592178, 0.25139664804469275, 0.2569832402234637, 0.26256983240223464, 0.2681564245810056, 0.2737430167597765, 0.27932960893854747, 0.2849162011173184, 0.2905027932960894, 0.29608938547486036, 0.3016759776536313, 0.30726256983240224, 0.3128491620111732, 0.31843575418994413, 0.3240223463687151, 0.329608938547486, 0.33519553072625696, 0.3407821229050279, 0.3463687150837989, 0.35195530726256985, 0.3575418994413408, 0.36312849162011174, 0.3687150837988827, 0.3743016759776536, 0.37988826815642457, 0.3854748603351955, 0.39106145251396646, 0.39664804469273746, 0.4022346368715084, 0.40782122905027934, 0.4134078212290503, 0.41899441340782123, 0.4245810055865922, 0.4301675977653631, 0.43575418994413406, 0.441340782122905, 0.44692737430167595, 0.45251396648044695, 0.4581005586592179, 0.46368715083798884, 0.4692737430167598, 0.4748603351955307, 0.48044692737430167, 0.4860335195530726, 0.49162011173184356, 0.4972067039106145, 0.5027932960893855, 0.5083798882681564, 0.5139664804469274, 0.5195530726256983, 0.5251396648044693, 0.5307262569832403, 0.5363128491620112, 0.5418994413407822, 0.547486033519553, 0.553072625698324, 0.5586592178770949, 0.5642458100558659, 0.5698324022346368, 0.5754189944134078, 0.5810055865921788, 0.5865921787709497, 0.5921787709497207, 0.5977653631284916, 0.6033519553072626, 0.6089385474860335, 0.6145251396648045, 0.6201117318435754, 0.6256983240223464, 0.6312849162011173, 0.6368715083798883, 0.6424581005586593, 0.6480446927374302, 0.6536312849162011, 0.659217877094972, 0.664804469273743, 0.6703910614525139, 0.6759776536312849, 0.6815642458100558, 0.6871508379888268, 0.6927374301675978, 0.6983240223463687, 0.7039106145251397, 0.7094972067039106, 0.7150837988826816, 0.7206703910614525, 0.7262569832402235, 0.7318435754189944, 0.7374301675977654, 0.7430167597765364, 0.7486033519553073, 0.7541899441340782, 0.7597765363128491, 0.7653631284916201, 0.770949720670391, 0.776536312849162, 0.7821229050279329, 0.7877094972067039, 0.7932960893854749, 0.7988826815642458, 0.8044692737430168, 0.8100558659217877, 0.8156424581005587, 0.8212290502793296, 0.8268156424581006, 0.8324022346368715, 0.8379888268156425, 0.8435754189944135, 0.8491620111731844, 0.8547486033519553, 0.8603351955307262, 0.8659217877094972, 0.8715083798882681, 0.8770949720670391, 0.88268156424581, 0.888268156424581, 0.8938547486033519, 0.8994413407821229, 0.9050279329608939, 0.9106145251396648, 0.9162011173184358, 0.9217877094972067, 0.9273743016759777, 0.9329608938547486, 0.9385474860335196, 0.9441340782122905, 0.9497206703910615, 0.9553072625698324, 0.9608938547486033, 0.9664804469273743, 0.9720670391061452, 0.9776536312849162, 0.9832402234636871, 0.9888268156424581, 0.994413407821229, 1.0, 1.005586592178771, 1.011173184357542, 1.0167597765363128, 1.0223463687150838, 1.0279329608938548, 1.0335195530726258, 1.0391061452513966, 1.0446927374301676, 1.0502793296089385, 1.0558659217877095, 1.0614525139664805, 1.0670391061452513, 1.0726256983240223, 1.0782122905027933, 1.0837988826815643, 1.089385474860335, 1.094972067039106, 1.100558659217877, 1.106145251396648, 1.111731843575419, 1.1173184357541899, 1.1229050279329609, 1.1284916201117319, 1.1340782122905029, 1.1396648044692737, 1.1452513966480447, 1.1508379888268156, 1.1564245810055866, 1.1620111731843576, 1.1675977653631284, 1.1731843575418994, 1.1787709497206704, 1.1843575418994414, 1.1899441340782122, 1.1955307262569832, 1.2011173184357542, 1.2067039106145252, 1.2122905027932962, 1.217877094972067, 1.223463687150838, 1.229050279329609, 1.23463687150838, 1.2402234636871508, 1.2458100558659218, 1.2513966480446927, 1.2569832402234637, 1.2625698324022345, 1.2681564245810055, 1.2737430167597765, 1.2793296089385475, 1.2849162011173185, 1.2905027932960893, 1.2960893854748603, 1.3016759776536313, 1.3072625698324023, 1.312849162011173, 1.318435754189944, 1.324022346368715, 1.329608938547486, 1.335195530726257, 1.3407821229050279, 1.3463687150837989, 1.3519553072625698, 1.3575418994413408, 1.3631284916201116, 1.3687150837988826, 1.3743016759776536, 1.3798882681564246, 1.3854748603351956, 1.3910614525139664, 1.3966480446927374, 1.4022346368715084, 1.4078212290502794, 1.4134078212290502, 1.4189944134078212, 1.4245810055865922, 1.4301675977653632, 1.4357541899441342, 1.441340782122905, 1.446927374301676, 1.452513966480447, 1.458100558659218, 1.4636871508379887, 1.4692737430167597, 1.4748603351955307, 1.4804469273743017, 1.4860335195530727, 1.4916201117318435, 1.4972067039106145, 1.5027932960893855, 1.5083798882681565, 1.5139664804469273, 1.5195530726256983, 1.5251396648044693, 1.5307262569832403, 1.5363128491620113, 1.541899441340782, 1.547486033519553, 1.553072625698324, 1.558659217877095, 1.5642458100558658, 1.5698324022346368, 1.5754189944134078, 1.5810055865921788, 1.5865921787709498, 1.5921787709497206, 1.5977653631284916, 1.6033519553072626, 1.6089385474860336, 1.6145251396648044, 1.6201117318435754, 1.6256983240223464, 1.6312849162011174, 1.6368715083798884, 1.6424581005586592, 1.6480446927374302, 1.6536312849162011, 1.6592178770949721, 1.664804469273743, 1.670391061452514, 1.675977653631285, 1.681564245810056, 1.687150837988827, 1.6927374301675977, 1.6983240223463687, 1.7039106145251397, 1.7094972067039107, 1.7150837988826815, 1.7206703910614525, 1.7262569832402235, 1.7318435754189945, 1.7374301675977655, 1.7430167597765363, 1.7486033519553073, 1.7541899441340782, 1.7597765363128492, 1.76536312849162, 1.770949720670391, 1.776536312849162, 1.782122905027933, 1.7877094972067038, 1.7932960893854748, 1.7988826815642458, 1.8044692737430168, 1.8100558659217878, 1.8156424581005586, 1.8212290502793296, 1.8268156424581006, 1.8324022346368716, 1.8379888268156424, 1.8435754189944134, 1.8491620111731844, 1.8547486033519553, 1.8603351955307263, 1.8659217877094971, 1.8715083798882681, 1.8770949720670391, 1.8826815642458101, 1.888268156424581, 1.893854748603352, 1.899441340782123, 1.905027932960894, 1.910614525139665, 1.9162011173184357, 1.9217877094972067, 1.9273743016759777, 1.9329608938547487, 1.9385474860335195, 1.9441340782122905, 1.9497206703910615, 1.9553072625698324, 1.9608938547486034, 1.9664804469273742, 1.9720670391061452, 1.9776536312849162, 1.9832402234636872, 1.988826815642458, 1.994413407821229, 2.0, 2.005586592178771, 2.011173184357542, 2.016759776536313, 2.022346368715084, 2.0279329608938546, 2.0335195530726256, 2.0391061452513966, 2.0446927374301676, 2.0502793296089385, 2.0558659217877095], \"xaxis\": \"x5\", \"y\": [0.013513513513513514, 0.02702702702702703, 0.04054054054054054, 0.05405405405405406, 0.06756756756756757, 0.08108108108108109, 0.0945945945945946, 0.10810810810810811, 0.12162162162162163, 0.13513513513513514, 0.14864864864864866, 0.16216216216216217, 0.17567567567567569, 0.1891891891891892, 0.20270270270270271, 0.21621621621621623, 0.22972972972972974, 0.24324324324324326, 0.25675675675675674, 0.2702702702702703, 0.28378378378378377, 0.2972972972972973, 0.2972972972972973, 0.3108108108108108, 0.32432432432432434, 0.33783783783783783, 0.35135135135135137, 0.36486486486486486, 0.36486486486486486, 0.3783783783783784, 0.3918918918918919, 0.40540540540540543, 0.4189189189189189, 0.43243243243243246, 0.44594594594594594, 0.4594594594594595, 0.47297297297297297, 0.4864864864864865, 0.5, 0.5135135135135135, 0.527027027027027, 0.5405405405405406, 0.5540540540540541, 0.5675675675675675, 0.5675675675675675, 0.581081081081081, 0.5945945945945946, 0.6081081081081081, 0.6081081081081081, 0.6216216216216216, 0.6216216216216216, 0.6216216216216216, 0.6351351351351351, 0.6486486486486487, 0.6621621621621622, 0.6756756756756757, 0.6891891891891891, 0.7027027027027027, 0.7162162162162162, 0.7162162162162162, 0.7297297297297297, 0.7432432432432432, 0.7567567567567568, 0.7567567567567568, 0.7567567567567568, 0.7567567567567568, 0.7567567567567568, 0.7702702702702703, 0.7702702702702703, 0.7702702702702703, 0.7702702702702703, 0.7702702702702703, 0.7837837837837838, 0.7837837837837838, 0.7837837837837838, 0.7972972972972973, 0.7972972972972973, 0.7972972972972973, 0.7972972972972973, 0.7972972972972973, 0.7972972972972973, 0.7972972972972973, 0.8108108108108109, 0.8108108108108109, 0.8243243243243243, 0.8243243243243243, 0.8378378378378378, 0.8513513513513513, 0.8513513513513513, 0.8513513513513513, 0.8648648648648649, 0.8648648648648649, 0.8648648648648649, 0.8783783783783784, 0.8783783783783784, 0.8783783783783784, 0.8783783783783784, 0.8783783783783784, 0.8918918918918919, 0.9054054054054054, 0.9054054054054054, 0.918918918918919, 0.9324324324324325, 0.9324324324324325, 0.9459459459459459, 0.9459459459459459, 0.9459459459459459, 0.9459459459459459, 0.9459459459459459, 0.9459459459459459, 0.9459459459459459, 0.9459459459459459, 0.9594594594594594, 0.9594594594594594, 0.9594594594594594, 0.9594594594594594, 0.9594594594594594, 0.9594594594594594, 0.9594594594594594, 0.9594594594594594, 0.9594594594594594, 0.9594594594594594, 0.9594594594594594, 0.9594594594594594, 0.9594594594594594, 0.9594594594594594, 0.9594594594594594, 0.9594594594594594, 0.9594594594594594, 0.9594594594594594, 0.9594594594594594, 0.9594594594594594, 0.9594594594594594, 0.9594594594594594, 0.9594594594594594, 0.9594594594594594, 0.9594594594594594, 0.9594594594594594, 0.9594594594594594, 0.9594594594594594, 0.9594594594594594, 0.9594594594594594, 0.9594594594594594, 0.9594594594594594, 0.9594594594594594, 0.9594594594594594, 0.9594594594594594, 0.9594594594594594, 0.972972972972973, 0.972972972972973, 0.972972972972973, 0.972972972972973, 0.972972972972973, 0.9864864864864865, 0.9864864864864865, 0.9864864864864865, 0.9864864864864865, 0.9864864864864865, 0.9864864864864865, 0.9864864864864865, 0.9864864864864865, 0.9864864864864865, 1.0, 1.0, 1.0, 1.0, 1.0, 1.0, 1.0, 1.0, 1.0, 1.0, 1.0, 1.0, 1.0, 1.0, 1.0, 1.0, 1.0], \"yaxis\": \"y5\"}],\n",
       "                        {\"annotations\": [{\"font\": {\"color\": \"white\", \"size\": 14}, \"showarrow\": false, \"text\": \"Confusion Matrix\", \"x\": 0.225, \"xanchor\": \"center\", \"xref\": \"paper\", \"y\": 1.0, \"yanchor\": \"bottom\", \"yref\": \"paper\"}, {\"font\": {\"color\": \"white\", \"size\": 14}, \"showarrow\": false, \"text\": \"Metrics\", \"x\": 0.775, \"xanchor\": \"center\", \"xref\": \"paper\", \"y\": 1.0, \"yanchor\": \"bottom\", \"yref\": \"paper\"}, {\"font\": {\"color\": \"white\", \"size\": 14}, \"showarrow\": false, \"text\": \"ROC curve (0.901)\", \"x\": 0.225, \"xanchor\": \"center\", \"xref\": \"paper\", \"y\": 0.71875, \"yanchor\": \"bottom\", \"yref\": \"paper\"}, {\"font\": {\"color\": \"white\", \"size\": 14}, \"showarrow\": false, \"text\": \"Precision - Recall curve\", \"x\": 0.775, \"xanchor\": \"center\", \"xref\": \"paper\", \"y\": 0.71875, \"yanchor\": \"bottom\", \"yref\": \"paper\"}, {\"font\": {\"color\": \"white\", \"size\": 14}, \"showarrow\": false, \"text\": \"Cumulative gains curve\", \"x\": 0.5, \"xanchor\": \"center\", \"xref\": \"paper\", \"y\": 0.4375, \"yanchor\": \"bottom\", \"yref\": \"paper\"}, {\"font\": {\"color\": \"white\", \"size\": 14}, \"showarrow\": false, \"text\": \"Feature importance\", \"x\": 0.5, \"xanchor\": \"center\", \"xref\": \"paper\", \"y\": 0.15625, \"yanchor\": \"bottom\", \"yref\": \"paper\"}], \"autosize\": false, \"font\": {\"color\": \"white\"}, \"height\": 1500, \"margin\": {\"b\": 195}, \"paper_bgcolor\": \"black\", \"plot_bgcolor\": \"black\", \"showlegend\": false, \"template\": {\"data\": {\"bar\": [{\"error_x\": {\"color\": \"#2a3f5f\"}, \"error_y\": {\"color\": \"#2a3f5f\"}, \"marker\": {\"line\": {\"color\": \"#E5ECF6\", \"width\": 0.5}}, \"type\": \"bar\"}], \"barpolar\": [{\"marker\": {\"line\": {\"color\": \"#E5ECF6\", \"width\": 0.5}}, \"type\": \"barpolar\"}], \"carpet\": [{\"aaxis\": {\"endlinecolor\": \"#2a3f5f\", \"gridcolor\": \"white\", \"linecolor\": \"white\", \"minorgridcolor\": \"white\", \"startlinecolor\": \"#2a3f5f\"}, \"baxis\": {\"endlinecolor\": \"#2a3f5f\", \"gridcolor\": \"white\", \"linecolor\": \"white\", \"minorgridcolor\": \"white\", \"startlinecolor\": \"#2a3f5f\"}, \"type\": \"carpet\"}], \"choropleth\": [{\"colorbar\": {\"outlinewidth\": 0, \"ticks\": \"\"}, \"type\": \"choropleth\"}], \"contour\": [{\"colorbar\": {\"outlinewidth\": 0, \"ticks\": \"\"}, \"colorscale\": [[0.0, \"#0d0887\"], [0.1111111111111111, \"#46039f\"], [0.2222222222222222, \"#7201a8\"], [0.3333333333333333, \"#9c179e\"], [0.4444444444444444, \"#bd3786\"], [0.5555555555555556, \"#d8576b\"], [0.6666666666666666, \"#ed7953\"], [0.7777777777777778, \"#fb9f3a\"], [0.8888888888888888, \"#fdca26\"], [1.0, \"#f0f921\"]], \"type\": \"contour\"}], \"contourcarpet\": [{\"colorbar\": {\"outlinewidth\": 0, \"ticks\": \"\"}, \"type\": \"contourcarpet\"}], \"heatmap\": [{\"colorbar\": {\"outlinewidth\": 0, \"ticks\": \"\"}, \"colorscale\": [[0.0, \"#0d0887\"], [0.1111111111111111, \"#46039f\"], [0.2222222222222222, \"#7201a8\"], [0.3333333333333333, \"#9c179e\"], [0.4444444444444444, \"#bd3786\"], [0.5555555555555556, \"#d8576b\"], [0.6666666666666666, \"#ed7953\"], [0.7777777777777778, \"#fb9f3a\"], [0.8888888888888888, \"#fdca26\"], [1.0, \"#f0f921\"]], \"type\": \"heatmap\"}], \"heatmapgl\": [{\"colorbar\": {\"outlinewidth\": 0, \"ticks\": \"\"}, \"colorscale\": [[0.0, \"#0d0887\"], [0.1111111111111111, \"#46039f\"], [0.2222222222222222, \"#7201a8\"], [0.3333333333333333, \"#9c179e\"], [0.4444444444444444, \"#bd3786\"], [0.5555555555555556, \"#d8576b\"], [0.6666666666666666, \"#ed7953\"], [0.7777777777777778, \"#fb9f3a\"], [0.8888888888888888, \"#fdca26\"], [1.0, \"#f0f921\"]], \"type\": \"heatmapgl\"}], \"histogram\": [{\"marker\": {\"colorbar\": {\"outlinewidth\": 0, \"ticks\": \"\"}}, \"type\": \"histogram\"}], \"histogram2d\": [{\"colorbar\": {\"outlinewidth\": 0, \"ticks\": \"\"}, \"colorscale\": [[0.0, \"#0d0887\"], [0.1111111111111111, \"#46039f\"], [0.2222222222222222, \"#7201a8\"], [0.3333333333333333, \"#9c179e\"], [0.4444444444444444, \"#bd3786\"], [0.5555555555555556, \"#d8576b\"], [0.6666666666666666, \"#ed7953\"], [0.7777777777777778, \"#fb9f3a\"], [0.8888888888888888, \"#fdca26\"], [1.0, \"#f0f921\"]], \"type\": \"histogram2d\"}], \"histogram2dcontour\": [{\"colorbar\": {\"outlinewidth\": 0, \"ticks\": \"\"}, \"colorscale\": [[0.0, \"#0d0887\"], [0.1111111111111111, \"#46039f\"], [0.2222222222222222, \"#7201a8\"], [0.3333333333333333, \"#9c179e\"], [0.4444444444444444, \"#bd3786\"], [0.5555555555555556, \"#d8576b\"], [0.6666666666666666, \"#ed7953\"], [0.7777777777777778, \"#fb9f3a\"], [0.8888888888888888, \"#fdca26\"], [1.0, \"#f0f921\"]], \"type\": \"histogram2dcontour\"}], \"mesh3d\": [{\"colorbar\": {\"outlinewidth\": 0, \"ticks\": \"\"}, \"type\": \"mesh3d\"}], \"parcoords\": [{\"line\": {\"colorbar\": {\"outlinewidth\": 0, \"ticks\": \"\"}}, \"type\": \"parcoords\"}], \"scatter\": [{\"marker\": {\"colorbar\": {\"outlinewidth\": 0, \"ticks\": \"\"}}, \"type\": \"scatter\"}], \"scatter3d\": [{\"line\": {\"colorbar\": {\"outlinewidth\": 0, \"ticks\": \"\"}}, \"marker\": {\"colorbar\": {\"outlinewidth\": 0, \"ticks\": \"\"}}, \"type\": \"scatter3d\"}], \"scattercarpet\": [{\"marker\": {\"colorbar\": {\"outlinewidth\": 0, \"ticks\": \"\"}}, \"type\": \"scattercarpet\"}], \"scattergeo\": [{\"marker\": {\"colorbar\": {\"outlinewidth\": 0, \"ticks\": \"\"}}, \"type\": \"scattergeo\"}], \"scattergl\": [{\"marker\": {\"colorbar\": {\"outlinewidth\": 0, \"ticks\": \"\"}}, \"type\": \"scattergl\"}], \"scattermapbox\": [{\"marker\": {\"colorbar\": {\"outlinewidth\": 0, \"ticks\": \"\"}}, \"type\": \"scattermapbox\"}], \"scatterpolar\": [{\"marker\": {\"colorbar\": {\"outlinewidth\": 0, \"ticks\": \"\"}}, \"type\": \"scatterpolar\"}], \"scatterpolargl\": [{\"marker\": {\"colorbar\": {\"outlinewidth\": 0, \"ticks\": \"\"}}, \"type\": \"scatterpolargl\"}], \"scatterternary\": [{\"marker\": {\"colorbar\": {\"outlinewidth\": 0, \"ticks\": \"\"}}, \"type\": \"scatterternary\"}], \"surface\": [{\"colorbar\": {\"outlinewidth\": 0, \"ticks\": \"\"}, \"colorscale\": [[0.0, \"#0d0887\"], [0.1111111111111111, \"#46039f\"], [0.2222222222222222, \"#7201a8\"], [0.3333333333333333, \"#9c179e\"], [0.4444444444444444, \"#bd3786\"], [0.5555555555555556, \"#d8576b\"], [0.6666666666666666, \"#ed7953\"], [0.7777777777777778, \"#fb9f3a\"], [0.8888888888888888, \"#fdca26\"], [1.0, \"#f0f921\"]], \"type\": \"surface\"}], \"table\": [{\"cells\": {\"fill\": {\"color\": \"#EBF0F8\"}, \"line\": {\"color\": \"white\"}}, \"header\": {\"fill\": {\"color\": \"#C8D4E3\"}, \"line\": {\"color\": \"white\"}}, \"type\": \"table\"}]}, \"layout\": {\"annotationdefaults\": {\"arrowcolor\": \"#2a3f5f\", \"arrowhead\": 0, \"arrowwidth\": 1}, \"colorscale\": {\"diverging\": [[0, \"#8e0152\"], [0.1, \"#c51b7d\"], [0.2, \"#de77ae\"], [0.3, \"#f1b6da\"], [0.4, \"#fde0ef\"], [0.5, \"#f7f7f7\"], [0.6, \"#e6f5d0\"], [0.7, \"#b8e186\"], [0.8, \"#7fbc41\"], [0.9, \"#4d9221\"], [1, \"#276419\"]], \"sequential\": [[0.0, \"#0d0887\"], [0.1111111111111111, \"#46039f\"], [0.2222222222222222, \"#7201a8\"], [0.3333333333333333, \"#9c179e\"], [0.4444444444444444, \"#bd3786\"], [0.5555555555555556, \"#d8576b\"], [0.6666666666666666, \"#ed7953\"], [0.7777777777777778, \"#fb9f3a\"], [0.8888888888888888, \"#fdca26\"], [1.0, \"#f0f921\"]], \"sequentialminus\": [[0.0, \"#0d0887\"], [0.1111111111111111, \"#46039f\"], [0.2222222222222222, \"#7201a8\"], [0.3333333333333333, \"#9c179e\"], [0.4444444444444444, \"#bd3786\"], [0.5555555555555556, \"#d8576b\"], [0.6666666666666666, \"#ed7953\"], [0.7777777777777778, \"#fb9f3a\"], [0.8888888888888888, \"#fdca26\"], [1.0, \"#f0f921\"]]}, \"colorway\": [\"#636efa\", \"#EF553B\", \"#00cc96\", \"#ab63fa\", \"#FFA15A\", \"#19d3f3\", \"#FF6692\", \"#B6E880\", \"#FF97FF\", \"#FECB52\"], \"font\": {\"color\": \"#2a3f5f\"}, \"geo\": {\"bgcolor\": \"white\", \"lakecolor\": \"white\", \"landcolor\": \"#E5ECF6\", \"showlakes\": true, \"showland\": true, \"subunitcolor\": \"white\"}, \"hoverlabel\": {\"align\": \"left\"}, \"hovermode\": \"closest\", \"mapbox\": {\"style\": \"light\"}, \"paper_bgcolor\": \"white\", \"plot_bgcolor\": \"#E5ECF6\", \"polar\": {\"angularaxis\": {\"gridcolor\": \"white\", \"linecolor\": \"white\", \"ticks\": \"\"}, \"bgcolor\": \"#E5ECF6\", \"radialaxis\": {\"gridcolor\": \"white\", \"linecolor\": \"white\", \"ticks\": \"\"}}, \"scene\": {\"xaxis\": {\"backgroundcolor\": \"#E5ECF6\", \"gridcolor\": \"white\", \"gridwidth\": 2, \"linecolor\": \"white\", \"showbackground\": true, \"ticks\": \"\", \"zerolinecolor\": \"white\"}, \"yaxis\": {\"backgroundcolor\": \"#E5ECF6\", \"gridcolor\": \"white\", \"gridwidth\": 2, \"linecolor\": \"white\", \"showbackground\": true, \"ticks\": \"\", \"zerolinecolor\": \"white\"}, \"zaxis\": {\"backgroundcolor\": \"#E5ECF6\", \"gridcolor\": \"white\", \"gridwidth\": 2, \"linecolor\": \"white\", \"showbackground\": true, \"ticks\": \"\", \"zerolinecolor\": \"white\"}}, \"shapedefaults\": {\"line\": {\"color\": \"#2a3f5f\"}}, \"ternary\": {\"aaxis\": {\"gridcolor\": \"white\", \"linecolor\": \"white\", \"ticks\": \"\"}, \"baxis\": {\"gridcolor\": \"white\", \"linecolor\": \"white\", \"ticks\": \"\"}, \"bgcolor\": \"#E5ECF6\", \"caxis\": {\"gridcolor\": \"white\", \"linecolor\": \"white\", \"ticks\": \"\"}}, \"title\": {\"x\": 0.05}, \"xaxis\": {\"automargin\": true, \"gridcolor\": \"white\", \"linecolor\": \"white\", \"ticks\": \"\", \"zerolinecolor\": \"white\", \"zerolinewidth\": 2}, \"yaxis\": {\"automargin\": true, \"gridcolor\": \"white\", \"linecolor\": \"white\", \"ticks\": \"\", \"zerolinecolor\": \"white\", \"zerolinewidth\": 2}}}, \"title\": {\"text\": \"<b>Model performance report</b><br>lgbm_clf\"}, \"width\": 800, \"xaxis\": {\"anchor\": \"y\", \"color\": \"white\", \"domain\": [0.0, 0.45], \"showgrid\": false}, \"xaxis2\": {\"anchor\": \"y2\", \"color\": \"white\", \"domain\": [0.55, 1.0], \"range\": [0, 1], \"showgrid\": false}, \"xaxis3\": {\"anchor\": \"y3\", \"domain\": [0.0, 0.45], \"showgrid\": false, \"title\": {\"text\": \"false positive rate\"}}, \"xaxis4\": {\"anchor\": \"y4\", \"color\": \"white\", \"domain\": [0.55, 1.0], \"range\": [0, 1.05], \"showgrid\": false, \"title\": {\"text\": \"recall\"}}, \"xaxis5\": {\"anchor\": \"y5\", \"color\": \"white\", \"domain\": [0.0, 1.0], \"showgrid\": false, \"title\": {\"text\": \"Percentage contacted\"}}, \"xaxis6\": {\"anchor\": \"y6\", \"color\": \"white\", \"domain\": [0.0, 1.0], \"showgrid\": false}, \"yaxis\": {\"anchor\": \"x\", \"color\": \"white\", \"domain\": [0.84375, 1.0], \"showgrid\": false}, \"yaxis2\": {\"anchor\": \"x2\", \"color\": \"white\", \"domain\": [0.84375, 1.0], \"showgrid\": false}, \"yaxis3\": {\"anchor\": \"x3\", \"color\": \"white\", \"domain\": [0.5625, 0.71875], \"showgrid\": false, \"title\": {\"text\": \"true positive rate\"}}, \"yaxis4\": {\"anchor\": \"x4\", \"color\": \"white\", \"domain\": [0.5625, 0.71875], \"range\": [0, 1.05], \"showgrid\": false, \"title\": {\"text\": \"precision\"}}, \"yaxis5\": {\"anchor\": \"x5\", \"color\": \"white\", \"domain\": [0.28125, 0.4375], \"showgrid\": false, \"title\": {\"text\": \"Percentage positive targeted\"}}, \"yaxis6\": {\"anchor\": \"x6\", \"color\": \"white\", \"domain\": [0.0, 0.15625], \"showgrid\": false}},\n",
       "                        {\"responsive\": true}\n",
       "                    ).then(function(){\n",
       "                            \n",
       "var gd = document.getElementById('7a318292-b34d-462f-82d0-207b77f9501f');\n",
       "var x = new MutationObserver(function (mutations, observer) {{\n",
       "        var display = window.getComputedStyle(gd).display;\n",
       "        if (!display || display === 'none') {{\n",
       "            console.log([gd, 'removed!']);\n",
       "            Plotly.purge(gd);\n",
       "            observer.disconnect();\n",
       "        }}\n",
       "}});\n",
       "\n",
       "// Listen for the removal of the full notebook cells\n",
       "var notebookContainer = gd.closest('#notebook-container');\n",
       "if (notebookContainer) {{\n",
       "    x.observe(notebookContainer, {childList: true});\n",
       "}}\n",
       "\n",
       "// Listen for the clearing of the current output cell\n",
       "var outputEl = gd.closest('.output');\n",
       "if (outputEl) {{\n",
       "    x.observe(outputEl, {childList: true});\n",
       "}}\n",
       "\n",
       "                        })\n",
       "                };\n",
       "                });\n",
       "            </script>\n",
       "        </div>"
      ]
     },
     "metadata": {},
     "output_type": "display_data"
    },
    {
     "name": "stdout",
     "output_type": "stream",
     "text": [
      "Wall time: 471 ms\n"
     ]
    }
   ],
   "source": [
    "%%time\n",
    "lgbm_clf = lgbm.LGBMClassifier(**opt_parameters)\n",
    "\n",
    "lgbm_clf.fit(X_train, y_train)\n",
    "y_pred = lgbm_clf.predict(X_valid)\n",
    "y_score = lgbm_clf.predict_proba(X_valid)[:,1]\n",
    "\n",
    "model_performance('lgbm_clf')"
   ]
  },
  {
   "cell_type": "code",
   "execution_count": 33,
   "metadata": {},
   "outputs": [
    {
     "data": {
      "application/vnd.plotly.v1+json": {
       "config": {
        "linkText": "Export to plot.ly",
        "plotlyServerURL": "https://plot.ly",
        "showLink": false
       },
       "data": [
        {
         "cells": {
          "align": [
           "center"
          ],
          "fill": {
           "color": "#EDFAFF"
          },
          "font": {
           "size": 15
          },
          "line": {
           "color": "#7D7F80"
          },
          "values": [
           [
            "1",
            "2",
            "3",
            "4",
            "5",
            "mean",
            "std"
           ],
           [
            0.8659,
            0.838,
            0.8596,
            0.8315,
            0.8362,
            0.8462,
            0.0138
           ],
           [
            0.8689,
            0.803,
            0.8772,
            0.88,
            0.8197,
            0.8497,
            0.032
           ],
           [
            0.7681,
            0.7681,
            0.7353,
            0.6471,
            0.7353,
            0.7308,
            0.0444
           ],
           [
            0.8154,
            0.7852,
            0.8,
            0.7458,
            0.7752,
            0.7843,
            0.0236
           ],
           [
            0.885,
            0.842,
            0.8818,
            0.8763,
            0.8973,
            0.8765,
            0.0186
           ]
          ]
         },
         "header": {
          "align": [
           "center"
          ],
          "fill": {
           "color": "#a1c3d1"
          },
          "font": {
           "size": 15
          },
          "line": {
           "color": "#7D7F80"
          },
          "values": [
           "<b>Fold",
           "<b>Accuracy",
           "<b>Precision",
           "<b>Recall",
           "<b>F1 score",
           "<b>Roc auc"
          ]
         },
         "type": "table"
        }
       ],
       "layout": {
        "font": {
         "size": 15
        },
        "height": 400,
        "template": {
         "data": {
          "bar": [
           {
            "error_x": {
             "color": "#2a3f5f"
            },
            "error_y": {
             "color": "#2a3f5f"
            },
            "marker": {
             "line": {
              "color": "#E5ECF6",
              "width": 0.5
             }
            },
            "type": "bar"
           }
          ],
          "barpolar": [
           {
            "marker": {
             "line": {
              "color": "#E5ECF6",
              "width": 0.5
             }
            },
            "type": "barpolar"
           }
          ],
          "carpet": [
           {
            "aaxis": {
             "endlinecolor": "#2a3f5f",
             "gridcolor": "white",
             "linecolor": "white",
             "minorgridcolor": "white",
             "startlinecolor": "#2a3f5f"
            },
            "baxis": {
             "endlinecolor": "#2a3f5f",
             "gridcolor": "white",
             "linecolor": "white",
             "minorgridcolor": "white",
             "startlinecolor": "#2a3f5f"
            },
            "type": "carpet"
           }
          ],
          "choropleth": [
           {
            "colorbar": {
             "outlinewidth": 0,
             "ticks": ""
            },
            "type": "choropleth"
           }
          ],
          "contour": [
           {
            "colorbar": {
             "outlinewidth": 0,
             "ticks": ""
            },
            "colorscale": [
             [
              0,
              "#0d0887"
             ],
             [
              0.1111111111111111,
              "#46039f"
             ],
             [
              0.2222222222222222,
              "#7201a8"
             ],
             [
              0.3333333333333333,
              "#9c179e"
             ],
             [
              0.4444444444444444,
              "#bd3786"
             ],
             [
              0.5555555555555556,
              "#d8576b"
             ],
             [
              0.6666666666666666,
              "#ed7953"
             ],
             [
              0.7777777777777778,
              "#fb9f3a"
             ],
             [
              0.8888888888888888,
              "#fdca26"
             ],
             [
              1,
              "#f0f921"
             ]
            ],
            "type": "contour"
           }
          ],
          "contourcarpet": [
           {
            "colorbar": {
             "outlinewidth": 0,
             "ticks": ""
            },
            "type": "contourcarpet"
           }
          ],
          "heatmap": [
           {
            "colorbar": {
             "outlinewidth": 0,
             "ticks": ""
            },
            "colorscale": [
             [
              0,
              "#0d0887"
             ],
             [
              0.1111111111111111,
              "#46039f"
             ],
             [
              0.2222222222222222,
              "#7201a8"
             ],
             [
              0.3333333333333333,
              "#9c179e"
             ],
             [
              0.4444444444444444,
              "#bd3786"
             ],
             [
              0.5555555555555556,
              "#d8576b"
             ],
             [
              0.6666666666666666,
              "#ed7953"
             ],
             [
              0.7777777777777778,
              "#fb9f3a"
             ],
             [
              0.8888888888888888,
              "#fdca26"
             ],
             [
              1,
              "#f0f921"
             ]
            ],
            "type": "heatmap"
           }
          ],
          "heatmapgl": [
           {
            "colorbar": {
             "outlinewidth": 0,
             "ticks": ""
            },
            "colorscale": [
             [
              0,
              "#0d0887"
             ],
             [
              0.1111111111111111,
              "#46039f"
             ],
             [
              0.2222222222222222,
              "#7201a8"
             ],
             [
              0.3333333333333333,
              "#9c179e"
             ],
             [
              0.4444444444444444,
              "#bd3786"
             ],
             [
              0.5555555555555556,
              "#d8576b"
             ],
             [
              0.6666666666666666,
              "#ed7953"
             ],
             [
              0.7777777777777778,
              "#fb9f3a"
             ],
             [
              0.8888888888888888,
              "#fdca26"
             ],
             [
              1,
              "#f0f921"
             ]
            ],
            "type": "heatmapgl"
           }
          ],
          "histogram": [
           {
            "marker": {
             "colorbar": {
              "outlinewidth": 0,
              "ticks": ""
             }
            },
            "type": "histogram"
           }
          ],
          "histogram2d": [
           {
            "colorbar": {
             "outlinewidth": 0,
             "ticks": ""
            },
            "colorscale": [
             [
              0,
              "#0d0887"
             ],
             [
              0.1111111111111111,
              "#46039f"
             ],
             [
              0.2222222222222222,
              "#7201a8"
             ],
             [
              0.3333333333333333,
              "#9c179e"
             ],
             [
              0.4444444444444444,
              "#bd3786"
             ],
             [
              0.5555555555555556,
              "#d8576b"
             ],
             [
              0.6666666666666666,
              "#ed7953"
             ],
             [
              0.7777777777777778,
              "#fb9f3a"
             ],
             [
              0.8888888888888888,
              "#fdca26"
             ],
             [
              1,
              "#f0f921"
             ]
            ],
            "type": "histogram2d"
           }
          ],
          "histogram2dcontour": [
           {
            "colorbar": {
             "outlinewidth": 0,
             "ticks": ""
            },
            "colorscale": [
             [
              0,
              "#0d0887"
             ],
             [
              0.1111111111111111,
              "#46039f"
             ],
             [
              0.2222222222222222,
              "#7201a8"
             ],
             [
              0.3333333333333333,
              "#9c179e"
             ],
             [
              0.4444444444444444,
              "#bd3786"
             ],
             [
              0.5555555555555556,
              "#d8576b"
             ],
             [
              0.6666666666666666,
              "#ed7953"
             ],
             [
              0.7777777777777778,
              "#fb9f3a"
             ],
             [
              0.8888888888888888,
              "#fdca26"
             ],
             [
              1,
              "#f0f921"
             ]
            ],
            "type": "histogram2dcontour"
           }
          ],
          "mesh3d": [
           {
            "colorbar": {
             "outlinewidth": 0,
             "ticks": ""
            },
            "type": "mesh3d"
           }
          ],
          "parcoords": [
           {
            "line": {
             "colorbar": {
              "outlinewidth": 0,
              "ticks": ""
             }
            },
            "type": "parcoords"
           }
          ],
          "scatter": [
           {
            "marker": {
             "colorbar": {
              "outlinewidth": 0,
              "ticks": ""
             }
            },
            "type": "scatter"
           }
          ],
          "scatter3d": [
           {
            "line": {
             "colorbar": {
              "outlinewidth": 0,
              "ticks": ""
             }
            },
            "marker": {
             "colorbar": {
              "outlinewidth": 0,
              "ticks": ""
             }
            },
            "type": "scatter3d"
           }
          ],
          "scattercarpet": [
           {
            "marker": {
             "colorbar": {
              "outlinewidth": 0,
              "ticks": ""
             }
            },
            "type": "scattercarpet"
           }
          ],
          "scattergeo": [
           {
            "marker": {
             "colorbar": {
              "outlinewidth": 0,
              "ticks": ""
             }
            },
            "type": "scattergeo"
           }
          ],
          "scattergl": [
           {
            "marker": {
             "colorbar": {
              "outlinewidth": 0,
              "ticks": ""
             }
            },
            "type": "scattergl"
           }
          ],
          "scattermapbox": [
           {
            "marker": {
             "colorbar": {
              "outlinewidth": 0,
              "ticks": ""
             }
            },
            "type": "scattermapbox"
           }
          ],
          "scatterpolar": [
           {
            "marker": {
             "colorbar": {
              "outlinewidth": 0,
              "ticks": ""
             }
            },
            "type": "scatterpolar"
           }
          ],
          "scatterpolargl": [
           {
            "marker": {
             "colorbar": {
              "outlinewidth": 0,
              "ticks": ""
             }
            },
            "type": "scatterpolargl"
           }
          ],
          "scatterternary": [
           {
            "marker": {
             "colorbar": {
              "outlinewidth": 0,
              "ticks": ""
             }
            },
            "type": "scatterternary"
           }
          ],
          "surface": [
           {
            "colorbar": {
             "outlinewidth": 0,
             "ticks": ""
            },
            "colorscale": [
             [
              0,
              "#0d0887"
             ],
             [
              0.1111111111111111,
              "#46039f"
             ],
             [
              0.2222222222222222,
              "#7201a8"
             ],
             [
              0.3333333333333333,
              "#9c179e"
             ],
             [
              0.4444444444444444,
              "#bd3786"
             ],
             [
              0.5555555555555556,
              "#d8576b"
             ],
             [
              0.6666666666666666,
              "#ed7953"
             ],
             [
              0.7777777777777778,
              "#fb9f3a"
             ],
             [
              0.8888888888888888,
              "#fdca26"
             ],
             [
              1,
              "#f0f921"
             ]
            ],
            "type": "surface"
           }
          ],
          "table": [
           {
            "cells": {
             "fill": {
              "color": "#EBF0F8"
             },
             "line": {
              "color": "white"
             }
            },
            "header": {
             "fill": {
              "color": "#C8D4E3"
             },
             "line": {
              "color": "white"
             }
            },
            "type": "table"
           }
          ]
         },
         "layout": {
          "annotationdefaults": {
           "arrowcolor": "#2a3f5f",
           "arrowhead": 0,
           "arrowwidth": 1
          },
          "colorscale": {
           "diverging": [
            [
             0,
             "#8e0152"
            ],
            [
             0.1,
             "#c51b7d"
            ],
            [
             0.2,
             "#de77ae"
            ],
            [
             0.3,
             "#f1b6da"
            ],
            [
             0.4,
             "#fde0ef"
            ],
            [
             0.5,
             "#f7f7f7"
            ],
            [
             0.6,
             "#e6f5d0"
            ],
            [
             0.7,
             "#b8e186"
            ],
            [
             0.8,
             "#7fbc41"
            ],
            [
             0.9,
             "#4d9221"
            ],
            [
             1,
             "#276419"
            ]
           ],
           "sequential": [
            [
             0,
             "#0d0887"
            ],
            [
             0.1111111111111111,
             "#46039f"
            ],
            [
             0.2222222222222222,
             "#7201a8"
            ],
            [
             0.3333333333333333,
             "#9c179e"
            ],
            [
             0.4444444444444444,
             "#bd3786"
            ],
            [
             0.5555555555555556,
             "#d8576b"
            ],
            [
             0.6666666666666666,
             "#ed7953"
            ],
            [
             0.7777777777777778,
             "#fb9f3a"
            ],
            [
             0.8888888888888888,
             "#fdca26"
            ],
            [
             1,
             "#f0f921"
            ]
           ],
           "sequentialminus": [
            [
             0,
             "#0d0887"
            ],
            [
             0.1111111111111111,
             "#46039f"
            ],
            [
             0.2222222222222222,
             "#7201a8"
            ],
            [
             0.3333333333333333,
             "#9c179e"
            ],
            [
             0.4444444444444444,
             "#bd3786"
            ],
            [
             0.5555555555555556,
             "#d8576b"
            ],
            [
             0.6666666666666666,
             "#ed7953"
            ],
            [
             0.7777777777777778,
             "#fb9f3a"
            ],
            [
             0.8888888888888888,
             "#fdca26"
            ],
            [
             1,
             "#f0f921"
            ]
           ]
          },
          "colorway": [
           "#636efa",
           "#EF553B",
           "#00cc96",
           "#ab63fa",
           "#FFA15A",
           "#19d3f3",
           "#FF6692",
           "#B6E880",
           "#FF97FF",
           "#FECB52"
          ],
          "font": {
           "color": "#2a3f5f"
          },
          "geo": {
           "bgcolor": "white",
           "lakecolor": "white",
           "landcolor": "#E5ECF6",
           "showlakes": true,
           "showland": true,
           "subunitcolor": "white"
          },
          "hoverlabel": {
           "align": "left"
          },
          "hovermode": "closest",
          "mapbox": {
           "style": "light"
          },
          "paper_bgcolor": "white",
          "plot_bgcolor": "#E5ECF6",
          "polar": {
           "angularaxis": {
            "gridcolor": "white",
            "linecolor": "white",
            "ticks": ""
           },
           "bgcolor": "#E5ECF6",
           "radialaxis": {
            "gridcolor": "white",
            "linecolor": "white",
            "ticks": ""
           }
          },
          "scene": {
           "xaxis": {
            "backgroundcolor": "#E5ECF6",
            "gridcolor": "white",
            "gridwidth": 2,
            "linecolor": "white",
            "showbackground": true,
            "ticks": "",
            "zerolinecolor": "white"
           },
           "yaxis": {
            "backgroundcolor": "#E5ECF6",
            "gridcolor": "white",
            "gridwidth": 2,
            "linecolor": "white",
            "showbackground": true,
            "ticks": "",
            "zerolinecolor": "white"
           },
           "zaxis": {
            "backgroundcolor": "#E5ECF6",
            "gridcolor": "white",
            "gridwidth": 2,
            "linecolor": "white",
            "showbackground": true,
            "ticks": "",
            "zerolinecolor": "white"
           }
          },
          "shapedefaults": {
           "line": {
            "color": "#2a3f5f"
           }
          },
          "ternary": {
           "aaxis": {
            "gridcolor": "white",
            "linecolor": "white",
            "ticks": ""
           },
           "baxis": {
            "gridcolor": "white",
            "linecolor": "white",
            "ticks": ""
           },
           "bgcolor": "#E5ECF6",
           "caxis": {
            "gridcolor": "white",
            "linecolor": "white",
            "ticks": ""
           }
          },
          "title": {
           "x": 0.05
          },
          "xaxis": {
           "automargin": true,
           "gridcolor": "white",
           "linecolor": "white",
           "ticks": "",
           "zerolinecolor": "white",
           "zerolinewidth": 2
          },
          "yaxis": {
           "automargin": true,
           "gridcolor": "white",
           "linecolor": "white",
           "ticks": "",
           "zerolinecolor": "white",
           "zerolinewidth": 2
          }
         }
        },
        "title": {
         "text": "<b>Cross validation - 5 folds"
        },
        "width": 800
       }
      },
      "text/html": [
       "<div>\n",
       "        \n",
       "        \n",
       "            <div id=\"49afcc74-c7a8-43e4-95bf-8fdd0681aed9\" class=\"plotly-graph-div\" style=\"height:400px; width:800px;\"></div>\n",
       "            <script type=\"text/javascript\">\n",
       "                require([\"plotly\"], function(Plotly) {\n",
       "                    window.PLOTLYENV=window.PLOTLYENV || {};\n",
       "                    \n",
       "                if (document.getElementById(\"49afcc74-c7a8-43e4-95bf-8fdd0681aed9\")) {\n",
       "                    Plotly.newPlot(\n",
       "                        '49afcc74-c7a8-43e4-95bf-8fdd0681aed9',\n",
       "                        [{\"cells\": {\"align\": [\"center\"], \"fill\": {\"color\": \"#EDFAFF\"}, \"font\": {\"size\": 15}, \"line\": {\"color\": \"#7D7F80\"}, \"values\": [[\"1\", \"2\", \"3\", \"4\", \"5\", \"mean\", \"std\"], [0.8659, 0.838, 0.8596, 0.8315, 0.8362, 0.8462, 0.0138], [0.8689, 0.803, 0.8772, 0.88, 0.8197, 0.8497, 0.032], [0.7681, 0.7681, 0.7353, 0.6471, 0.7353, 0.7308, 0.0444], [0.8154, 0.7852, 0.8, 0.7458, 0.7752, 0.7843, 0.0236], [0.885, 0.842, 0.8818, 0.8763, 0.8973, 0.8765, 0.0186]]}, \"header\": {\"align\": [\"center\"], \"fill\": {\"color\": \"#a1c3d1\"}, \"font\": {\"size\": 15}, \"line\": {\"color\": \"#7D7F80\"}, \"values\": [\"<b>Fold\", \"<b>Accuracy\", \"<b>Precision\", \"<b>Recall\", \"<b>F1 score\", \"<b>Roc auc\"]}, \"type\": \"table\"}],\n",
       "                        {\"font\": {\"size\": 15}, \"height\": 400, \"template\": {\"data\": {\"bar\": [{\"error_x\": {\"color\": \"#2a3f5f\"}, \"error_y\": {\"color\": \"#2a3f5f\"}, \"marker\": {\"line\": {\"color\": \"#E5ECF6\", \"width\": 0.5}}, \"type\": \"bar\"}], \"barpolar\": [{\"marker\": {\"line\": {\"color\": \"#E5ECF6\", \"width\": 0.5}}, \"type\": \"barpolar\"}], \"carpet\": [{\"aaxis\": {\"endlinecolor\": \"#2a3f5f\", \"gridcolor\": \"white\", \"linecolor\": \"white\", \"minorgridcolor\": \"white\", \"startlinecolor\": \"#2a3f5f\"}, \"baxis\": {\"endlinecolor\": \"#2a3f5f\", \"gridcolor\": \"white\", \"linecolor\": \"white\", \"minorgridcolor\": \"white\", \"startlinecolor\": \"#2a3f5f\"}, \"type\": \"carpet\"}], \"choropleth\": [{\"colorbar\": {\"outlinewidth\": 0, \"ticks\": \"\"}, \"type\": \"choropleth\"}], \"contour\": [{\"colorbar\": {\"outlinewidth\": 0, \"ticks\": \"\"}, \"colorscale\": [[0.0, \"#0d0887\"], [0.1111111111111111, \"#46039f\"], [0.2222222222222222, \"#7201a8\"], [0.3333333333333333, \"#9c179e\"], [0.4444444444444444, \"#bd3786\"], [0.5555555555555556, \"#d8576b\"], [0.6666666666666666, \"#ed7953\"], [0.7777777777777778, \"#fb9f3a\"], [0.8888888888888888, \"#fdca26\"], [1.0, \"#f0f921\"]], \"type\": \"contour\"}], \"contourcarpet\": [{\"colorbar\": {\"outlinewidth\": 0, \"ticks\": \"\"}, \"type\": \"contourcarpet\"}], \"heatmap\": [{\"colorbar\": {\"outlinewidth\": 0, \"ticks\": \"\"}, \"colorscale\": [[0.0, \"#0d0887\"], [0.1111111111111111, \"#46039f\"], [0.2222222222222222, \"#7201a8\"], [0.3333333333333333, \"#9c179e\"], [0.4444444444444444, \"#bd3786\"], [0.5555555555555556, \"#d8576b\"], [0.6666666666666666, \"#ed7953\"], [0.7777777777777778, \"#fb9f3a\"], [0.8888888888888888, \"#fdca26\"], [1.0, \"#f0f921\"]], \"type\": \"heatmap\"}], \"heatmapgl\": [{\"colorbar\": {\"outlinewidth\": 0, \"ticks\": \"\"}, \"colorscale\": [[0.0, \"#0d0887\"], [0.1111111111111111, \"#46039f\"], [0.2222222222222222, \"#7201a8\"], [0.3333333333333333, \"#9c179e\"], [0.4444444444444444, \"#bd3786\"], [0.5555555555555556, \"#d8576b\"], [0.6666666666666666, \"#ed7953\"], [0.7777777777777778, \"#fb9f3a\"], [0.8888888888888888, \"#fdca26\"], [1.0, \"#f0f921\"]], \"type\": \"heatmapgl\"}], \"histogram\": [{\"marker\": {\"colorbar\": {\"outlinewidth\": 0, \"ticks\": \"\"}}, \"type\": \"histogram\"}], \"histogram2d\": [{\"colorbar\": {\"outlinewidth\": 0, \"ticks\": \"\"}, \"colorscale\": [[0.0, \"#0d0887\"], [0.1111111111111111, \"#46039f\"], [0.2222222222222222, \"#7201a8\"], [0.3333333333333333, \"#9c179e\"], [0.4444444444444444, \"#bd3786\"], [0.5555555555555556, \"#d8576b\"], [0.6666666666666666, \"#ed7953\"], [0.7777777777777778, \"#fb9f3a\"], [0.8888888888888888, \"#fdca26\"], [1.0, \"#f0f921\"]], \"type\": \"histogram2d\"}], \"histogram2dcontour\": [{\"colorbar\": {\"outlinewidth\": 0, \"ticks\": \"\"}, \"colorscale\": [[0.0, \"#0d0887\"], [0.1111111111111111, \"#46039f\"], [0.2222222222222222, \"#7201a8\"], [0.3333333333333333, \"#9c179e\"], [0.4444444444444444, \"#bd3786\"], [0.5555555555555556, \"#d8576b\"], [0.6666666666666666, \"#ed7953\"], [0.7777777777777778, \"#fb9f3a\"], [0.8888888888888888, \"#fdca26\"], [1.0, \"#f0f921\"]], \"type\": \"histogram2dcontour\"}], \"mesh3d\": [{\"colorbar\": {\"outlinewidth\": 0, \"ticks\": \"\"}, \"type\": \"mesh3d\"}], \"parcoords\": [{\"line\": {\"colorbar\": {\"outlinewidth\": 0, \"ticks\": \"\"}}, \"type\": \"parcoords\"}], \"scatter\": [{\"marker\": {\"colorbar\": {\"outlinewidth\": 0, \"ticks\": \"\"}}, \"type\": \"scatter\"}], \"scatter3d\": [{\"line\": {\"colorbar\": {\"outlinewidth\": 0, \"ticks\": \"\"}}, \"marker\": {\"colorbar\": {\"outlinewidth\": 0, \"ticks\": \"\"}}, \"type\": \"scatter3d\"}], \"scattercarpet\": [{\"marker\": {\"colorbar\": {\"outlinewidth\": 0, \"ticks\": \"\"}}, \"type\": \"scattercarpet\"}], \"scattergeo\": [{\"marker\": {\"colorbar\": {\"outlinewidth\": 0, \"ticks\": \"\"}}, \"type\": \"scattergeo\"}], \"scattergl\": [{\"marker\": {\"colorbar\": {\"outlinewidth\": 0, \"ticks\": \"\"}}, \"type\": \"scattergl\"}], \"scattermapbox\": [{\"marker\": {\"colorbar\": {\"outlinewidth\": 0, \"ticks\": \"\"}}, \"type\": \"scattermapbox\"}], \"scatterpolar\": [{\"marker\": {\"colorbar\": {\"outlinewidth\": 0, \"ticks\": \"\"}}, \"type\": \"scatterpolar\"}], \"scatterpolargl\": [{\"marker\": {\"colorbar\": {\"outlinewidth\": 0, \"ticks\": \"\"}}, \"type\": \"scatterpolargl\"}], \"scatterternary\": [{\"marker\": {\"colorbar\": {\"outlinewidth\": 0, \"ticks\": \"\"}}, \"type\": \"scatterternary\"}], \"surface\": [{\"colorbar\": {\"outlinewidth\": 0, \"ticks\": \"\"}, \"colorscale\": [[0.0, \"#0d0887\"], [0.1111111111111111, \"#46039f\"], [0.2222222222222222, \"#7201a8\"], [0.3333333333333333, \"#9c179e\"], [0.4444444444444444, \"#bd3786\"], [0.5555555555555556, \"#d8576b\"], [0.6666666666666666, \"#ed7953\"], [0.7777777777777778, \"#fb9f3a\"], [0.8888888888888888, \"#fdca26\"], [1.0, \"#f0f921\"]], \"type\": \"surface\"}], \"table\": [{\"cells\": {\"fill\": {\"color\": \"#EBF0F8\"}, \"line\": {\"color\": \"white\"}}, \"header\": {\"fill\": {\"color\": \"#C8D4E3\"}, \"line\": {\"color\": \"white\"}}, \"type\": \"table\"}]}, \"layout\": {\"annotationdefaults\": {\"arrowcolor\": \"#2a3f5f\", \"arrowhead\": 0, \"arrowwidth\": 1}, \"colorscale\": {\"diverging\": [[0, \"#8e0152\"], [0.1, \"#c51b7d\"], [0.2, \"#de77ae\"], [0.3, \"#f1b6da\"], [0.4, \"#fde0ef\"], [0.5, \"#f7f7f7\"], [0.6, \"#e6f5d0\"], [0.7, \"#b8e186\"], [0.8, \"#7fbc41\"], [0.9, \"#4d9221\"], [1, \"#276419\"]], \"sequential\": [[0.0, \"#0d0887\"], [0.1111111111111111, \"#46039f\"], [0.2222222222222222, \"#7201a8\"], [0.3333333333333333, \"#9c179e\"], [0.4444444444444444, \"#bd3786\"], [0.5555555555555556, \"#d8576b\"], [0.6666666666666666, \"#ed7953\"], [0.7777777777777778, \"#fb9f3a\"], [0.8888888888888888, \"#fdca26\"], [1.0, \"#f0f921\"]], \"sequentialminus\": [[0.0, \"#0d0887\"], [0.1111111111111111, \"#46039f\"], [0.2222222222222222, \"#7201a8\"], [0.3333333333333333, \"#9c179e\"], [0.4444444444444444, \"#bd3786\"], [0.5555555555555556, \"#d8576b\"], [0.6666666666666666, \"#ed7953\"], [0.7777777777777778, \"#fb9f3a\"], [0.8888888888888888, \"#fdca26\"], [1.0, \"#f0f921\"]]}, \"colorway\": [\"#636efa\", \"#EF553B\", \"#00cc96\", \"#ab63fa\", \"#FFA15A\", \"#19d3f3\", \"#FF6692\", \"#B6E880\", \"#FF97FF\", \"#FECB52\"], \"font\": {\"color\": \"#2a3f5f\"}, \"geo\": {\"bgcolor\": \"white\", \"lakecolor\": \"white\", \"landcolor\": \"#E5ECF6\", \"showlakes\": true, \"showland\": true, \"subunitcolor\": \"white\"}, \"hoverlabel\": {\"align\": \"left\"}, \"hovermode\": \"closest\", \"mapbox\": {\"style\": \"light\"}, \"paper_bgcolor\": \"white\", \"plot_bgcolor\": \"#E5ECF6\", \"polar\": {\"angularaxis\": {\"gridcolor\": \"white\", \"linecolor\": \"white\", \"ticks\": \"\"}, \"bgcolor\": \"#E5ECF6\", \"radialaxis\": {\"gridcolor\": \"white\", \"linecolor\": \"white\", \"ticks\": \"\"}}, \"scene\": {\"xaxis\": {\"backgroundcolor\": \"#E5ECF6\", \"gridcolor\": \"white\", \"gridwidth\": 2, \"linecolor\": \"white\", \"showbackground\": true, \"ticks\": \"\", \"zerolinecolor\": \"white\"}, \"yaxis\": {\"backgroundcolor\": \"#E5ECF6\", \"gridcolor\": \"white\", \"gridwidth\": 2, \"linecolor\": \"white\", \"showbackground\": true, \"ticks\": \"\", \"zerolinecolor\": \"white\"}, \"zaxis\": {\"backgroundcolor\": \"#E5ECF6\", \"gridcolor\": \"white\", \"gridwidth\": 2, \"linecolor\": \"white\", \"showbackground\": true, \"ticks\": \"\", \"zerolinecolor\": \"white\"}}, \"shapedefaults\": {\"line\": {\"color\": \"#2a3f5f\"}}, \"ternary\": {\"aaxis\": {\"gridcolor\": \"white\", \"linecolor\": \"white\", \"ticks\": \"\"}, \"baxis\": {\"gridcolor\": \"white\", \"linecolor\": \"white\", \"ticks\": \"\"}, \"bgcolor\": \"#E5ECF6\", \"caxis\": {\"gridcolor\": \"white\", \"linecolor\": \"white\", \"ticks\": \"\"}}, \"title\": {\"x\": 0.05}, \"xaxis\": {\"automargin\": true, \"gridcolor\": \"white\", \"linecolor\": \"white\", \"ticks\": \"\", \"zerolinecolor\": \"white\", \"zerolinewidth\": 2}, \"yaxis\": {\"automargin\": true, \"gridcolor\": \"white\", \"linecolor\": \"white\", \"ticks\": \"\", \"zerolinecolor\": \"white\", \"zerolinewidth\": 2}}}, \"title\": {\"text\": \"<b>Cross validation - 5 folds\"}, \"width\": 800},\n",
       "                        {\"responsive\": true}\n",
       "                    ).then(function(){\n",
       "                            \n",
       "var gd = document.getElementById('49afcc74-c7a8-43e4-95bf-8fdd0681aed9');\n",
       "var x = new MutationObserver(function (mutations, observer) {{\n",
       "        var display = window.getComputedStyle(gd).display;\n",
       "        if (!display || display === 'none') {{\n",
       "            console.log([gd, 'removed!']);\n",
       "            Plotly.purge(gd);\n",
       "            observer.disconnect();\n",
       "        }}\n",
       "}});\n",
       "\n",
       "// Listen for the removal of the full notebook cells\n",
       "var notebookContainer = gd.closest('#notebook-container');\n",
       "if (notebookContainer) {{\n",
       "    x.observe(notebookContainer, {childList: true});\n",
       "}}\n",
       "\n",
       "// Listen for the clearing of the current output cell\n",
       "var outputEl = gd.closest('.output');\n",
       "if (outputEl) {{\n",
       "    x.observe(outputEl, {childList: true});\n",
       "}}\n",
       "\n",
       "                        })\n",
       "                };\n",
       "                });\n",
       "            </script>\n",
       "        </div>"
      ]
     },
     "metadata": {},
     "output_type": "display_data"
    }
   ],
   "source": [
    "scores = ['accuracy', 'precision', 'recall', 'f1', 'roc_auc']\n",
    "res = []\n",
    "for sc in scores:\n",
    "    scores = cross_val_score(lgbm_clf, X, y, cv = 5, scoring = sc)\n",
    "    #print(sc, scores)\n",
    "    res.append(scores)\n",
    "df = pd.DataFrame(res).T\n",
    "df.loc['mean'] = df.mean()\n",
    "df.loc['std'] = df.std()\n",
    "df= df.rename(columns={0: 'accuracy', 1:'precision', 2:'recall',3:'f1',4:'roc_auc'})\n",
    "\n",
    "trace = go.Table(\n",
    "    header=dict(values=['<b>Fold', '<b>Accuracy', '<b>Precision', '<b>Recall', '<b>F1 score', '<b>Roc auc'],\n",
    "                line = dict(color='#7D7F80'),\n",
    "                fill = dict(color='#a1c3d1'),\n",
    "                align = ['center'],\n",
    "                font = dict(size = 15)),\n",
    "    cells=dict(values=[('1','2','3','4','5','mean', 'std'),\n",
    "                       np.round(df['accuracy'],4),\n",
    "                       np.round(df['precision'],4),\n",
    "                       np.round(df['recall'],4),\n",
    "                       np.round(df['f1'],4),\n",
    "                       np.round(df['roc_auc'],4)],\n",
    "               line = dict(color='#7D7F80'),\n",
    "               fill = dict(color='#EDFAFF'),\n",
    "               align = ['center'], font = dict(size = 15)))\n",
    "\n",
    "layout = dict(width=800, height=400, title = '<b>Cross validation - 5 folds', font = dict(size = 15))\n",
    "fig = dict(data=[trace], layout=layout)\n",
    "py.iplot(fig, filename = 'styled_table')\n",
    "\n"
   ]
  },
  {
   "cell_type": "code",
   "execution_count": 35,
   "metadata": {},
   "outputs": [],
   "source": [
    "\n",
    "\n",
    "lgbm_clf = lgbm.LGBMClassifier(**opt_parameters)\n",
    "lgbm_clf.fit(X, y)\n",
    "y_pred = lgbm_clf.predict(X_test)"
   ]
  },
  {
   "cell_type": "code",
   "execution_count": 42,
   "metadata": {},
   "outputs": [],
   "source": [
    "passenger_id=test_df['PassengerId']\n"
   ]
  },
  {
   "cell_type": "code",
   "execution_count": 44,
   "metadata": {},
   "outputs": [],
   "source": [
    "temp = pd.DataFrame(pd.DataFrame({\n",
    "        \"PassengerId\": passenger_id,\n",
    "        \"Survived\": y_pred\n",
    "    }))"
   ]
  },
  {
   "cell_type": "code",
   "execution_count": 46,
   "metadata": {},
   "outputs": [],
   "source": [
    "\n",
    "temp['Survived'] = y_pred\n",
    "temp.to_csv('submission_1_.csv', index = False)"
   ]
  }
 ],
 "metadata": {
  "kernelspec": {
   "display_name": "Python 3",
   "language": "python",
   "name": "python3"
  },
  "language_info": {
   "codemirror_mode": {
    "name": "ipython",
    "version": 3
   },
   "file_extension": ".py",
   "mimetype": "text/x-python",
   "name": "python",
   "nbconvert_exporter": "python",
   "pygments_lexer": "ipython3",
   "version": "3.7.3"
  }
 },
 "nbformat": 4,
 "nbformat_minor": 4
}
